{
 "cells": [
  {
   "cell_type": "code",
   "execution_count": 0,
   "metadata": {
    "application/vnd.databricks.v1+cell": {
     "inputWidgets": {},
     "nuid": "c100b05b-8b52-4fcd-afae-09db56701677",
     "showTitle": false,
     "title": ""
    }
   },
   "outputs": [
    {
     "data": {
      "text/html": [
       "<style scoped>\n",
       "  .ansiout {\n",
       "    display: block;\n",
       "    unicode-bidi: embed;\n",
       "    white-space: pre-wrap;\n",
       "    word-wrap: break-word;\n",
       "    word-break: break-all;\n",
       "    font-family: \"Source Code Pro\", \"Menlo\", monospace;;\n",
       "    font-size: 13px;\n",
       "    color: #555;\n",
       "    margin-left: 4px;\n",
       "    line-height: 19px;\n",
       "  }\n",
       "</style>\n",
       "<div class=\"ansiout\"></div>"
      ]
     },
     "metadata": {
      "application/vnd.databricks.v1+output": {
       "addedWidgets": {},
       "arguments": {},
       "data": "<div class=\"ansiout\"></div>",
       "datasetInfos": [],
       "metadata": {},
       "removedWidgets": [],
       "type": "html"
      }
     },
     "output_type": "display_data"
    }
   ],
   "source": [
    "#Importing the necessary libraries\n",
    "\n",
    "from pyspark.sql import SparkSession\n",
    "from pyspark.sql.types import StructType, StructField, StringType, IntegerType, DateType\n",
    "from pyspark.sql.types import *\n",
    "from pyspark.sql.functions import col \n",
    "from pyspark.sql.functions import to_date\n",
    "from pyspark.sql.functions import lit\n",
    "from pyspark.sql.functions import sum, avg, max, min, mean, count\n",
    "from pyspark.sql.functions import *\n",
    "from datetime import datetime, date\n",
    "import pandas as pd\n",
    "from pyspark.sql.functions import to_timestamp\n",
    "from pyspark.sql.functions import unix_timestamp, from_unixtime\n",
    "from pyspark.sql.types import TimestampType\n",
    "from pyspark.sql import functions as F\n",
    "spark.sql(\"set spark.sql.legacy.timeParserPolicy=LEGACY\")\n",
    "\n",
    "# Facebook Prophet Model\n",
    "%pip install pystan==2.19.1.1 \n",
    "%pip install fbprophet\n",
    "from fbprophet import Prophet"
   ]
  },
  {
   "cell_type": "code",
   "execution_count": 0,
   "metadata": {
    "application/vnd.databricks.v1+cell": {
     "inputWidgets": {},
     "nuid": "cf3d5e59-1d20-48c0-8a7c-89a721a777c6",
     "showTitle": false,
     "title": ""
    }
   },
   "outputs": [
    {
     "data": {
      "text/html": [
       "<style scoped>\n",
       "  .ansiout {\n",
       "    display: block;\n",
       "    unicode-bidi: embed;\n",
       "    white-space: pre-wrap;\n",
       "    word-wrap: break-word;\n",
       "    word-break: break-all;\n",
       "    font-family: \"Source Code Pro\", \"Menlo\", monospace;;\n",
       "    font-size: 13px;\n",
       "    color: #555;\n",
       "    margin-left: 4px;\n",
       "    line-height: 19px;\n",
       "  }\n",
       "</style>\n",
       "<div class=\"ansiout\"></div>"
      ]
     },
     "metadata": {
      "application/vnd.databricks.v1+output": {
       "addedWidgets": {},
       "arguments": {},
       "data": "<div class=\"ansiout\"></div>",
       "datasetInfos": [],
       "metadata": {},
       "removedWidgets": [],
       "type": "html"
      }
     },
     "output_type": "display_data"
    }
   ],
   "source": [
    "# Amazon S3 file paths to retrieve teh stored data\n",
    "\n",
    "path='s3a://just-abdul-aws/NTA/Yellow_Taxi_Trip_Data_2020.csv'\n",
    "path_location='s3a://just-abdul-aws/NTA/taxi_zones.csv'"
   ]
  },
  {
   "cell_type": "code",
   "execution_count": 0,
   "metadata": {
    "application/vnd.databricks.v1+cell": {
     "inputWidgets": {},
     "nuid": "7537c324-a053-488e-b091-a0ec06f35b8f",
     "showTitle": false,
     "title": ""
    }
   },
   "outputs": [
    {
     "data": {
      "text/html": [
       "<style scoped>\n",
       "  .ansiout {\n",
       "    display: block;\n",
       "    unicode-bidi: embed;\n",
       "    white-space: pre-wrap;\n",
       "    word-wrap: break-word;\n",
       "    word-break: break-all;\n",
       "    font-family: \"Source Code Pro\", \"Menlo\", monospace;;\n",
       "    font-size: 13px;\n",
       "    color: #555;\n",
       "    margin-left: 4px;\n",
       "    line-height: 19px;\n",
       "  }\n",
       "</style>\n",
       "<div class=\"ansiout\"></div>"
      ]
     },
     "metadata": {
      "application/vnd.databricks.v1+output": {
       "addedWidgets": {},
       "arguments": {},
       "data": "<div class=\"ansiout\"></div>",
       "datasetInfos": [],
       "metadata": {},
       "removedWidgets": [],
       "type": "html"
      }
     },
     "output_type": "display_data"
    }
   ],
   "source": [
    "# Reading the data\n",
    "\n",
    "df = spark.read.csv(path, header=True, inferSchema=True)\n",
    "df_location = spark.read.csv(path_location, header=True, inferSchema=True)"
   ]
  },
  {
   "cell_type": "code",
   "execution_count": 0,
   "metadata": {
    "application/vnd.databricks.v1+cell": {
     "inputWidgets": {},
     "nuid": "4821adef-fd6a-42b7-8bed-eeb473793947",
     "showTitle": false,
     "title": ""
    }
   },
   "outputs": [
    {
     "data": {
      "text/html": [
       "<style scoped>\n",
       "  .table-result-container {\n",
       "    max-height: 300px;\n",
       "    overflow: auto;\n",
       "  }\n",
       "  table, th, td {\n",
       "    border: 1px solid black;\n",
       "    border-collapse: collapse;\n",
       "  }\n",
       "  th, td {\n",
       "    padding: 5px;\n",
       "  }\n",
       "  th {\n",
       "    text-align: left;\n",
       "  }\n",
       "</style><div class='table-result-container'><table class='table-result'><thead style='background-color: white'><tr><th>VendorID</th><th>tpep_pickup_datetime</th><th>tpep_dropoff_datetime</th><th>passenger_count</th><th>trip_distance</th><th>RatecodeID</th><th>store_and_fwd_flag</th><th>PULocationID</th><th>DOLocationID</th><th>payment_type</th><th>fare_amount</th><th>extra</th><th>mta_tax</th><th>tip_amount</th><th>tolls_amount</th><th>improvement_surcharge</th><th>total_amount</th><th>congestion_surcharge</th></tr></thead><tbody><tr><td>1</td><td>01/01/2020 12:28:15 AM</td><td>01/01/2020 12:33:03 AM</td><td>1</td><td>1.2</td><td>1</td><td>N</td><td>238</td><td>239</td><td>1</td><td>6</td><td>3</td><td>0.5</td><td>1.47</td><td>0.0</td><td>0.3</td><td>11.27</td><td>2.5</td></tr><tr><td>1</td><td>01/01/2020 12:35:39 AM</td><td>01/01/2020 12:43:04 AM</td><td>1</td><td>1.2</td><td>1</td><td>N</td><td>239</td><td>238</td><td>1</td><td>7</td><td>3</td><td>0.5</td><td>1.5</td><td>0.0</td><td>0.3</td><td>12.3</td><td>2.5</td></tr><tr><td>1</td><td>01/01/2020 12:47:41 AM</td><td>01/01/2020 12:53:52 AM</td><td>1</td><td>0.6</td><td>1</td><td>N</td><td>238</td><td>238</td><td>1</td><td>6</td><td>3</td><td>0.5</td><td>1</td><td>0.0</td><td>0.3</td><td>10.8</td><td>2.5</td></tr><tr><td>1</td><td>01/01/2020 12:55:23 AM</td><td>01/01/2020 01:00:14 AM</td><td>1</td><td>0.8</td><td>1</td><td>N</td><td>238</td><td>151</td><td>1</td><td>5.5</td><td>0.5</td><td>0.5</td><td>1.36</td><td>0.0</td><td>0.3</td><td>8.16</td><td>0.0</td></tr><tr><td>2</td><td>01/01/2020 12:01:58 AM</td><td>01/01/2020 12:04:16 AM</td><td>1</td><td>0</td><td>1</td><td>N</td><td>193</td><td>193</td><td>2</td><td>3.5</td><td>0.5</td><td>0.5</td><td>0</td><td>0.0</td><td>0.3</td><td>4.8</td><td>0.0</td></tr></tbody></table></div>"
      ]
     },
     "metadata": {
      "application/vnd.databricks.v1+output": {
       "addedWidgets": {},
       "aggData": [],
       "aggError": "",
       "aggOverflow": false,
       "aggSchema": [],
       "aggSeriesLimitReached": false,
       "aggType": "",
       "arguments": {},
       "columnCustomDisplayInfos": {},
       "data": [
        [
         1,
         "01/01/2020 12:28:15 AM",
         "01/01/2020 12:33:03 AM",
         1,
         "1.2",
         1,
         "N",
         238,
         239,
         1,
         "6",
         "3",
         "0.5",
         "1.47",
         0,
         0.3,
         "11.27",
         2.5
        ],
        [
         1,
         "01/01/2020 12:35:39 AM",
         "01/01/2020 12:43:04 AM",
         1,
         "1.2",
         1,
         "N",
         239,
         238,
         1,
         "7",
         "3",
         "0.5",
         "1.5",
         0,
         0.3,
         "12.3",
         2.5
        ],
        [
         1,
         "01/01/2020 12:47:41 AM",
         "01/01/2020 12:53:52 AM",
         1,
         "0.6",
         1,
         "N",
         238,
         238,
         1,
         "6",
         "3",
         "0.5",
         "1",
         0,
         0.3,
         "10.8",
         2.5
        ],
        [
         1,
         "01/01/2020 12:55:23 AM",
         "01/01/2020 01:00:14 AM",
         1,
         "0.8",
         1,
         "N",
         238,
         151,
         1,
         "5.5",
         "0.5",
         "0.5",
         "1.36",
         0,
         0.3,
         "8.16",
         0
        ],
        [
         2,
         "01/01/2020 12:01:58 AM",
         "01/01/2020 12:04:16 AM",
         1,
         "0",
         1,
         "N",
         193,
         193,
         2,
         "3.5",
         "0.5",
         "0.5",
         "0",
         0,
         0.3,
         "4.8",
         0
        ]
       ],
       "datasetInfos": [],
       "dbfsResultPath": null,
       "isJsonSchema": true,
       "metadata": {},
       "overflow": false,
       "plotOptions": {
        "customPlotOptions": {},
        "displayType": "table",
        "pivotAggregation": null,
        "pivotColumns": null,
        "xColumns": null,
        "yColumns": null
       },
       "removedWidgets": [],
       "schema": [
        {
         "metadata": "{}",
         "name": "VendorID",
         "type": "\"integer\""
        },
        {
         "metadata": "{}",
         "name": "tpep_pickup_datetime",
         "type": "\"string\""
        },
        {
         "metadata": "{}",
         "name": "tpep_dropoff_datetime",
         "type": "\"string\""
        },
        {
         "metadata": "{}",
         "name": "passenger_count",
         "type": "\"integer\""
        },
        {
         "metadata": "{}",
         "name": "trip_distance",
         "type": "\"string\""
        },
        {
         "metadata": "{}",
         "name": "RatecodeID",
         "type": "\"integer\""
        },
        {
         "metadata": "{}",
         "name": "store_and_fwd_flag",
         "type": "\"string\""
        },
        {
         "metadata": "{}",
         "name": "PULocationID",
         "type": "\"integer\""
        },
        {
         "metadata": "{}",
         "name": "DOLocationID",
         "type": "\"integer\""
        },
        {
         "metadata": "{}",
         "name": "payment_type",
         "type": "\"integer\""
        },
        {
         "metadata": "{}",
         "name": "fare_amount",
         "type": "\"string\""
        },
        {
         "metadata": "{}",
         "name": "extra",
         "type": "\"string\""
        },
        {
         "metadata": "{}",
         "name": "mta_tax",
         "type": "\"string\""
        },
        {
         "metadata": "{}",
         "name": "tip_amount",
         "type": "\"string\""
        },
        {
         "metadata": "{}",
         "name": "tolls_amount",
         "type": "\"double\""
        },
        {
         "metadata": "{}",
         "name": "improvement_surcharge",
         "type": "\"double\""
        },
        {
         "metadata": "{}",
         "name": "total_amount",
         "type": "\"string\""
        },
        {
         "metadata": "{}",
         "name": "congestion_surcharge",
         "type": "\"double\""
        }
       ],
       "type": "table"
      }
     },
     "output_type": "display_data"
    },
    {
     "data": {
      "text/html": [
       "<style scoped>\n",
       "  .table-result-container {\n",
       "    max-height: 300px;\n",
       "    overflow: auto;\n",
       "  }\n",
       "  table, th, td {\n",
       "    border: 1px solid black;\n",
       "    border-collapse: collapse;\n",
       "  }\n",
       "  th, td {\n",
       "    padding: 5px;\n",
       "  }\n",
       "  th {\n",
       "    text-align: left;\n",
       "  }\n",
       "</style><div class='table-result-container'><table class='table-result'><thead style='background-color: white'><tr><th>X</th><th>Y</th><th>OBJECTID</th><th>Shape_Leng</th><th>Shape_Area</th><th>zone</th><th>LocationID</th><th>borough</th></tr></thead><tbody><tr><td>-74.1767857452143</td><td>40.6895156480431</td><td>1</td><td>0.116357453189</td><td>7.823067885E-4</td><td>Newark Airport</td><td>1</td><td>EWR</td></tr><tr><td>-73.8261257703202</td><td>40.6257242377511</td><td>2</td><td>0.43346966679</td><td>0.00486634037837</td><td>Jamaica Bay</td><td>2</td><td>Queens</td></tr><tr><td>-73.8494789238597</td><td>40.8658875419774</td><td>3</td><td>0.0843411059012</td><td>3.14414156821E-4</td><td>Allerton/Pelham Gardens</td><td>3</td><td>Bronx</td></tr><tr><td>-73.9770229219339</td><td>40.7241521436714</td><td>4</td><td>0.0435665270921</td><td>1.11871946192E-4</td><td>Alphabet City</td><td>4</td><td>Manhattan</td></tr><tr><td>-74.1899296712375</td><td>40.550340123832</td><td>5</td><td>0.0921464898574</td><td>4.97957489363E-4</td><td>Arden Heights</td><td>5</td><td>Staten Island</td></tr></tbody></table></div>"
      ]
     },
     "metadata": {
      "application/vnd.databricks.v1+output": {
       "addedWidgets": {},
       "aggData": [],
       "aggError": "",
       "aggOverflow": false,
       "aggSchema": [],
       "aggSeriesLimitReached": false,
       "aggType": "",
       "arguments": {},
       "columnCustomDisplayInfos": {},
       "data": [
        [
         -74.1767857452143,
         40.6895156480431,
         1,
         0.116357453189,
         0.0007823067885,
         "Newark Airport",
         1,
         "EWR"
        ],
        [
         -73.8261257703202,
         40.6257242377511,
         2,
         0.43346966679,
         0.00486634037837,
         "Jamaica Bay",
         2,
         "Queens"
        ],
        [
         -73.8494789238597,
         40.8658875419774,
         3,
         0.0843411059012,
         0.000314414156821,
         "Allerton/Pelham Gardens",
         3,
         "Bronx"
        ],
        [
         -73.9770229219339,
         40.7241521436714,
         4,
         0.0435665270921,
         0.000111871946192,
         "Alphabet City",
         4,
         "Manhattan"
        ],
        [
         -74.1899296712375,
         40.550340123832,
         5,
         0.0921464898574,
         0.000497957489363,
         "Arden Heights",
         5,
         "Staten Island"
        ]
       ],
       "datasetInfos": [],
       "dbfsResultPath": null,
       "isJsonSchema": true,
       "metadata": {},
       "overflow": false,
       "plotOptions": {
        "customPlotOptions": {},
        "displayType": "table",
        "pivotAggregation": null,
        "pivotColumns": null,
        "xColumns": null,
        "yColumns": null
       },
       "removedWidgets": [],
       "schema": [
        {
         "metadata": "{}",
         "name": "X",
         "type": "\"double\""
        },
        {
         "metadata": "{}",
         "name": "Y",
         "type": "\"double\""
        },
        {
         "metadata": "{}",
         "name": "OBJECTID",
         "type": "\"integer\""
        },
        {
         "metadata": "{}",
         "name": "Shape_Leng",
         "type": "\"double\""
        },
        {
         "metadata": "{}",
         "name": "Shape_Area",
         "type": "\"double\""
        },
        {
         "metadata": "{}",
         "name": "zone",
         "type": "\"string\""
        },
        {
         "metadata": "{}",
         "name": "LocationID",
         "type": "\"integer\""
        },
        {
         "metadata": "{}",
         "name": "borough",
         "type": "\"string\""
        }
       ],
       "type": "table"
      }
     },
     "output_type": "display_data"
    }
   ],
   "source": [
    "df.limit(5).display()\n",
    "df_location.limit(5).display()"
   ]
  },
  {
   "cell_type": "code",
   "execution_count": 0,
   "metadata": {
    "application/vnd.databricks.v1+cell": {
     "inputWidgets": {},
     "nuid": "d1723ff6-faf5-41c3-b311-34b3ce6bc604",
     "showTitle": false,
     "title": ""
    }
   },
   "outputs": [
    {
     "data": {
      "text/html": [
       "<style scoped>\n",
       "  .ansiout {\n",
       "    display: block;\n",
       "    unicode-bidi: embed;\n",
       "    white-space: pre-wrap;\n",
       "    word-wrap: break-word;\n",
       "    word-break: break-all;\n",
       "    font-family: \"Source Code Pro\", \"Menlo\", monospace;;\n",
       "    font-size: 13px;\n",
       "    color: #555;\n",
       "    margin-left: 4px;\n",
       "    line-height: 19px;\n",
       "  }\n",
       "</style>\n",
       "<div class=\"ansiout\"></div>"
      ]
     },
     "metadata": {
      "application/vnd.databricks.v1+output": {
       "addedWidgets": {},
       "arguments": {},
       "data": "<div class=\"ansiout\"></div>",
       "datasetInfos": [],
       "metadata": {},
       "removedWidgets": [],
       "type": "html"
      }
     },
     "output_type": "display_data"
    }
   ],
   "source": [
    "# To check if the Location ID's for the Trip data (Pick Up, Drop Off) and the Location data matches\n",
    "\n",
    "loc_count = df_location.select('LocationID').distinct().count()\n",
    "PU_count = df.select('PULocationID').distinct().count()\n",
    "DO_count = df.select('DOLocationID').distinct().count()"
   ]
  },
  {
   "cell_type": "code",
   "execution_count": 0,
   "metadata": {
    "application/vnd.databricks.v1+cell": {
     "inputWidgets": {},
     "nuid": "b0c654d7-817a-44a9-83b4-3da7261aa876",
     "showTitle": false,
     "title": ""
    }
   },
   "outputs": [
    {
     "data": {
      "text/html": [
       "<style scoped>\n",
       "  .ansiout {\n",
       "    display: block;\n",
       "    unicode-bidi: embed;\n",
       "    white-space: pre-wrap;\n",
       "    word-wrap: break-word;\n",
       "    word-break: break-all;\n",
       "    font-family: \"Source Code Pro\", \"Menlo\", monospace;;\n",
       "    font-size: 13px;\n",
       "    color: #555;\n",
       "    margin-left: 4px;\n",
       "    line-height: 19px;\n",
       "  }\n",
       "</style>\n",
       "<div class=\"ansiout\">The location data has: 260 distinct Location ID&#39;s\n",
       "Pick Up Location has: 262 distinct Location ID&#39;s\n",
       "Drop Off location data has: 263 distinct Location ID&#39;s\n",
       "</div>"
      ]
     },
     "metadata": {
      "application/vnd.databricks.v1+output": {
       "addedWidgets": {},
       "arguments": {},
       "data": "<div class=\"ansiout\">The location data has: 260 distinct Location ID&#39;s\nPick Up Location has: 262 distinct Location ID&#39;s\nDrop Off location data has: 263 distinct Location ID&#39;s\n</div>",
       "datasetInfos": [],
       "metadata": {},
       "removedWidgets": [],
       "type": "html"
      }
     },
     "output_type": "display_data"
    }
   ],
   "source": [
    "print(\"The location data has: \" + str(loc_count) + \" distinct Location ID's\")\n",
    "print(\"Pick Up Location has: \" + str(PU_count) + \" distinct Location ID's\")\n",
    "print(\"Drop Off location data has: \" + str(DO_count) + \" distinct Location ID's\")"
   ]
  },
  {
   "cell_type": "code",
   "execution_count": 0,
   "metadata": {
    "application/vnd.databricks.v1+cell": {
     "inputWidgets": {},
     "nuid": "8ba1374e-8949-42c1-abec-06a316b34c0e",
     "showTitle": false,
     "title": ""
    }
   },
   "outputs": [
    {
     "data": {
      "text/html": [
       "<style scoped>\n",
       "  .ansiout {\n",
       "    display: block;\n",
       "    unicode-bidi: embed;\n",
       "    white-space: pre-wrap;\n",
       "    word-wrap: break-word;\n",
       "    word-break: break-all;\n",
       "    font-family: \"Source Code Pro\", \"Menlo\", monospace;;\n",
       "    font-size: 13px;\n",
       "    color: #555;\n",
       "    margin-left: 4px;\n",
       "    line-height: 19px;\n",
       "  }\n",
       "</style>\n",
       "<div class=\"ansiout\">CPU times: user 2.15 ms, sys: 3.57 ms, total: 5.73 ms\n",
       "Wall time: 56.2 ms\n",
       "</div>"
      ]
     },
     "metadata": {
      "application/vnd.databricks.v1+output": {
       "addedWidgets": {},
       "arguments": {},
       "data": "<div class=\"ansiout\">CPU times: user 2.15 ms, sys: 3.57 ms, total: 5.73 ms\nWall time: 56.2 ms\n</div>",
       "datasetInfos": [],
       "metadata": {},
       "removedWidgets": [],
       "type": "html"
      }
     },
     "output_type": "display_data"
    }
   ],
   "source": [
    "%%time\n",
    "\n",
    "location = df_location.select(\"LocationID\",\"zone\",\"borough\")\n",
    "PU_location = location.withColumnRenamed(\"LocationID\",\"PULocationID\")\n",
    "DO_location = location.withColumnRenamed(\"LocationID\",\"DOLocationID\")\n",
    "\n",
    "PU_data = df.join(PU_location, \"PULocationID\", 'left')\n",
    "PU_data = PU_data.withColumnRenamed(\"zone\",\"PU_Zone\")\n",
    "PU_data = PU_data.withColumnRenamed(\"borough\",\"PU_Borough\")\n",
    "\n",
    "data = PU_data.join(DO_location, \"DOLocationID\", 'left')\n",
    "data = data.withColumnRenamed(\"zone\",\"DO_Zone\")\n",
    "data = data.withColumnRenamed(\"borough\",\"DO_Borough\")"
   ]
  },
  {
   "cell_type": "code",
   "execution_count": 0,
   "metadata": {
    "application/vnd.databricks.v1+cell": {
     "inputWidgets": {},
     "nuid": "04803fd8-7779-41fe-afe8-b49695356dd0",
     "showTitle": false,
     "title": ""
    }
   },
   "outputs": [
    {
     "data": {
      "text/html": [
       "<style scoped>\n",
       "  .ansiout {\n",
       "    display: block;\n",
       "    unicode-bidi: embed;\n",
       "    white-space: pre-wrap;\n",
       "    word-wrap: break-word;\n",
       "    word-break: break-all;\n",
       "    font-family: \"Source Code Pro\", \"Menlo\", monospace;;\n",
       "    font-size: 13px;\n",
       "    color: #555;\n",
       "    margin-left: 4px;\n",
       "    line-height: 19px;\n",
       "  }\n",
       "</style>\n",
       "<div class=\"ansiout\"></div>"
      ]
     },
     "metadata": {
      "application/vnd.databricks.v1+output": {
       "addedWidgets": {},
       "arguments": {},
       "data": "<div class=\"ansiout\"></div>",
       "datasetInfos": [],
       "metadata": {},
       "removedWidgets": [],
       "type": "html"
      }
     },
     "output_type": "display_data"
    }
   ],
   "source": [
    "data = data.withColumnRenamed(\"trip_distance\",\"trip_distance(miles)\")"
   ]
  },
  {
   "cell_type": "code",
   "execution_count": 0,
   "metadata": {
    "application/vnd.databricks.v1+cell": {
     "inputWidgets": {},
     "nuid": "03f5927b-c7ea-444b-8b04-f7f2b0d0eb40",
     "showTitle": false,
     "title": ""
    }
   },
   "outputs": [
    {
     "data": {
      "text/html": [
       "<style scoped>\n",
       "  .ansiout {\n",
       "    display: block;\n",
       "    unicode-bidi: embed;\n",
       "    white-space: pre-wrap;\n",
       "    word-wrap: break-word;\n",
       "    word-break: break-all;\n",
       "    font-family: \"Source Code Pro\", \"Menlo\", monospace;;\n",
       "    font-size: 13px;\n",
       "    color: #555;\n",
       "    margin-left: 4px;\n",
       "    line-height: 19px;\n",
       "  }\n",
       "</style>\n",
       "<div class=\"ansiout\"></div>"
      ]
     },
     "metadata": {
      "application/vnd.databricks.v1+output": {
       "addedWidgets": {},
       "arguments": {},
       "data": "<div class=\"ansiout\"></div>",
       "datasetInfos": [],
       "metadata": {},
       "removedWidgets": [],
       "type": "html"
      }
     },
     "output_type": "display_data"
    }
   ],
   "source": [
    "# Peak-up timestamp\n",
    "\n",
    "data = data.withColumn(\"PU_timestamp\", from_unixtime(unix_timestamp(\"tpep_pickup_datetime\", 'MM/dd/yyyy hh:mm:ss a')).cast(TimestampType()))"
   ]
  },
  {
   "cell_type": "code",
   "execution_count": 0,
   "metadata": {
    "application/vnd.databricks.v1+cell": {
     "inputWidgets": {},
     "nuid": "a5de96d8-be2b-47e3-a905-3e0bbc7a8aad",
     "showTitle": false,
     "title": ""
    }
   },
   "outputs": [
    {
     "data": {
      "text/html": [
       "<style scoped>\n",
       "  .ansiout {\n",
       "    display: block;\n",
       "    unicode-bidi: embed;\n",
       "    white-space: pre-wrap;\n",
       "    word-wrap: break-word;\n",
       "    word-break: break-all;\n",
       "    font-family: \"Source Code Pro\", \"Menlo\", monospace;;\n",
       "    font-size: 13px;\n",
       "    color: #555;\n",
       "    margin-left: 4px;\n",
       "    line-height: 19px;\n",
       "  }\n",
       "</style>\n",
       "<div class=\"ansiout\"></div>"
      ]
     },
     "metadata": {
      "application/vnd.databricks.v1+output": {
       "addedWidgets": {},
       "arguments": {},
       "data": "<div class=\"ansiout\"></div>",
       "datasetInfos": [],
       "metadata": {},
       "removedWidgets": [],
       "type": "html"
      }
     },
     "output_type": "display_data"
    }
   ],
   "source": [
    "# Drop-Off timestamp\n",
    "\n",
    "data = data.withColumn(\"DO_timestamp\", from_unixtime(unix_timestamp(\"tpep_dropoff_datetime\", 'MM/dd/yyyy hh:mm:ss a')).cast(TimestampType()))"
   ]
  },
  {
   "cell_type": "code",
   "execution_count": 0,
   "metadata": {
    "application/vnd.databricks.v1+cell": {
     "inputWidgets": {},
     "nuid": "6ef76ccc-2956-415d-8342-a6b2d108bc80",
     "showTitle": false,
     "title": ""
    }
   },
   "outputs": [
    {
     "data": {
      "text/html": [
       "<style scoped>\n",
       "  .ansiout {\n",
       "    display: block;\n",
       "    unicode-bidi: embed;\n",
       "    white-space: pre-wrap;\n",
       "    word-wrap: break-word;\n",
       "    word-break: break-all;\n",
       "    font-family: \"Source Code Pro\", \"Menlo\", monospace;;\n",
       "    font-size: 13px;\n",
       "    color: #555;\n",
       "    margin-left: 4px;\n",
       "    line-height: 19px;\n",
       "  }\n",
       "</style>\n",
       "<div class=\"ansiout\"></div>"
      ]
     },
     "metadata": {
      "application/vnd.databricks.v1+output": {
       "addedWidgets": {},
       "arguments": {},
       "data": "<div class=\"ansiout\"></div>",
       "datasetInfos": [],
       "metadata": {},
       "removedWidgets": [],
       "type": "html"
      }
     },
     "output_type": "display_data"
    }
   ],
   "source": [
    "data = data.withColumn(\"Year\", year(col(\"DO_timestamp\")))"
   ]
  },
  {
   "cell_type": "code",
   "execution_count": 0,
   "metadata": {
    "application/vnd.databricks.v1+cell": {
     "inputWidgets": {},
     "nuid": "f32f0bd9-03ac-48d4-b7b4-ae2d3c5c3104",
     "showTitle": false,
     "title": ""
    }
   },
   "outputs": [
    {
     "data": {
      "text/html": [
       "<style scoped>\n",
       "  .ansiout {\n",
       "    display: block;\n",
       "    unicode-bidi: embed;\n",
       "    white-space: pre-wrap;\n",
       "    word-wrap: break-word;\n",
       "    word-break: break-all;\n",
       "    font-family: \"Source Code Pro\", \"Menlo\", monospace;;\n",
       "    font-size: 13px;\n",
       "    color: #555;\n",
       "    margin-left: 4px;\n",
       "    line-height: 19px;\n",
       "  }\n",
       "</style>\n",
       "<div class=\"ansiout\"></div>"
      ]
     },
     "metadata": {
      "application/vnd.databricks.v1+output": {
       "addedWidgets": {},
       "arguments": {},
       "data": "<div class=\"ansiout\"></div>",
       "datasetInfos": [],
       "metadata": {},
       "removedWidgets": [],
       "type": "html"
      }
     },
     "output_type": "display_data"
    }
   ],
   "source": [
    "data = data.filter(data[\"Year\"] == 2020) # Filtering to ensure that the dataset is for year 2020. Filtering-out all dropoffs that are not 2020. "
   ]
  },
  {
   "cell_type": "code",
   "execution_count": 0,
   "metadata": {
    "application/vnd.databricks.v1+cell": {
     "inputWidgets": {},
     "nuid": "6e7fdefa-da4e-4ef8-981e-391464f5bfb2",
     "showTitle": false,
     "title": ""
    }
   },
   "outputs": [
    {
     "data": {
      "text/html": [
       "<style scoped>\n",
       "  .ansiout {\n",
       "    display: block;\n",
       "    unicode-bidi: embed;\n",
       "    white-space: pre-wrap;\n",
       "    word-wrap: break-word;\n",
       "    word-break: break-all;\n",
       "    font-family: \"Source Code Pro\", \"Menlo\", monospace;;\n",
       "    font-size: 13px;\n",
       "    color: #555;\n",
       "    margin-left: 4px;\n",
       "    line-height: 19px;\n",
       "  }\n",
       "</style>\n",
       "<div class=\"ansiout\"></div>"
      ]
     },
     "metadata": {
      "application/vnd.databricks.v1+output": {
       "addedWidgets": {},
       "arguments": {},
       "data": "<div class=\"ansiout\"></div>",
       "datasetInfos": [],
       "metadata": {},
       "removedWidgets": [],
       "type": "html"
      }
     },
     "output_type": "display_data"
    }
   ],
   "source": [
    "# Changing the data type from String to Double\n",
    "\n",
    "data = data.withColumn(\"trip_distance(miles)\", col(\"trip_distance(miles)\").cast('double'))\n",
    "data = data.withColumn(\"fare_amount\", col(\"fare_amount\").cast('double'))\n",
    "data = data.withColumn(\"mta_tax\", col(\"mta_tax\").cast('double'))\n",
    "data = data.withColumn(\"tip_amount\", col(\"tip_amount\").cast('double'))\n",
    "data = data.withColumn(\"total_amount\", col(\"total_amount\").cast('double'))\n",
    "data = data.withColumn(\"extra\", col(\"extra\").cast('double'))"
   ]
  },
  {
   "cell_type": "code",
   "execution_count": 0,
   "metadata": {
    "application/vnd.databricks.v1+cell": {
     "inputWidgets": {},
     "nuid": "ad6551a3-384d-4842-96ff-32a23d24f7a0",
     "showTitle": false,
     "title": ""
    }
   },
   "outputs": [
    {
     "data": {
      "text/html": [
       "<style scoped>\n",
       "  .table-result-container {\n",
       "    max-height: 300px;\n",
       "    overflow: auto;\n",
       "  }\n",
       "  table, th, td {\n",
       "    border: 1px solid black;\n",
       "    border-collapse: collapse;\n",
       "  }\n",
       "  th, td {\n",
       "    padding: 5px;\n",
       "  }\n",
       "  th {\n",
       "    text-align: left;\n",
       "  }\n",
       "</style><div class='table-result-container'><table class='table-result'><thead style='background-color: white'><tr><th>DOLocationID</th><th>PULocationID</th><th>VendorID</th><th>tpep_pickup_datetime</th><th>tpep_dropoff_datetime</th><th>passenger_count</th><th>trip_distance(miles)</th><th>RatecodeID</th><th>store_and_fwd_flag</th><th>payment_type</th><th>fare_amount</th><th>extra</th><th>mta_tax</th><th>tip_amount</th><th>tolls_amount</th><th>improvement_surcharge</th><th>total_amount</th><th>congestion_surcharge</th><th>PU_Zone</th><th>PU_Borough</th><th>DO_Zone</th><th>DO_Borough</th><th>PU_timestamp</th><th>DO_timestamp</th><th>Year</th></tr></thead><tbody><tr><td>239</td><td>238</td><td>1</td><td>01/01/2020 12:28:15 AM</td><td>01/01/2020 12:33:03 AM</td><td>1</td><td>1.2</td><td>1</td><td>N</td><td>1</td><td>6.0</td><td>3.0</td><td>0.5</td><td>1.47</td><td>0.0</td><td>0.3</td><td>11.27</td><td>2.5</td><td>Upper West Side North</td><td>Manhattan</td><td>Upper West Side South</td><td>Manhattan</td><td>2020-01-01T00:28:15.000+0000</td><td>2020-01-01T00:33:03.000+0000</td><td>2020</td></tr><tr><td>238</td><td>239</td><td>1</td><td>01/01/2020 12:35:39 AM</td><td>01/01/2020 12:43:04 AM</td><td>1</td><td>1.2</td><td>1</td><td>N</td><td>1</td><td>7.0</td><td>3.0</td><td>0.5</td><td>1.5</td><td>0.0</td><td>0.3</td><td>12.3</td><td>2.5</td><td>Upper West Side South</td><td>Manhattan</td><td>Upper West Side North</td><td>Manhattan</td><td>2020-01-01T00:35:39.000+0000</td><td>2020-01-01T00:43:04.000+0000</td><td>2020</td></tr><tr><td>238</td><td>238</td><td>1</td><td>01/01/2020 12:47:41 AM</td><td>01/01/2020 12:53:52 AM</td><td>1</td><td>0.6</td><td>1</td><td>N</td><td>1</td><td>6.0</td><td>3.0</td><td>0.5</td><td>1.0</td><td>0.0</td><td>0.3</td><td>10.8</td><td>2.5</td><td>Upper West Side North</td><td>Manhattan</td><td>Upper West Side North</td><td>Manhattan</td><td>2020-01-01T00:47:41.000+0000</td><td>2020-01-01T00:53:52.000+0000</td><td>2020</td></tr><tr><td>151</td><td>238</td><td>1</td><td>01/01/2020 12:55:23 AM</td><td>01/01/2020 01:00:14 AM</td><td>1</td><td>0.8</td><td>1</td><td>N</td><td>1</td><td>5.5</td><td>0.5</td><td>0.5</td><td>1.36</td><td>0.0</td><td>0.3</td><td>8.16</td><td>0.0</td><td>Upper West Side North</td><td>Manhattan</td><td>Manhattan Valley</td><td>Manhattan</td><td>2020-01-01T00:55:23.000+0000</td><td>2020-01-01T01:00:14.000+0000</td><td>2020</td></tr><tr><td>193</td><td>193</td><td>2</td><td>01/01/2020 12:01:58 AM</td><td>01/01/2020 12:04:16 AM</td><td>1</td><td>0.0</td><td>1</td><td>N</td><td>2</td><td>3.5</td><td>0.5</td><td>0.5</td><td>0.0</td><td>0.0</td><td>0.3</td><td>4.8</td><td>0.0</td><td>Queensbridge/Ravenswood</td><td>Queens</td><td>Queensbridge/Ravenswood</td><td>Queens</td><td>2020-01-01T00:01:58.000+0000</td><td>2020-01-01T00:04:16.000+0000</td><td>2020</td></tr></tbody></table></div>"
      ]
     },
     "metadata": {
      "application/vnd.databricks.v1+output": {
       "addedWidgets": {},
       "aggData": [],
       "aggError": "",
       "aggOverflow": false,
       "aggSchema": [],
       "aggSeriesLimitReached": false,
       "aggType": "",
       "arguments": {},
       "columnCustomDisplayInfos": {},
       "data": [
        [
         239,
         238,
         1,
         "01/01/2020 12:28:15 AM",
         "01/01/2020 12:33:03 AM",
         1,
         1.2,
         1,
         "N",
         1,
         6,
         3,
         0.5,
         1.47,
         0,
         0.3,
         11.27,
         2.5,
         "Upper West Side North",
         "Manhattan",
         "Upper West Side South",
         "Manhattan",
         "2020-01-01T00:28:15.000+0000",
         "2020-01-01T00:33:03.000+0000",
         2020
        ],
        [
         238,
         239,
         1,
         "01/01/2020 12:35:39 AM",
         "01/01/2020 12:43:04 AM",
         1,
         1.2,
         1,
         "N",
         1,
         7,
         3,
         0.5,
         1.5,
         0,
         0.3,
         12.3,
         2.5,
         "Upper West Side South",
         "Manhattan",
         "Upper West Side North",
         "Manhattan",
         "2020-01-01T00:35:39.000+0000",
         "2020-01-01T00:43:04.000+0000",
         2020
        ],
        [
         238,
         238,
         1,
         "01/01/2020 12:47:41 AM",
         "01/01/2020 12:53:52 AM",
         1,
         0.6,
         1,
         "N",
         1,
         6,
         3,
         0.5,
         1,
         0,
         0.3,
         10.8,
         2.5,
         "Upper West Side North",
         "Manhattan",
         "Upper West Side North",
         "Manhattan",
         "2020-01-01T00:47:41.000+0000",
         "2020-01-01T00:53:52.000+0000",
         2020
        ],
        [
         151,
         238,
         1,
         "01/01/2020 12:55:23 AM",
         "01/01/2020 01:00:14 AM",
         1,
         0.8,
         1,
         "N",
         1,
         5.5,
         0.5,
         0.5,
         1.36,
         0,
         0.3,
         8.16,
         0,
         "Upper West Side North",
         "Manhattan",
         "Manhattan Valley",
         "Manhattan",
         "2020-01-01T00:55:23.000+0000",
         "2020-01-01T01:00:14.000+0000",
         2020
        ],
        [
         193,
         193,
         2,
         "01/01/2020 12:01:58 AM",
         "01/01/2020 12:04:16 AM",
         1,
         0,
         1,
         "N",
         2,
         3.5,
         0.5,
         0.5,
         0,
         0,
         0.3,
         4.8,
         0,
         "Queensbridge/Ravenswood",
         "Queens",
         "Queensbridge/Ravenswood",
         "Queens",
         "2020-01-01T00:01:58.000+0000",
         "2020-01-01T00:04:16.000+0000",
         2020
        ]
       ],
       "datasetInfos": [],
       "dbfsResultPath": null,
       "isJsonSchema": true,
       "metadata": {},
       "overflow": false,
       "plotOptions": {
        "customPlotOptions": {},
        "displayType": "table",
        "pivotAggregation": null,
        "pivotColumns": null,
        "xColumns": null,
        "yColumns": null
       },
       "removedWidgets": [],
       "schema": [
        {
         "metadata": "{}",
         "name": "DOLocationID",
         "type": "\"integer\""
        },
        {
         "metadata": "{}",
         "name": "PULocationID",
         "type": "\"integer\""
        },
        {
         "metadata": "{}",
         "name": "VendorID",
         "type": "\"integer\""
        },
        {
         "metadata": "{}",
         "name": "tpep_pickup_datetime",
         "type": "\"string\""
        },
        {
         "metadata": "{}",
         "name": "tpep_dropoff_datetime",
         "type": "\"string\""
        },
        {
         "metadata": "{}",
         "name": "passenger_count",
         "type": "\"integer\""
        },
        {
         "metadata": "{}",
         "name": "trip_distance(miles)",
         "type": "\"double\""
        },
        {
         "metadata": "{}",
         "name": "RatecodeID",
         "type": "\"integer\""
        },
        {
         "metadata": "{}",
         "name": "store_and_fwd_flag",
         "type": "\"string\""
        },
        {
         "metadata": "{}",
         "name": "payment_type",
         "type": "\"integer\""
        },
        {
         "metadata": "{}",
         "name": "fare_amount",
         "type": "\"double\""
        },
        {
         "metadata": "{}",
         "name": "extra",
         "type": "\"double\""
        },
        {
         "metadata": "{}",
         "name": "mta_tax",
         "type": "\"double\""
        },
        {
         "metadata": "{}",
         "name": "tip_amount",
         "type": "\"double\""
        },
        {
         "metadata": "{}",
         "name": "tolls_amount",
         "type": "\"double\""
        },
        {
         "metadata": "{}",
         "name": "improvement_surcharge",
         "type": "\"double\""
        },
        {
         "metadata": "{}",
         "name": "total_amount",
         "type": "\"double\""
        },
        {
         "metadata": "{}",
         "name": "congestion_surcharge",
         "type": "\"double\""
        },
        {
         "metadata": "{}",
         "name": "PU_Zone",
         "type": "\"string\""
        },
        {
         "metadata": "{}",
         "name": "PU_Borough",
         "type": "\"string\""
        },
        {
         "metadata": "{}",
         "name": "DO_Zone",
         "type": "\"string\""
        },
        {
         "metadata": "{}",
         "name": "DO_Borough",
         "type": "\"string\""
        },
        {
         "metadata": "{}",
         "name": "PU_timestamp",
         "type": "\"timestamp\""
        },
        {
         "metadata": "{}",
         "name": "DO_timestamp",
         "type": "\"timestamp\""
        },
        {
         "metadata": "{}",
         "name": "Year",
         "type": "\"integer\""
        }
       ],
       "type": "table"
      }
     },
     "output_type": "display_data"
    },
    {
     "data": {
      "text/html": [
       "<style scoped>\n",
       "  .ansiout {\n",
       "    display: block;\n",
       "    unicode-bidi: embed;\n",
       "    white-space: pre-wrap;\n",
       "    word-wrap: break-word;\n",
       "    word-break: break-all;\n",
       "    font-family: \"Source Code Pro\", \"Menlo\", monospace;;\n",
       "    font-size: 13px;\n",
       "    color: #555;\n",
       "    margin-left: 4px;\n",
       "    line-height: 19px;\n",
       "  }\n",
       "</style>\n",
       "<div class=\"ansiout\">CPU times: user 686 µs, sys: 230 µs, total: 916 µs\n",
       "Wall time: 4.9 ms\n",
       "</div>"
      ]
     },
     "metadata": {
      "application/vnd.databricks.v1+output": {
       "addedWidgets": {},
       "arguments": {},
       "data": "<div class=\"ansiout\">CPU times: user 686 µs, sys: 230 µs, total: 916 µs\nWall time: 4.9 ms\n</div>",
       "datasetInfos": [],
       "metadata": {},
       "removedWidgets": [],
       "type": "html"
      }
     },
     "output_type": "display_data"
    }
   ],
   "source": [
    "%%time\n",
    "data.limit(5).display()"
   ]
  },
  {
   "cell_type": "code",
   "execution_count": 0,
   "metadata": {
    "application/vnd.databricks.v1+cell": {
     "inputWidgets": {},
     "nuid": "43b693ed-0dfa-4f2d-8167-052d22dbe96d",
     "showTitle": false,
     "title": ""
    }
   },
   "outputs": [
    {
     "data": {
      "text/html": [
       "<style scoped>\n",
       "  .ansiout {\n",
       "    display: block;\n",
       "    unicode-bidi: embed;\n",
       "    white-space: pre-wrap;\n",
       "    word-wrap: break-word;\n",
       "    word-break: break-all;\n",
       "    font-family: \"Source Code Pro\", \"Menlo\", monospace;;\n",
       "    font-size: 13px;\n",
       "    color: #555;\n",
       "    margin-left: 4px;\n",
       "    line-height: 19px;\n",
       "  }\n",
       "</style>\n",
       "<div class=\"ansiout\"></div>"
      ]
     },
     "metadata": {
      "application/vnd.databricks.v1+output": {
       "addedWidgets": {},
       "arguments": {},
       "data": "<div class=\"ansiout\"></div>",
       "datasetInfos": [],
       "metadata": {},
       "removedWidgets": [],
       "type": "html"
      }
     },
     "output_type": "display_data"
    }
   ],
   "source": [
    "# Dropping all null values\n",
    "\n",
    "data = data.dropna()"
   ]
  },
  {
   "cell_type": "code",
   "execution_count": 0,
   "metadata": {
    "application/vnd.databricks.v1+cell": {
     "inputWidgets": {},
     "nuid": "d0c366a8-aff5-4212-b26a-0be148d41225",
     "showTitle": false,
     "title": ""
    }
   },
   "outputs": [
    {
     "data": {
      "text/html": [
       "<style scoped>\n",
       "  .ansiout {\n",
       "    display: block;\n",
       "    unicode-bidi: embed;\n",
       "    white-space: pre-wrap;\n",
       "    word-wrap: break-word;\n",
       "    word-break: break-all;\n",
       "    font-family: \"Source Code Pro\", \"Menlo\", monospace;;\n",
       "    font-size: 13px;\n",
       "    color: #555;\n",
       "    margin-left: 4px;\n",
       "    line-height: 19px;\n",
       "  }\n",
       "</style>\n",
       "<div class=\"ansiout\">Out[29]: 23584156</div>"
      ]
     },
     "metadata": {
      "application/vnd.databricks.v1+output": {
       "addedWidgets": {},
       "arguments": {},
       "data": "<div class=\"ansiout\">Out[29]: 23584156</div>",
       "datasetInfos": [],
       "metadata": {},
       "removedWidgets": [],
       "type": "html"
      }
     },
     "output_type": "display_data"
    }
   ],
   "source": [
    "data.count()"
   ]
  },
  {
   "cell_type": "markdown",
   "metadata": {
    "application/vnd.databricks.v1+cell": {
     "inputWidgets": {},
     "nuid": "79dfabbe-6bfb-467d-b1fc-8923a09fb103",
     "showTitle": false,
     "title": ""
    }
   },
   "source": [
    "# Data Mining"
   ]
  },
  {
   "cell_type": "markdown",
   "metadata": {
    "application/vnd.databricks.v1+cell": {
     "inputWidgets": {},
     "nuid": "bf0a8919-454a-41b0-b5d2-5ee87d4c7163",
     "showTitle": false,
     "title": ""
    }
   },
   "source": [
    "# Pickup zone "
   ]
  },
  {
   "cell_type": "code",
   "execution_count": 0,
   "metadata": {
    "application/vnd.databricks.v1+cell": {
     "inputWidgets": {},
     "nuid": "45515d2d-07eb-4170-9787-f5de6483b081",
     "showTitle": false,
     "title": ""
    }
   },
   "outputs": [
    {
     "data": {
      "text/html": [
       "<style scoped>\n",
       "  .table-result-container {\n",
       "    max-height: 300px;\n",
       "    overflow: auto;\n",
       "  }\n",
       "  table, th, td {\n",
       "    border: 1px solid black;\n",
       "    border-collapse: collapse;\n",
       "  }\n",
       "  th, td {\n",
       "    padding: 5px;\n",
       "  }\n",
       "  th {\n",
       "    text-align: left;\n",
       "  }\n",
       "</style><div class='table-result-container'><table class='table-result'><thead style='background-color: white'><tr><th>PU_Zone</th><th>PU_Borough</th><th>Count</th></tr></thead><tbody><tr><td>Upper East Side South</td><td>Manhattan</td><td>1133820</td></tr><tr><td>Upper East Side North</td><td>Manhattan</td><td>1076788</td></tr><tr><td>Midtown Center</td><td>Manhattan</td><td>937834</td></tr><tr><td>Penn Station/Madison Sq West</td><td>Manhattan</td><td>854699</td></tr><tr><td>Midtown East</td><td>Manhattan</td><td>823764</td></tr><tr><td>Murray Hill</td><td>Manhattan</td><td>741236</td></tr><tr><td>Lincoln Square East</td><td>Manhattan</td><td>737805</td></tr><tr><td>Clinton East</td><td>Manhattan</td><td>719594</td></tr><tr><td>Upper West Side South</td><td>Manhattan</td><td>695903</td></tr><tr><td>Times Sq/Theatre District</td><td>Manhattan</td><td>680501</td></tr></tbody></table></div>"
      ]
     },
     "metadata": {
      "application/vnd.databricks.v1+output": {
       "addedWidgets": {},
       "aggData": [],
       "aggError": "",
       "aggOverflow": false,
       "aggSchema": [],
       "aggSeriesLimitReached": false,
       "aggType": "",
       "arguments": {},
       "columnCustomDisplayInfos": {},
       "data": [
        [
         "Upper East Side South",
         "Manhattan",
         1133820
        ],
        [
         "Upper East Side North",
         "Manhattan",
         1076788
        ],
        [
         "Midtown Center",
         "Manhattan",
         937834
        ],
        [
         "Penn Station/Madison Sq West",
         "Manhattan",
         854699
        ],
        [
         "Midtown East",
         "Manhattan",
         823764
        ],
        [
         "Murray Hill",
         "Manhattan",
         741236
        ],
        [
         "Lincoln Square East",
         "Manhattan",
         737805
        ],
        [
         "Clinton East",
         "Manhattan",
         719594
        ],
        [
         "Upper West Side South",
         "Manhattan",
         695903
        ],
        [
         "Times Sq/Theatre District",
         "Manhattan",
         680501
        ]
       ],
       "datasetInfos": [],
       "dbfsResultPath": null,
       "isJsonSchema": true,
       "metadata": {},
       "overflow": false,
       "plotOptions": {
        "customPlotOptions": {},
        "displayType": "table",
        "pivotAggregation": null,
        "pivotColumns": null,
        "xColumns": null,
        "yColumns": null
       },
       "removedWidgets": [],
       "schema": [
        {
         "metadata": "{}",
         "name": "PU_Zone",
         "type": "\"string\""
        },
        {
         "metadata": "{}",
         "name": "PU_Borough",
         "type": "\"string\""
        },
        {
         "metadata": "{}",
         "name": "Count",
         "type": "\"long\""
        }
       ],
       "type": "table"
      }
     },
     "output_type": "display_data"
    }
   ],
   "source": [
    "# Top pick up locations\n",
    "\n",
    "PU_Count = data.groupBy(\"PU_Zone\", \"PU_Borough\").agg(count(\"*\").alias(\"Count\"))\n",
    "PU_Count = PU_Count.sort(PU_Count.Count.desc()).limit(10)\n",
    "PU_Count.display()"
   ]
  },
  {
   "cell_type": "code",
   "execution_count": 0,
   "metadata": {
    "application/vnd.databricks.v1+cell": {
     "inputWidgets": {},
     "nuid": "b60d3d0c-cbca-4f99-aecc-56a41c0fdc53",
     "showTitle": false,
     "title": ""
    }
   },
   "outputs": [
    {
     "data": {
      "text/html": [
       "<style scoped>\n",
       "  .table-result-container {\n",
       "    max-height: 300px;\n",
       "    overflow: auto;\n",
       "  }\n",
       "  table, th, td {\n",
       "    border: 1px solid black;\n",
       "    border-collapse: collapse;\n",
       "  }\n",
       "  th, td {\n",
       "    padding: 5px;\n",
       "  }\n",
       "  th {\n",
       "    text-align: left;\n",
       "  }\n",
       "</style><div class='table-result-container'><table class='table-result'><thead style='background-color: white'><tr><th>PU_Zone</th><th>PU_Borough</th><th>Count</th></tr></thead><tbody><tr><td>West Brighton</td><td>Staten Island</td><td>6</td></tr><tr><td>Rikers Island</td><td>Bronx</td><td>7</td></tr><tr><td>Broad Channel</td><td>Queens</td><td>7</td></tr><tr><td>Oakwood</td><td>Staten Island</td><td>9</td></tr><tr><td>Breezy Point/Fort Tilden/Riis Beach</td><td>Queens</td><td>14</td></tr><tr><td>Green-Wood Cemetery</td><td>Brooklyn</td><td>15</td></tr><tr><td>Jamaica Bay</td><td>Queens</td><td>19</td></tr><tr><td>Eltingville/Annadale/Prince's Bay</td><td>Staten Island</td><td>21</td></tr><tr><td>Westerleigh</td><td>Staten Island</td><td>25</td></tr><tr><td>Port Richmond</td><td>Staten Island</td><td>27</td></tr></tbody></table></div>"
      ]
     },
     "metadata": {
      "application/vnd.databricks.v1+output": {
       "addedWidgets": {},
       "aggData": [],
       "aggError": "",
       "aggOverflow": false,
       "aggSchema": [],
       "aggSeriesLimitReached": false,
       "aggType": "",
       "arguments": {},
       "columnCustomDisplayInfos": {},
       "data": [
        [
         "West Brighton",
         "Staten Island",
         6
        ],
        [
         "Rikers Island",
         "Bronx",
         7
        ],
        [
         "Broad Channel",
         "Queens",
         7
        ],
        [
         "Oakwood",
         "Staten Island",
         9
        ],
        [
         "Breezy Point/Fort Tilden/Riis Beach",
         "Queens",
         14
        ],
        [
         "Green-Wood Cemetery",
         "Brooklyn",
         15
        ],
        [
         "Jamaica Bay",
         "Queens",
         19
        ],
        [
         "Eltingville/Annadale/Prince's Bay",
         "Staten Island",
         21
        ],
        [
         "Westerleigh",
         "Staten Island",
         25
        ],
        [
         "Port Richmond",
         "Staten Island",
         27
        ]
       ],
       "datasetInfos": [],
       "dbfsResultPath": null,
       "isJsonSchema": true,
       "metadata": {},
       "overflow": false,
       "plotOptions": {
        "customPlotOptions": {},
        "displayType": "plotlyBar",
        "pivotAggregation": null,
        "pivotColumns": null,
        "xColumns": null,
        "yColumns": null
       },
       "removedWidgets": [],
       "schema": [
        {
         "metadata": "{}",
         "name": "PU_Zone",
         "type": "\"string\""
        },
        {
         "metadata": "{}",
         "name": "PU_Borough",
         "type": "\"string\""
        },
        {
         "metadata": "{}",
         "name": "Count",
         "type": "\"long\""
        }
       ],
       "type": "table"
      }
     },
     "output_type": "display_data"
    }
   ],
   "source": [
    "# Least pick up locations\n",
    "\n",
    "PU_Count = data.groupBy(\"PU_Zone\", \"PU_Borough\").agg(count(\"*\").alias(\"Count\"))\n",
    "PU_Count = PU_Count.sort(PU_Count.Count.asc()).limit(10)\n",
    "PU_Count.display()"
   ]
  },
  {
   "cell_type": "markdown",
   "metadata": {
    "application/vnd.databricks.v1+cell": {
     "inputWidgets": {},
     "nuid": "7a5778d2-06b8-43b7-93b3-ae6c5e585596",
     "showTitle": false,
     "title": ""
    }
   },
   "source": [
    "# Top Drop Off Location"
   ]
  },
  {
   "cell_type": "code",
   "execution_count": 0,
   "metadata": {
    "application/vnd.databricks.v1+cell": {
     "inputWidgets": {},
     "nuid": "b1f01c50-a4fa-4a1c-bf04-f46107811608",
     "showTitle": false,
     "title": ""
    }
   },
   "outputs": [
    {
     "data": {
      "text/html": [
       "<style scoped>\n",
       "  .table-result-container {\n",
       "    max-height: 300px;\n",
       "    overflow: auto;\n",
       "  }\n",
       "  table, th, td {\n",
       "    border: 1px solid black;\n",
       "    border-collapse: collapse;\n",
       "  }\n",
       "  th, td {\n",
       "    padding: 5px;\n",
       "  }\n",
       "  th {\n",
       "    text-align: left;\n",
       "  }\n",
       "</style><div class='table-result-container'><table class='table-result'><thead style='background-color: white'><tr><th>DO_Zone</th><th>DO_Borough</th><th>Count</th></tr></thead><tbody><tr><td>Upper East Side North</td><td>Manhattan</td><td>1113516</td></tr><tr><td>Upper East Side South</td><td>Manhattan</td><td>1005043</td></tr><tr><td>Midtown Center</td><td>Manhattan</td><td>835940</td></tr><tr><td>Murray Hill</td><td>Manhattan</td><td>727413</td></tr><tr><td>Lenox Hill West</td><td>Manhattan</td><td>678355</td></tr><tr><td>Lincoln Square East</td><td>Manhattan</td><td>662322</td></tr><tr><td>Upper West Side South</td><td>Manhattan</td><td>660114</td></tr><tr><td>Midtown East</td><td>Manhattan</td><td>659422</td></tr><tr><td>Clinton East</td><td>Manhattan</td><td>631986</td></tr><tr><td>Upper West Side North</td><td>Manhattan</td><td>598618</td></tr></tbody></table></div>"
      ]
     },
     "metadata": {
      "application/vnd.databricks.v1+output": {
       "addedWidgets": {},
       "aggData": [],
       "aggError": "",
       "aggOverflow": false,
       "aggSchema": [],
       "aggSeriesLimitReached": false,
       "aggType": "",
       "arguments": {},
       "columnCustomDisplayInfos": {},
       "data": [
        [
         "Upper East Side North",
         "Manhattan",
         1113516
        ],
        [
         "Upper East Side South",
         "Manhattan",
         1005043
        ],
        [
         "Midtown Center",
         "Manhattan",
         835940
        ],
        [
         "Murray Hill",
         "Manhattan",
         727413
        ],
        [
         "Lenox Hill West",
         "Manhattan",
         678355
        ],
        [
         "Lincoln Square East",
         "Manhattan",
         662322
        ],
        [
         "Upper West Side South",
         "Manhattan",
         660114
        ],
        [
         "Midtown East",
         "Manhattan",
         659422
        ],
        [
         "Clinton East",
         "Manhattan",
         631986
        ],
        [
         "Upper West Side North",
         "Manhattan",
         598618
        ]
       ],
       "datasetInfos": [],
       "dbfsResultPath": null,
       "isJsonSchema": true,
       "metadata": {},
       "overflow": false,
       "plotOptions": {
        "customPlotOptions": {},
        "displayType": "table",
        "pivotAggregation": null,
        "pivotColumns": null,
        "xColumns": null,
        "yColumns": null
       },
       "removedWidgets": [],
       "schema": [
        {
         "metadata": "{}",
         "name": "DO_Zone",
         "type": "\"string\""
        },
        {
         "metadata": "{}",
         "name": "DO_Borough",
         "type": "\"string\""
        },
        {
         "metadata": "{}",
         "name": "Count",
         "type": "\"long\""
        }
       ],
       "type": "table"
      }
     },
     "output_type": "display_data"
    }
   ],
   "source": [
    "# Top Drop Off locations\n",
    "\n",
    "DO_Count = data.groupBy(\"DO_Zone\",\"DO_Borough\").agg(count(\"*\").alias(\"Count\"))\n",
    "DO_Count = DO_Count.sort(DO_Count.Count.desc()).limit(10)\n",
    "DO_Count.display()"
   ]
  },
  {
   "cell_type": "code",
   "execution_count": 0,
   "metadata": {
    "application/vnd.databricks.v1+cell": {
     "inputWidgets": {},
     "nuid": "8169aa37-a357-4b37-b138-f0d46f6a5ac6",
     "showTitle": false,
     "title": ""
    }
   },
   "outputs": [
    {
     "data": {
      "text/html": [
       "<style scoped>\n",
       "  .table-result-container {\n",
       "    max-height: 300px;\n",
       "    overflow: auto;\n",
       "  }\n",
       "  table, th, td {\n",
       "    border: 1px solid black;\n",
       "    border-collapse: collapse;\n",
       "  }\n",
       "  th, td {\n",
       "    padding: 5px;\n",
       "  }\n",
       "  th {\n",
       "    text-align: left;\n",
       "  }\n",
       "</style><div class='table-result-container'><table class='table-result'><thead style='background-color: white'><tr><th>DO_Zone</th><th>DO_Borough</th><th>Count</th></tr></thead><tbody><tr><td>Rikers Island</td><td>Bronx</td><td>2</td></tr><tr><td>Jamaica Bay</td><td>Queens</td><td>18</td></tr><tr><td>Freshkills Park</td><td>Staten Island</td><td>114</td></tr><tr><td>Broad Channel</td><td>Queens</td><td>120</td></tr><tr><td>Rossville/Woodrow</td><td>Staten Island</td><td>146</td></tr><tr><td>Port Richmond</td><td>Staten Island</td><td>161</td></tr><tr><td>Eltingville/Annadale/Prince's Bay</td><td>Staten Island</td><td>181</td></tr><tr><td>Oakwood</td><td>Staten Island</td><td>195</td></tr><tr><td>Crotona Park</td><td>Bronx</td><td>209</td></tr><tr><td>Breezy Point/Fort Tilden/Riis Beach</td><td>Queens</td><td>239</td></tr></tbody></table></div>"
      ]
     },
     "metadata": {
      "application/vnd.databricks.v1+output": {
       "addedWidgets": {},
       "aggData": [],
       "aggError": "",
       "aggOverflow": false,
       "aggSchema": [],
       "aggSeriesLimitReached": false,
       "aggType": "",
       "arguments": {},
       "columnCustomDisplayInfos": {},
       "data": [
        [
         "Rikers Island",
         "Bronx",
         2
        ],
        [
         "Jamaica Bay",
         "Queens",
         18
        ],
        [
         "Freshkills Park",
         "Staten Island",
         114
        ],
        [
         "Broad Channel",
         "Queens",
         120
        ],
        [
         "Rossville/Woodrow",
         "Staten Island",
         146
        ],
        [
         "Port Richmond",
         "Staten Island",
         161
        ],
        [
         "Eltingville/Annadale/Prince's Bay",
         "Staten Island",
         181
        ],
        [
         "Oakwood",
         "Staten Island",
         195
        ],
        [
         "Crotona Park",
         "Bronx",
         209
        ],
        [
         "Breezy Point/Fort Tilden/Riis Beach",
         "Queens",
         239
        ]
       ],
       "datasetInfos": [],
       "dbfsResultPath": null,
       "isJsonSchema": true,
       "metadata": {},
       "overflow": false,
       "plotOptions": {
        "customPlotOptions": {},
        "displayType": "plotlyBar",
        "pivotAggregation": null,
        "pivotColumns": null,
        "xColumns": null,
        "yColumns": null
       },
       "removedWidgets": [],
       "schema": [
        {
         "metadata": "{}",
         "name": "DO_Zone",
         "type": "\"string\""
        },
        {
         "metadata": "{}",
         "name": "DO_Borough",
         "type": "\"string\""
        },
        {
         "metadata": "{}",
         "name": "Count",
         "type": "\"long\""
        }
       ],
       "type": "table"
      }
     },
     "output_type": "display_data"
    }
   ],
   "source": [
    "# Least Drop Off Locations\n",
    "\n",
    "DO_Count = data.groupBy(\"DO_Zone\",\"DO_Borough\").agg(count(\"*\").alias(\"Count\"))\n",
    "DO_Count = DO_Count.sort(DO_Count.Count.asc()).limit(10)\n",
    "DO_Count.display()"
   ]
  },
  {
   "cell_type": "markdown",
   "metadata": {
    "application/vnd.databricks.v1+cell": {
     "inputWidgets": {},
     "nuid": "853c7e64-f99e-4e58-8c01-3469e8a96d52",
     "showTitle": false,
     "title": ""
    }
   },
   "source": [
    "1) Top Pick Up and Drop Off locations = Upper East Side North and Upper East Side South (All the top PU and DO spots are in Manhattan)\n",
    "\n",
    "2) Least Pick Up location = West Brighton and Rikers Island (least PU and DO spots are in Queens, Bronx and Staten Island)"
   ]
  },
  {
   "cell_type": "code",
   "execution_count": 0,
   "metadata": {
    "application/vnd.databricks.v1+cell": {
     "inputWidgets": {},
     "nuid": "85f6a304-06a6-4b7a-9c73-367c20b1cc99",
     "showTitle": false,
     "title": ""
    }
   },
   "outputs": [
    {
     "data": {
      "text/html": [
       "<style scoped>\n",
       "  .table-result-container {\n",
       "    max-height: 300px;\n",
       "    overflow: auto;\n",
       "  }\n",
       "  table, th, td {\n",
       "    border: 1px solid black;\n",
       "    border-collapse: collapse;\n",
       "  }\n",
       "  th, td {\n",
       "    padding: 5px;\n",
       "  }\n",
       "  th {\n",
       "    text-align: left;\n",
       "  }\n",
       "</style><div class='table-result-container'><table class='table-result'><thead style='background-color: white'><tr><th>trip_distance(miles)</th><th>tpep_pickup_datetime</th><th>tpep_dropoff_datetime</th><th>PU_Zone</th><th>DO_Zone</th></tr></thead><tbody><tr><td>516.73</td><td>11/27/2020 10:06:33 PM</td><td>11/27/2020 10:10:02 PM</td><td>Sutton Place/Turtle Bay North</td><td>Sutton Place/Turtle Bay North</td></tr><tr><td>358.33</td><td>09/09/2020 04:07:59 AM</td><td>09/09/2020 08:14:26 PM</td><td>Penn Station/Madison Sq West</td><td>East Concourse/Concourse Village</td></tr><tr><td>341.26</td><td>11/27/2020 06:17:13 PM</td><td>11/27/2020 06:21:21 PM</td><td>West Village</td><td>East Chelsea</td></tr><tr><td>277.8</td><td>11/13/2020 09:07:06 AM</td><td>11/13/2020 07:54:17 PM</td><td>East Village</td><td>Alphabet City</td></tr><tr><td>274.5</td><td>02/12/2020 11:36:07 AM</td><td>02/12/2020 05:43:11 PM</td><td>Clinton East</td><td>Garment District</td></tr><tr><td>265.1</td><td>12/08/2020 07:01:07 PM</td><td>12/09/2020 12:30:36 AM</td><td>Times Sq/Theatre District</td><td>Marine Park/Mill Basin</td></tr><tr><td>257.0</td><td>07/15/2020 02:53:31 PM</td><td>07/15/2020 08:55:13 PM</td><td>Prospect Heights</td><td>Canarsie</td></tr><tr><td>240.7</td><td>06/25/2020 10:38:30 AM</td><td>06/25/2020 04:09:21 PM</td><td>Penn Station/Madison Sq West</td><td>Queens Village</td></tr><tr><td>238.0</td><td>05/07/2020 07:27:43 AM</td><td>05/07/2020 02:13:53 PM</td><td>Penn Station/Madison Sq West</td><td>Marine Park/Mill Basin</td></tr><tr><td>226.6</td><td>03/08/2020 01:49:56 PM</td><td>03/08/2020 07:29:33 PM</td><td>East Harlem North</td><td>Brooklyn Heights</td></tr></tbody></table></div>"
      ]
     },
     "metadata": {
      "application/vnd.databricks.v1+output": {
       "addedWidgets": {},
       "aggData": [],
       "aggError": "",
       "aggOverflow": false,
       "aggSchema": [],
       "aggSeriesLimitReached": false,
       "aggType": "",
       "arguments": {},
       "columnCustomDisplayInfos": {},
       "data": [
        [
         516.73,
         "11/27/2020 10:06:33 PM",
         "11/27/2020 10:10:02 PM",
         "Sutton Place/Turtle Bay North",
         "Sutton Place/Turtle Bay North"
        ],
        [
         358.33,
         "09/09/2020 04:07:59 AM",
         "09/09/2020 08:14:26 PM",
         "Penn Station/Madison Sq West",
         "East Concourse/Concourse Village"
        ],
        [
         341.26,
         "11/27/2020 06:17:13 PM",
         "11/27/2020 06:21:21 PM",
         "West Village",
         "East Chelsea"
        ],
        [
         277.8,
         "11/13/2020 09:07:06 AM",
         "11/13/2020 07:54:17 PM",
         "East Village",
         "Alphabet City"
        ],
        [
         274.5,
         "02/12/2020 11:36:07 AM",
         "02/12/2020 05:43:11 PM",
         "Clinton East",
         "Garment District"
        ],
        [
         265.1,
         "12/08/2020 07:01:07 PM",
         "12/09/2020 12:30:36 AM",
         "Times Sq/Theatre District",
         "Marine Park/Mill Basin"
        ],
        [
         257,
         "07/15/2020 02:53:31 PM",
         "07/15/2020 08:55:13 PM",
         "Prospect Heights",
         "Canarsie"
        ],
        [
         240.7,
         "06/25/2020 10:38:30 AM",
         "06/25/2020 04:09:21 PM",
         "Penn Station/Madison Sq West",
         "Queens Village"
        ],
        [
         238,
         "05/07/2020 07:27:43 AM",
         "05/07/2020 02:13:53 PM",
         "Penn Station/Madison Sq West",
         "Marine Park/Mill Basin"
        ],
        [
         226.6,
         "03/08/2020 01:49:56 PM",
         "03/08/2020 07:29:33 PM",
         "East Harlem North",
         "Brooklyn Heights"
        ]
       ],
       "datasetInfos": [],
       "dbfsResultPath": null,
       "isJsonSchema": true,
       "metadata": {},
       "overflow": false,
       "plotOptions": {
        "customPlotOptions": {},
        "displayType": "table",
        "pivotAggregation": null,
        "pivotColumns": null,
        "xColumns": null,
        "yColumns": null
       },
       "removedWidgets": [],
       "schema": [
        {
         "metadata": "{}",
         "name": "trip_distance(miles)",
         "type": "\"double\""
        },
        {
         "metadata": "{}",
         "name": "tpep_pickup_datetime",
         "type": "\"string\""
        },
        {
         "metadata": "{}",
         "name": "tpep_dropoff_datetime",
         "type": "\"string\""
        },
        {
         "metadata": "{}",
         "name": "PU_Zone",
         "type": "\"string\""
        },
        {
         "metadata": "{}",
         "name": "DO_Zone",
         "type": "\"string\""
        }
       ],
       "type": "table"
      }
     },
     "output_type": "display_data"
    }
   ],
   "source": [
    "# Top distance travelled\n",
    "\n",
    "trip_distance = data.select([\"trip_distance(miles)\", \"tpep_pickup_datetime\", \"tpep_dropoff_datetime\", \"PU_Zone\", \"DO_Zone\"]).sort(data[\"trip_distance(miles)\"].desc()).limit(10)\n",
    "trip_distance.display()"
   ]
  },
  {
   "cell_type": "markdown",
   "metadata": {
    "application/vnd.databricks.v1+cell": {
     "inputWidgets": {},
     "nuid": "8c51ff85-df4c-45b2-8674-9a5e0569ce3b",
     "showTitle": false,
     "title": ""
    }
   },
   "source": [
    "For the trip with 516.73 miles, its travel time (drop off - pick up) was 4 minutes and for all the other trips exceeding 200miles, the least travel time was more than 6hours, indicating an error in the record, and thus the row will be filtered out. "
   ]
  },
  {
   "cell_type": "code",
   "execution_count": 0,
   "metadata": {
    "application/vnd.databricks.v1+cell": {
     "inputWidgets": {},
     "nuid": "cfe99777-9692-4df7-b1ef-ca6f4f542f3c",
     "showTitle": false,
     "title": ""
    }
   },
   "outputs": [
    {
     "data": {
      "text/html": [
       "<style scoped>\n",
       "  .ansiout {\n",
       "    display: block;\n",
       "    unicode-bidi: embed;\n",
       "    white-space: pre-wrap;\n",
       "    word-wrap: break-word;\n",
       "    word-break: break-all;\n",
       "    font-family: \"Source Code Pro\", \"Menlo\", monospace;;\n",
       "    font-size: 13px;\n",
       "    color: #555;\n",
       "    margin-left: 4px;\n",
       "    line-height: 19px;\n",
       "  }\n",
       "</style>\n",
       "<div class=\"ansiout\"></div>"
      ]
     },
     "metadata": {
      "application/vnd.databricks.v1+output": {
       "addedWidgets": {},
       "arguments": {},
       "data": "<div class=\"ansiout\"></div>",
       "datasetInfos": [],
       "metadata": {},
       "removedWidgets": [],
       "type": "html"
      }
     },
     "output_type": "display_data"
    }
   ],
   "source": [
    "#Filtering out the row\n",
    "\n",
    "data = data.filter(data[\"trip_distance(miles)\"] != 516.73)"
   ]
  },
  {
   "cell_type": "code",
   "execution_count": 0,
   "metadata": {
    "application/vnd.databricks.v1+cell": {
     "inputWidgets": {},
     "nuid": "aa3eb758-90b2-460e-9907-b58e27255515",
     "showTitle": false,
     "title": ""
    }
   },
   "outputs": [
    {
     "data": {
      "text/html": [
       "<style scoped>\n",
       "  .table-result-container {\n",
       "    max-height: 300px;\n",
       "    overflow: auto;\n",
       "  }\n",
       "  table, th, td {\n",
       "    border: 1px solid black;\n",
       "    border-collapse: collapse;\n",
       "  }\n",
       "  th, td {\n",
       "    padding: 5px;\n",
       "  }\n",
       "  th {\n",
       "    text-align: left;\n",
       "  }\n",
       "</style><div class='table-result-container'><table class='table-result'><thead style='background-color: white'><tr><th>trip_distance(miles)</th><th>tpep_pickup_datetime</th><th>tpep_dropoff_datetime</th><th>PU_Zone</th><th>DO_Zone</th></tr></thead><tbody><tr><td>358.33</td><td>09/09/2020 04:07:59 AM</td><td>09/09/2020 08:14:26 PM</td><td>Penn Station/Madison Sq West</td><td>East Concourse/Concourse Village</td></tr><tr><td>341.26</td><td>11/27/2020 06:17:13 PM</td><td>11/27/2020 06:21:21 PM</td><td>West Village</td><td>East Chelsea</td></tr><tr><td>277.8</td><td>11/13/2020 09:07:06 AM</td><td>11/13/2020 07:54:17 PM</td><td>East Village</td><td>Alphabet City</td></tr><tr><td>274.5</td><td>02/12/2020 11:36:07 AM</td><td>02/12/2020 05:43:11 PM</td><td>Clinton East</td><td>Garment District</td></tr><tr><td>265.1</td><td>12/08/2020 07:01:07 PM</td><td>12/09/2020 12:30:36 AM</td><td>Times Sq/Theatre District</td><td>Marine Park/Mill Basin</td></tr><tr><td>257.0</td><td>07/15/2020 02:53:31 PM</td><td>07/15/2020 08:55:13 PM</td><td>Prospect Heights</td><td>Canarsie</td></tr><tr><td>240.7</td><td>06/25/2020 10:38:30 AM</td><td>06/25/2020 04:09:21 PM</td><td>Penn Station/Madison Sq West</td><td>Queens Village</td></tr><tr><td>238.0</td><td>05/07/2020 07:27:43 AM</td><td>05/07/2020 02:13:53 PM</td><td>Penn Station/Madison Sq West</td><td>Marine Park/Mill Basin</td></tr><tr><td>226.6</td><td>03/08/2020 01:49:56 PM</td><td>03/08/2020 07:29:33 PM</td><td>East Harlem North</td><td>Brooklyn Heights</td></tr><tr><td>223.7</td><td>05/01/2020 07:03:22 PM</td><td>05/01/2020 07:03:31 PM</td><td>Flatlands</td><td>Flatlands</td></tr></tbody></table></div>"
      ]
     },
     "metadata": {
      "application/vnd.databricks.v1+output": {
       "addedWidgets": {},
       "aggData": [],
       "aggError": "",
       "aggOverflow": false,
       "aggSchema": [],
       "aggSeriesLimitReached": false,
       "aggType": "",
       "arguments": {},
       "columnCustomDisplayInfos": {},
       "data": [
        [
         358.33,
         "09/09/2020 04:07:59 AM",
         "09/09/2020 08:14:26 PM",
         "Penn Station/Madison Sq West",
         "East Concourse/Concourse Village"
        ],
        [
         341.26,
         "11/27/2020 06:17:13 PM",
         "11/27/2020 06:21:21 PM",
         "West Village",
         "East Chelsea"
        ],
        [
         277.8,
         "11/13/2020 09:07:06 AM",
         "11/13/2020 07:54:17 PM",
         "East Village",
         "Alphabet City"
        ],
        [
         274.5,
         "02/12/2020 11:36:07 AM",
         "02/12/2020 05:43:11 PM",
         "Clinton East",
         "Garment District"
        ],
        [
         265.1,
         "12/08/2020 07:01:07 PM",
         "12/09/2020 12:30:36 AM",
         "Times Sq/Theatre District",
         "Marine Park/Mill Basin"
        ],
        [
         257,
         "07/15/2020 02:53:31 PM",
         "07/15/2020 08:55:13 PM",
         "Prospect Heights",
         "Canarsie"
        ],
        [
         240.7,
         "06/25/2020 10:38:30 AM",
         "06/25/2020 04:09:21 PM",
         "Penn Station/Madison Sq West",
         "Queens Village"
        ],
        [
         238,
         "05/07/2020 07:27:43 AM",
         "05/07/2020 02:13:53 PM",
         "Penn Station/Madison Sq West",
         "Marine Park/Mill Basin"
        ],
        [
         226.6,
         "03/08/2020 01:49:56 PM",
         "03/08/2020 07:29:33 PM",
         "East Harlem North",
         "Brooklyn Heights"
        ],
        [
         223.7,
         "05/01/2020 07:03:22 PM",
         "05/01/2020 07:03:31 PM",
         "Flatlands",
         "Flatlands"
        ]
       ],
       "datasetInfos": [],
       "dbfsResultPath": null,
       "isJsonSchema": true,
       "metadata": {},
       "overflow": false,
       "plotOptions": {
        "customPlotOptions": {},
        "displayType": "table",
        "pivotAggregation": null,
        "pivotColumns": null,
        "xColumns": null,
        "yColumns": null
       },
       "removedWidgets": [],
       "schema": [
        {
         "metadata": "{}",
         "name": "trip_distance(miles)",
         "type": "\"double\""
        },
        {
         "metadata": "{}",
         "name": "tpep_pickup_datetime",
         "type": "\"string\""
        },
        {
         "metadata": "{}",
         "name": "tpep_dropoff_datetime",
         "type": "\"string\""
        },
        {
         "metadata": "{}",
         "name": "PU_Zone",
         "type": "\"string\""
        },
        {
         "metadata": "{}",
         "name": "DO_Zone",
         "type": "\"string\""
        }
       ],
       "type": "table"
      }
     },
     "output_type": "display_data"
    }
   ],
   "source": [
    "# longest trip distance\n",
    "\n",
    "trip_distance = data.select([\"trip_distance(miles)\", \"tpep_pickup_datetime\", \"tpep_dropoff_datetime\", \"PU_Zone\", \"DO_Zone\"]).sort(data[\"trip_distance(miles)\"].desc()).limit(10)\n",
    "trip_distance.display()"
   ]
  },
  {
   "cell_type": "code",
   "execution_count": 0,
   "metadata": {
    "application/vnd.databricks.v1+cell": {
     "inputWidgets": {},
     "nuid": "59bb9ce4-0604-45d8-a295-4e4de7cd4b3c",
     "showTitle": false,
     "title": ""
    }
   },
   "outputs": [
    {
     "data": {
      "text/html": [
       "<style scoped>\n",
       "  .ansiout {\n",
       "    display: block;\n",
       "    unicode-bidi: embed;\n",
       "    white-space: pre-wrap;\n",
       "    word-wrap: break-word;\n",
       "    word-break: break-all;\n",
       "    font-family: \"Source Code Pro\", \"Menlo\", monospace;;\n",
       "    font-size: 13px;\n",
       "    color: #555;\n",
       "    margin-left: 4px;\n",
       "    line-height: 19px;\n",
       "  }\n",
       "</style>\n",
       "<div class=\"ansiout\"></div>"
      ]
     },
     "metadata": {
      "application/vnd.databricks.v1+output": {
       "addedWidgets": {},
       "arguments": {},
       "data": "<div class=\"ansiout\"></div>",
       "datasetInfos": [],
       "metadata": {},
       "removedWidgets": [],
       "type": "html"
      }
     },
     "output_type": "display_data"
    }
   ],
   "source": [
    "# Filtering out the trip distance column to ensure only positive (+ve) numbers.\n",
    "\n",
    "data = data.filter(data[\"trip_distance(miles)\"] >= 0.0)"
   ]
  },
  {
   "cell_type": "code",
   "execution_count": 0,
   "metadata": {
    "application/vnd.databricks.v1+cell": {
     "inputWidgets": {},
     "nuid": "6c0b20d5-ea57-4a34-b6aa-db917561f6d1",
     "showTitle": false,
     "title": ""
    }
   },
   "outputs": [
    {
     "data": {
      "text/html": [
       "<style scoped>\n",
       "  .table-result-container {\n",
       "    max-height: 300px;\n",
       "    overflow: auto;\n",
       "  }\n",
       "  table, th, td {\n",
       "    border: 1px solid black;\n",
       "    border-collapse: collapse;\n",
       "  }\n",
       "  th, td {\n",
       "    padding: 5px;\n",
       "  }\n",
       "  th {\n",
       "    text-align: left;\n",
       "  }\n",
       "</style><div class='table-result-container'><table class='table-result'><thead style='background-color: white'><tr><th>trip_distance(miles)</th><th>fare_amount</th><th>tpep_pickup_datetime</th><th>tpep_dropoff_datetime</th><th>PU_Zone</th><th>DO_Zone</th></tr></thead><tbody><tr><td>0.0</td><td>17.2</td><td>03/10/2020 11:06:56 AM</td><td>03/10/2020 11:25:13 AM</td><td>Lincoln Square West</td><td>Union Sq</td></tr><tr><td>0.0</td><td>15.0</td><td>03/10/2020 11:43:03 AM</td><td>03/10/2020 11:43:30 AM</td><td>Union Sq</td><td>Union Sq</td></tr><tr><td>0.0</td><td>28.2</td><td>03/10/2020 11:22:29 AM</td><td>03/10/2020 11:56:36 AM</td><td>Kingsbridge Heights</td><td>Lenox Hill East</td></tr><tr><td>0.0</td><td>60.0</td><td>03/10/2020 11:15:52 AM</td><td>03/10/2020 11:16:00 AM</td><td>West Farms/Bronx River</td><td>West Farms/Bronx River</td></tr><tr><td>0.0</td><td>14.2</td><td>03/10/2020 11:04:56 AM</td><td>03/10/2020 11:21:46 AM</td><td>University Heights/Morris Heights</td><td>Morrisania/Melrose</td></tr><tr><td>0.0</td><td>48.2</td><td>03/10/2020 11:38:09 AM</td><td>03/10/2020 12:24:39 PM</td><td>East Concourse/Concourse Village</td><td>Canarsie</td></tr><tr><td>0.0</td><td>9.2</td><td>03/10/2020 11:57:58 AM</td><td>03/10/2020 12:05:18 PM</td><td>Greenwich Village North</td><td>Flatiron</td></tr><tr><td>0.0</td><td>52.0</td><td>03/10/2020 11:09:57 AM</td><td>03/10/2020 11:11:32 AM</td><td>JFK Airport</td><td>JFK Airport</td></tr><tr><td>0.0</td><td>3.5</td><td>03/10/2020 11:39:29 AM</td><td>03/10/2020 12:13:21 PM</td><td>LaGuardia Airport</td><td>Midtown South</td></tr><tr><td>0.0</td><td>52.0</td><td>03/10/2020 11:59:18 AM</td><td>03/10/2020 11:59:29 AM</td><td>Times Sq/Theatre District</td><td>Times Sq/Theatre District</td></tr></tbody></table></div>"
      ]
     },
     "metadata": {
      "application/vnd.databricks.v1+output": {
       "addedWidgets": {},
       "aggData": [],
       "aggError": "",
       "aggOverflow": false,
       "aggSchema": [],
       "aggSeriesLimitReached": false,
       "aggType": "",
       "arguments": {},
       "columnCustomDisplayInfos": {},
       "data": [
        [
         0,
         17.2,
         "03/10/2020 11:06:56 AM",
         "03/10/2020 11:25:13 AM",
         "Lincoln Square West",
         "Union Sq"
        ],
        [
         0,
         15,
         "03/10/2020 11:43:03 AM",
         "03/10/2020 11:43:30 AM",
         "Union Sq",
         "Union Sq"
        ],
        [
         0,
         28.2,
         "03/10/2020 11:22:29 AM",
         "03/10/2020 11:56:36 AM",
         "Kingsbridge Heights",
         "Lenox Hill East"
        ],
        [
         0,
         60,
         "03/10/2020 11:15:52 AM",
         "03/10/2020 11:16:00 AM",
         "West Farms/Bronx River",
         "West Farms/Bronx River"
        ],
        [
         0,
         14.2,
         "03/10/2020 11:04:56 AM",
         "03/10/2020 11:21:46 AM",
         "University Heights/Morris Heights",
         "Morrisania/Melrose"
        ],
        [
         0,
         48.2,
         "03/10/2020 11:38:09 AM",
         "03/10/2020 12:24:39 PM",
         "East Concourse/Concourse Village",
         "Canarsie"
        ],
        [
         0,
         9.2,
         "03/10/2020 11:57:58 AM",
         "03/10/2020 12:05:18 PM",
         "Greenwich Village North",
         "Flatiron"
        ],
        [
         0,
         52,
         "03/10/2020 11:09:57 AM",
         "03/10/2020 11:11:32 AM",
         "JFK Airport",
         "JFK Airport"
        ],
        [
         0,
         3.5,
         "03/10/2020 11:39:29 AM",
         "03/10/2020 12:13:21 PM",
         "LaGuardia Airport",
         "Midtown South"
        ],
        [
         0,
         52,
         "03/10/2020 11:59:18 AM",
         "03/10/2020 11:59:29 AM",
         "Times Sq/Theatre District",
         "Times Sq/Theatre District"
        ]
       ],
       "datasetInfos": [],
       "dbfsResultPath": null,
       "isJsonSchema": true,
       "metadata": {},
       "overflow": false,
       "plotOptions": {
        "customPlotOptions": {},
        "displayType": "table",
        "pivotAggregation": null,
        "pivotColumns": null,
        "xColumns": null,
        "yColumns": null
       },
       "removedWidgets": [],
       "schema": [
        {
         "metadata": "{}",
         "name": "trip_distance(miles)",
         "type": "\"double\""
        },
        {
         "metadata": "{}",
         "name": "fare_amount",
         "type": "\"double\""
        },
        {
         "metadata": "{}",
         "name": "tpep_pickup_datetime",
         "type": "\"string\""
        },
        {
         "metadata": "{}",
         "name": "tpep_dropoff_datetime",
         "type": "\"string\""
        },
        {
         "metadata": "{}",
         "name": "PU_Zone",
         "type": "\"string\""
        },
        {
         "metadata": "{}",
         "name": "DO_Zone",
         "type": "\"string\""
        }
       ],
       "type": "table"
      }
     },
     "output_type": "display_data"
    }
   ],
   "source": [
    "# least distance travelled\n",
    "\n",
    "trip_distance = data.select([\"trip_distance(miles)\", \"fare_amount\", \"tpep_pickup_datetime\", \"tpep_dropoff_datetime\", \"PU_Zone\", \"DO_Zone\"]).sort(data[\"trip_distance(miles)\"].asc()).limit(10)\n",
    "trip_distance.display()"
   ]
  },
  {
   "cell_type": "markdown",
   "metadata": {
    "application/vnd.databricks.v1+cell": {
     "inputWidgets": {},
     "nuid": "6eb1b2e1-ef51-444e-aeb9-06d4e0aef339",
     "showTitle": false,
     "title": ""
    }
   },
   "source": [
    "1) longest trip = 358.33 miles (between Madison Square to Concourse Village)\n",
    "\n",
    "2) shortest trip = 0 mile (The shortest trips are all within 1 mile)"
   ]
  },
  {
   "cell_type": "markdown",
   "metadata": {
    "application/vnd.databricks.v1+cell": {
     "inputWidgets": {},
     "nuid": "4b5e0282-a9ec-40f8-86e0-eec6ac185803",
     "showTitle": false,
     "title": ""
    }
   },
   "source": [
    "# Top Peak Up and Drop Off Hours"
   ]
  },
  {
   "cell_type": "code",
   "execution_count": 0,
   "metadata": {
    "application/vnd.databricks.v1+cell": {
     "inputWidgets": {},
     "nuid": "b7036e9f-6f8f-4fc9-a5bb-8dfa2b8100fe",
     "showTitle": false,
     "title": ""
    }
   },
   "outputs": [
    {
     "data": {
      "text/html": [
       "<style scoped>\n",
       "  .table-result-container {\n",
       "    max-height: 300px;\n",
       "    overflow: auto;\n",
       "  }\n",
       "  table, th, td {\n",
       "    border: 1px solid black;\n",
       "    border-collapse: collapse;\n",
       "  }\n",
       "  th, td {\n",
       "    padding: 5px;\n",
       "  }\n",
       "  th {\n",
       "    text-align: left;\n",
       "  }\n",
       "</style><div class='table-result-container'><table class='table-result'><thead style='background-color: white'><tr><th>PU_Hour</th><th>Count</th></tr></thead><tbody><tr><td>18</td><td>1637079</td></tr><tr><td>17</td><td>1580147</td></tr><tr><td>15</td><td>1535674</td></tr><tr><td>14</td><td>1508295</td></tr><tr><td>16</td><td>1462963</td></tr><tr><td>19</td><td>1424800</td></tr><tr><td>13</td><td>1412463</td></tr><tr><td>12</td><td>1374270</td></tr><tr><td>11</td><td>1262242</td></tr><tr><td>20</td><td>1187476</td></tr><tr><td>10</td><td>1187113</td></tr><tr><td>9</td><td>1149664</td></tr><tr><td>8</td><td>1123461</td></tr><tr><td>21</td><td>1104687</td></tr><tr><td>22</td><td>989853</td></tr><tr><td>7</td><td>847426</td></tr><tr><td>23</td><td>742509</td></tr><tr><td>0</td><td>517621</td></tr><tr><td>6</td><td>464789</td></tr><tr><td>1</td><td>353517</td></tr><tr><td>2</td><td>237457</td></tr><tr><td>5</td><td>178957</td></tr><tr><td>3</td><td>169672</td></tr><tr><td>4</td><td>132007</td></tr></tbody></table></div>"
      ]
     },
     "metadata": {
      "application/vnd.databricks.v1+output": {
       "addedWidgets": {},
       "aggData": [],
       "aggError": "",
       "aggOverflow": false,
       "aggSchema": [],
       "aggSeriesLimitReached": false,
       "aggType": "",
       "arguments": {},
       "columnCustomDisplayInfos": {},
       "data": [
        [
         18,
         1637079
        ],
        [
         17,
         1580147
        ],
        [
         15,
         1535674
        ],
        [
         14,
         1508295
        ],
        [
         16,
         1462963
        ],
        [
         19,
         1424800
        ],
        [
         13,
         1412463
        ],
        [
         12,
         1374270
        ],
        [
         11,
         1262242
        ],
        [
         20,
         1187476
        ],
        [
         10,
         1187113
        ],
        [
         9,
         1149664
        ],
        [
         8,
         1123461
        ],
        [
         21,
         1104687
        ],
        [
         22,
         989853
        ],
        [
         7,
         847426
        ],
        [
         23,
         742509
        ],
        [
         0,
         517621
        ],
        [
         6,
         464789
        ],
        [
         1,
         353517
        ],
        [
         2,
         237457
        ],
        [
         5,
         178957
        ],
        [
         3,
         169672
        ],
        [
         4,
         132007
        ]
       ],
       "datasetInfos": [],
       "dbfsResultPath": null,
       "isJsonSchema": true,
       "metadata": {},
       "overflow": false,
       "plotOptions": {
        "customPlotOptions": {
         "plotlyLine": [
          {
           "key": "yRange",
           "value": ""
          },
          {
           "key": "showPoints",
           "value": false
          },
          {
           "key": "logScale",
           "value": false
          }
         ]
        },
        "displayType": "plotlyLine",
        "pivotAggregation": "sum",
        "pivotColumns": [],
        "xColumns": [
         "PU_Hour"
        ],
        "yColumns": [
         "Count"
        ]
       },
       "removedWidgets": [],
       "schema": [
        {
         "metadata": "{}",
         "name": "PU_Hour",
         "type": "\"integer\""
        },
        {
         "metadata": "{}",
         "name": "Count",
         "type": "\"long\""
        }
       ],
       "type": "table"
      }
     },
     "output_type": "display_data"
    }
   ],
   "source": [
    "# Peak PU Hours\n",
    "\n",
    "PU_Hour = data.withColumn(\"PU_Hour\", hour(col(\"PU_timestamp\")))\n",
    "PU_Hour = PU_Hour.groupBy(\"PU_Hour\").agg(count(\"*\").alias(\"Count\"))\n",
    "PU_Hour = PU_Hour.sort(PU_Hour.Count.desc()).limit(24)\n",
    "PU_Hour.display()"
   ]
  },
  {
   "cell_type": "code",
   "execution_count": 0,
   "metadata": {
    "application/vnd.databricks.v1+cell": {
     "inputWidgets": {},
     "nuid": "1a86e0f7-14ec-46a8-a4ec-3299682c575b",
     "showTitle": false,
     "title": ""
    }
   },
   "outputs": [
    {
     "data": {
      "text/html": [
       "<style scoped>\n",
       "  .table-result-container {\n",
       "    max-height: 300px;\n",
       "    overflow: auto;\n",
       "  }\n",
       "  table, th, td {\n",
       "    border: 1px solid black;\n",
       "    border-collapse: collapse;\n",
       "  }\n",
       "  th, td {\n",
       "    padding: 5px;\n",
       "  }\n",
       "  th {\n",
       "    text-align: left;\n",
       "  }\n",
       "</style><div class='table-result-container'><table class='table-result'><thead style='background-color: white'><tr><th>PU_Month</th><th>Count</th></tr></thead><tbody><tr><td>Jan</td><td>6272506</td></tr><tr><td>Feb</td><td>6188930</td></tr><tr><td>Mar</td><td>2939907</td></tr><tr><td>Oct</td><td>1558983</td></tr><tr><td>Nov</td><td>1394407</td></tr><tr><td>Dec</td><td>1346927</td></tr><tr><td>Sept</td><td>1236951</td></tr><tr><td>Aug</td><td>924977</td></tr><tr><td>Jul</td><td>727165</td></tr><tr><td>Jun</td><td>492260</td></tr><tr><td>May</td><td>285526</td></tr><tr><td>Apr</td><td>215603</td></tr></tbody></table></div>"
      ]
     },
     "metadata": {
      "application/vnd.databricks.v1+output": {
       "addedWidgets": {},
       "aggData": [],
       "aggError": "",
       "aggOverflow": false,
       "aggSchema": [],
       "aggSeriesLimitReached": false,
       "aggType": "",
       "arguments": {},
       "columnCustomDisplayInfos": {},
       "data": [
        [
         "Jan",
         6272506
        ],
        [
         "Feb",
         6188930
        ],
        [
         "Mar",
         2939907
        ],
        [
         "Oct",
         1558983
        ],
        [
         "Nov",
         1394407
        ],
        [
         "Dec",
         1346927
        ],
        [
         "Sept",
         1236951
        ],
        [
         "Aug",
         924977
        ],
        [
         "Jul",
         727165
        ],
        [
         "Jun",
         492260
        ],
        [
         "May",
         285526
        ],
        [
         "Apr",
         215603
        ]
       ],
       "datasetInfos": [],
       "dbfsResultPath": null,
       "isJsonSchema": true,
       "metadata": {},
       "overflow": false,
       "plotOptions": {
        "customPlotOptions": {},
        "displayType": "plotlyLine",
        "pivotAggregation": null,
        "pivotColumns": null,
        "xColumns": null,
        "yColumns": null
       },
       "removedWidgets": [],
       "schema": [
        {
         "metadata": "{}",
         "name": "PU_Month",
         "type": "\"string\""
        },
        {
         "metadata": "{}",
         "name": "Count",
         "type": "\"long\""
        }
       ],
       "type": "table"
      }
     },
     "output_type": "display_data"
    }
   ],
   "source": [
    "# Peak PU Months\n",
    "\n",
    "PU_Month = data.withColumn(\"PU_Month\", month(col(\"PU_timestamp\")))\n",
    "PU_Month = PU_Month.groupBy(\"PU_Month\").agg(count(\"*\").alias(\"Count\"))\n",
    "PU_Month = PU_Month.sort(PU_Month.Count.desc()).limit(12)\n",
    "\n",
    "# Converting numerals to months of the year\n",
    "\n",
    "months = [\"Jan\", \"Feb\", \"Mar\", \"Apr\", \"May\", \"Jun\", \"Jul\", \"Aug\", \"Sept\", \"Oct\", \"Nov\", \"Dec\"]\n",
    "for i, m in zip(range (1,13), months):\n",
    "  PU_Month = PU_Month.withColumn(\"PU_Month\",F.when(PU_Month[\"PU_Month\"]==i,m).otherwise(PU_Month[\"PU_Month\"]))\n",
    "\n",
    "PU_Month.display()"
   ]
  },
  {
   "cell_type": "code",
   "execution_count": 0,
   "metadata": {
    "application/vnd.databricks.v1+cell": {
     "inputWidgets": {},
     "nuid": "3906a834-2ac6-476c-a07c-5da9b8204762",
     "showTitle": false,
     "title": ""
    }
   },
   "outputs": [
    {
     "data": {
      "text/html": [
       "<style scoped>\n",
       "  .table-result-container {\n",
       "    max-height: 300px;\n",
       "    overflow: auto;\n",
       "  }\n",
       "  table, th, td {\n",
       "    border: 1px solid black;\n",
       "    border-collapse: collapse;\n",
       "  }\n",
       "  th, td {\n",
       "    padding: 5px;\n",
       "  }\n",
       "  th {\n",
       "    text-align: left;\n",
       "  }\n",
       "</style><div class='table-result-container'><table class='table-result'><thead style='background-color: white'><tr><th>PU_Day</th><th>Count</th></tr></thead><tbody><tr><td>Friday</td><td>3798409</td></tr><tr><td>Saturday</td><td>3773058</td></tr><tr><td>Thursday</td><td>3704179</td></tr><tr><td>Wednesday</td><td>3410908</td></tr><tr><td>Sunday</td><td>3223775</td></tr><tr><td>Tuesday</td><td>3046450</td></tr><tr><td>Monday</td><td>2627363</td></tr></tbody></table></div>"
      ]
     },
     "metadata": {
      "application/vnd.databricks.v1+output": {
       "addedWidgets": {},
       "aggData": [],
       "aggError": "",
       "aggOverflow": false,
       "aggSchema": [],
       "aggSeriesLimitReached": false,
       "aggType": "",
       "arguments": {},
       "columnCustomDisplayInfos": {},
       "data": [
        [
         "Friday",
         3798409
        ],
        [
         "Saturday",
         3773058
        ],
        [
         "Thursday",
         3704179
        ],
        [
         "Wednesday",
         3410908
        ],
        [
         "Sunday",
         3223775
        ],
        [
         "Tuesday",
         3046450
        ],
        [
         "Monday",
         2627363
        ]
       ],
       "datasetInfos": [],
       "dbfsResultPath": null,
       "isJsonSchema": true,
       "metadata": {},
       "overflow": false,
       "plotOptions": {
        "customPlotOptions": {
         "plotlyBar": [
          {
           "key": "grouped",
           "value": true
          },
          {
           "key": "stacked",
           "value": false
          },
          {
           "key": "100_stacked",
           "value": false
          }
         ],
         "plotlyLine": [
          {
           "key": "yRange",
           "value": ""
          },
          {
           "key": "showPoints",
           "value": false
          },
          {
           "key": "logScale",
           "value": false
          }
         ]
        },
        "displayType": "plotlyBar",
        "pivotAggregation": "sum",
        "pivotColumns": [],
        "xColumns": [
         "PU_Day"
        ],
        "yColumns": [
         "Count"
        ]
       },
       "removedWidgets": [],
       "schema": [
        {
         "metadata": "{}",
         "name": "PU_Day",
         "type": "\"string\""
        },
        {
         "metadata": "{}",
         "name": "Count",
         "type": "\"long\""
        }
       ],
       "type": "table"
      }
     },
     "output_type": "display_data"
    }
   ],
   "source": [
    "# Peak PU Days\n",
    "\n",
    "PU_Day = data.withColumn(\"PU_Day\", dayofweek(col(\"PU_timestamp\")))\n",
    "PU_Day = PU_Day.groupBy(\"PU_Day\").agg(count(\"*\").alias(\"Count\"))\n",
    "PU_Day = PU_Day.sort(PU_Day.Count.desc()).limit(8)\n",
    "\n",
    "# Converting numerals to days of the week\n",
    "\n",
    "day_of_week = [\"Monday\", \"Tuesday\", \"Wednesday\", \"Thursday\", \"Friday\", \"Saturday\", \"Sunday\"]\n",
    "for i, day in zip(range (1,8), day_of_week):\n",
    "  PU_Day = PU_Day.withColumn(\"PU_Day\",F.when(PU_Day[\"PU_Day\"]==i,day).otherwise(PU_Day[\"PU_Day\"]))\n",
    "\n",
    "PU_Day.display()"
   ]
  },
  {
   "cell_type": "markdown",
   "metadata": {
    "application/vnd.databricks.v1+cell": {
     "inputWidgets": {},
     "nuid": "8d0ed798-4195-4a5e-975e-e3ed4d11c3bb",
     "showTitle": false,
     "title": ""
    }
   },
   "source": [
    "# Drop Offs"
   ]
  },
  {
   "cell_type": "code",
   "execution_count": 0,
   "metadata": {
    "application/vnd.databricks.v1+cell": {
     "inputWidgets": {},
     "nuid": "37d138d2-f262-4c11-87c2-6640c8fefbc3",
     "showTitle": false,
     "title": ""
    }
   },
   "outputs": [
    {
     "data": {
      "text/html": [
       "<style scoped>\n",
       "  .table-result-container {\n",
       "    max-height: 300px;\n",
       "    overflow: auto;\n",
       "  }\n",
       "  table, th, td {\n",
       "    border: 1px solid black;\n",
       "    border-collapse: collapse;\n",
       "  }\n",
       "  th, td {\n",
       "    padding: 5px;\n",
       "  }\n",
       "  th {\n",
       "    text-align: left;\n",
       "  }\n",
       "</style><div class='table-result-container'><table class='table-result'><thead style='background-color: white'><tr><th>DO_Month</th><th>Count</th></tr></thead><tbody><tr><td>Jan</td><td>6269760</td></tr><tr><td>Feb</td><td>6188406</td></tr><tr><td>Mar</td><td>2943209</td></tr><tr><td>Oct</td><td>1558640</td></tr><tr><td>Nov</td><td>1394826</td></tr><tr><td>Dec</td><td>1347050</td></tr><tr><td>Sept</td><td>1236839</td></tr><tr><td>Aug</td><td>925051</td></tr><tr><td>Jul</td><td>727037</td></tr><tr><td>Jun</td><td>492214</td></tr><tr><td>May</td><td>285514</td></tr><tr><td>Apr</td><td>215596</td></tr></tbody></table></div>"
      ]
     },
     "metadata": {
      "application/vnd.databricks.v1+output": {
       "addedWidgets": {},
       "aggData": [],
       "aggError": "",
       "aggOverflow": false,
       "aggSchema": [],
       "aggSeriesLimitReached": false,
       "aggType": "",
       "arguments": {},
       "columnCustomDisplayInfos": {},
       "data": [
        [
         "Jan",
         6269760
        ],
        [
         "Feb",
         6188406
        ],
        [
         "Mar",
         2943209
        ],
        [
         "Oct",
         1558640
        ],
        [
         "Nov",
         1394826
        ],
        [
         "Dec",
         1347050
        ],
        [
         "Sept",
         1236839
        ],
        [
         "Aug",
         925051
        ],
        [
         "Jul",
         727037
        ],
        [
         "Jun",
         492214
        ],
        [
         "May",
         285514
        ],
        [
         "Apr",
         215596
        ]
       ],
       "datasetInfos": [],
       "dbfsResultPath": null,
       "isJsonSchema": true,
       "metadata": {},
       "overflow": false,
       "plotOptions": {
        "customPlotOptions": {},
        "displayType": "table",
        "pivotAggregation": null,
        "pivotColumns": null,
        "xColumns": null,
        "yColumns": null
       },
       "removedWidgets": [],
       "schema": [
        {
         "metadata": "{}",
         "name": "DO_Month",
         "type": "\"string\""
        },
        {
         "metadata": "{}",
         "name": "Count",
         "type": "\"long\""
        }
       ],
       "type": "table"
      }
     },
     "output_type": "display_data"
    }
   ],
   "source": [
    "# Peak DO Months\n",
    "\n",
    "DO_Month = data.withColumn(\"DO_Month\", month(col(\"DO_timestamp\")))\n",
    "DO_Month = DO_Month.groupBy(\"DO_Month\").agg(count(\"*\").alias(\"Count\"))\n",
    "DO_Month = DO_Month.sort(DO_Month.Count.desc()).limit(12)\n",
    "\n",
    "# Converting numerals to months of the year\n",
    "\n",
    "months = [\"Jan\", \"Feb\", \"Mar\", \"Apr\", \"May\", \"Jun\", \"Jul\", \"Aug\", \"Sept\", \"Oct\", \"Nov\", \"Dec\"]\n",
    "for i, m in zip(range (1,13), months):\n",
    "  DO_Month = DO_Month.withColumn(\"DO_Month\",F.when(DO_Month[\"DO_Month\"]==i,m).otherwise(DO_Month[\"DO_Month\"]))\n",
    "\n",
    "DO_Month.display()"
   ]
  },
  {
   "cell_type": "code",
   "execution_count": 0,
   "metadata": {
    "application/vnd.databricks.v1+cell": {
     "inputWidgets": {},
     "nuid": "0f2d23bf-0c23-4706-9aae-67f9c2b08cd5",
     "showTitle": false,
     "title": ""
    }
   },
   "outputs": [
    {
     "data": {
      "text/html": [
       "<style scoped>\n",
       "  .table-result-container {\n",
       "    max-height: 300px;\n",
       "    overflow: auto;\n",
       "  }\n",
       "  table, th, td {\n",
       "    border: 1px solid black;\n",
       "    border-collapse: collapse;\n",
       "  }\n",
       "  th, td {\n",
       "    padding: 5px;\n",
       "  }\n",
       "  th {\n",
       "    text-align: left;\n",
       "  }\n",
       "</style><div class='table-result-container'><table class='table-result'><thead style='background-color: white'><tr><th>DO_Day</th><th>Count</th></tr></thead><tbody><tr><td>Friday</td><td>3794306</td></tr><tr><td>Saturday</td><td>3762537</td></tr><tr><td>Thursday</td><td>3700721</td></tr><tr><td>Wednesday</td><td>3407666</td></tr><tr><td>Sunday</td><td>3223779</td></tr><tr><td>Tuesday</td><td>3047741</td></tr><tr><td>Monday</td><td>2647392</td></tr></tbody></table></div>"
      ]
     },
     "metadata": {
      "application/vnd.databricks.v1+output": {
       "addedWidgets": {},
       "aggData": [],
       "aggError": "",
       "aggOverflow": false,
       "aggSchema": [],
       "aggSeriesLimitReached": false,
       "aggType": "",
       "arguments": {},
       "columnCustomDisplayInfos": {},
       "data": [
        [
         "Friday",
         3794306
        ],
        [
         "Saturday",
         3762537
        ],
        [
         "Thursday",
         3700721
        ],
        [
         "Wednesday",
         3407666
        ],
        [
         "Sunday",
         3223779
        ],
        [
         "Tuesday",
         3047741
        ],
        [
         "Monday",
         2647392
        ]
       ],
       "datasetInfos": [],
       "dbfsResultPath": null,
       "isJsonSchema": true,
       "metadata": {},
       "overflow": false,
       "plotOptions": {
        "customPlotOptions": {},
        "displayType": "table",
        "pivotAggregation": null,
        "pivotColumns": null,
        "xColumns": null,
        "yColumns": null
       },
       "removedWidgets": [],
       "schema": [
        {
         "metadata": "{}",
         "name": "DO_Day",
         "type": "\"string\""
        },
        {
         "metadata": "{}",
         "name": "Count",
         "type": "\"long\""
        }
       ],
       "type": "table"
      }
     },
     "output_type": "display_data"
    }
   ],
   "source": [
    "# Peak DO Days\n",
    "\n",
    "DO_Day = data.withColumn(\"DO_Day\", dayofweek(col(\"DO_timestamp\")))\n",
    "DO_Day = DO_Day.groupBy(\"DO_Day\").agg(count(\"*\").alias(\"Count\"))\n",
    "DO_Day = DO_Day.sort(DO_Day.Count.desc()).limit(8)\n",
    "\n",
    "# Converting numerals to days of the week\n",
    "\n",
    "day_of_week = [\"Monday\", \"Tuesday\", \"Wednesday\", \"Thursday\", \"Friday\", \"Saturday\", \"Sunday\"]\n",
    "for i, day in zip(range (1,8), day_of_week):\n",
    "  DO_Day = DO_Day.withColumn(\"DO_Day\",F.when(DO_Day[\"DO_Day\"]==i,day).otherwise(DO_Day[\"DO_Day\"]))\n",
    "\n",
    "DO_Day.display()"
   ]
  },
  {
   "cell_type": "markdown",
   "metadata": {
    "application/vnd.databricks.v1+cell": {
     "inputWidgets": {},
     "nuid": "8aac4828-f332-493c-89e4-f7bdf5f6cc6e",
     "showTitle": false,
     "title": ""
    }
   },
   "source": [
    "1) Peak Hours = 5pm - 6pm\n",
    "\n",
    "2) Peak Days = Fridays and Saturdays\n",
    "\n",
    "3) Peak Months = January and February"
   ]
  },
  {
   "cell_type": "markdown",
   "metadata": {
    "application/vnd.databricks.v1+cell": {
     "inputWidgets": {},
     "nuid": "bc0acd24-31db-454e-9d75-cf53e3ec6809",
     "showTitle": false,
     "title": ""
    }
   },
   "source": [
    "# Payment Type"
   ]
  },
  {
   "cell_type": "code",
   "execution_count": 0,
   "metadata": {
    "application/vnd.databricks.v1+cell": {
     "inputWidgets": {},
     "nuid": "18669a42-a564-4a79-8e49-111076dfa191",
     "showTitle": false,
     "title": ""
    }
   },
   "outputs": [
    {
     "data": {
      "text/html": [
       "<style scoped>\n",
       "  .table-result-container {\n",
       "    max-height: 300px;\n",
       "    overflow: auto;\n",
       "  }\n",
       "  table, th, td {\n",
       "    border: 1px solid black;\n",
       "    border-collapse: collapse;\n",
       "  }\n",
       "  th, td {\n",
       "    padding: 5px;\n",
       "  }\n",
       "  th {\n",
       "    text-align: left;\n",
       "  }\n",
       "</style><div class='table-result-container'><table class='table-result'><thead style='background-color: white'><tr><th>payment_type</th><th>Count</th></tr></thead><tbody><tr><td>1</td><td>17291187</td></tr><tr><td>2</td><td>6072137</td></tr><tr><td>3</td><td>140080</td></tr></tbody></table></div>"
      ]
     },
     "metadata": {
      "application/vnd.databricks.v1+output": {
       "addedWidgets": {},
       "aggData": [],
       "aggError": "",
       "aggOverflow": false,
       "aggSchema": [],
       "aggSeriesLimitReached": false,
       "aggType": "",
       "arguments": {},
       "columnCustomDisplayInfos": {},
       "data": [
        [
         1,
         17291187
        ],
        [
         2,
         6072137
        ],
        [
         3,
         140080
        ]
       ],
       "datasetInfos": [],
       "dbfsResultPath": null,
       "isJsonSchema": true,
       "metadata": {},
       "overflow": false,
       "plotOptions": {
        "customPlotOptions": {},
        "displayType": "table",
        "pivotAggregation": null,
        "pivotColumns": null,
        "xColumns": null,
        "yColumns": null
       },
       "removedWidgets": [],
       "schema": [
        {
         "metadata": "{}",
         "name": "payment_type",
         "type": "\"integer\""
        },
        {
         "metadata": "{}",
         "name": "Count",
         "type": "\"long\""
        }
       ],
       "type": "table"
      }
     },
     "output_type": "display_data"
    }
   ],
   "source": [
    "Payment_Type = data.groupBy(\"payment_type\").agg(count(\"*\").alias(\"Count\"))\n",
    "Payment_Type = Payment_Type.sort(Payment_Type.Count.desc()).limit(3)\n",
    "Payment_Type.display()"
   ]
  },
  {
   "cell_type": "markdown",
   "metadata": {
    "application/vnd.databricks.v1+cell": {
     "inputWidgets": {},
     "nuid": "d57ba13e-2c8e-4c7c-b702-677f48721edf",
     "showTitle": false,
     "title": ""
    }
   },
   "source": [
    "1= Credit card\n",
    "2= Cash\n",
    "3= No charge\n",
    "4= Dispute\n",
    "5= Unknown\n",
    "6= Voided trip\n",
    "\n",
    "Thus, most payment types are **Credit card and Cash**"
   ]
  },
  {
   "cell_type": "markdown",
   "metadata": {
    "application/vnd.databricks.v1+cell": {
     "inputWidgets": {},
     "nuid": "cccf144a-d945-4118-a197-7a771f4282b3",
     "showTitle": false,
     "title": ""
    }
   },
   "source": [
    "# Tips"
   ]
  },
  {
   "cell_type": "code",
   "execution_count": 0,
   "metadata": {
    "application/vnd.databricks.v1+cell": {
     "inputWidgets": {},
     "nuid": "f4d9cfb1-f2cd-4bdf-a28d-f6c4c000471d",
     "showTitle": false,
     "title": ""
    }
   },
   "outputs": [
    {
     "data": {
      "text/html": [
       "<style scoped>\n",
       "  .table-result-container {\n",
       "    max-height: 300px;\n",
       "    overflow: auto;\n",
       "  }\n",
       "  table, th, td {\n",
       "    border: 1px solid black;\n",
       "    border-collapse: collapse;\n",
       "  }\n",
       "  th, td {\n",
       "    padding: 5px;\n",
       "  }\n",
       "  th {\n",
       "    text-align: left;\n",
       "  }\n",
       "</style><div class='table-result-container'><table class='table-result'><thead style='background-color: white'><tr><th>DOLocationID</th><th>PULocationID</th><th>VendorID</th><th>tpep_pickup_datetime</th><th>tpep_dropoff_datetime</th><th>passenger_count</th><th>trip_distance(miles)</th><th>RatecodeID</th><th>store_and_fwd_flag</th><th>payment_type</th><th>fare_amount</th><th>extra</th><th>mta_tax</th><th>tip_amount</th><th>tolls_amount</th><th>improvement_surcharge</th><th>total_amount</th><th>congestion_surcharge</th><th>PU_Zone</th><th>PU_Borough</th><th>DO_Zone</th><th>DO_Borough</th><th>PU_timestamp</th><th>DO_timestamp</th><th>Year</th></tr></thead><tbody><tr><td>13</td><td>48</td><td>2</td><td>01/01/2020 02:40:39 AM</td><td>01/01/2020 02:57:48 AM</td><td>2</td><td>4.02</td><td>1</td><td>N</td><td>1</td><td>16.0</td><td>0.5</td><td>0.5</td><td>228.09</td><td>0.0</td><td>0.3</td><td>247.89</td><td>2.5</td><td>Clinton East</td><td>Manhattan</td><td>Battery Park City</td><td>Manhattan</td><td>2020-01-01T02:40:39.000+0000</td><td>2020-01-01T02:57:48.000+0000</td><td>2020</td></tr><tr><td>45</td><td>79</td><td>1</td><td>01/01/2020 04:06:21 AM</td><td>01/01/2020 04:22:57 AM</td><td>1</td><td>1.5</td><td>1</td><td>N</td><td>1</td><td>11.5</td><td>3.0</td><td>0.5</td><td>450.0</td><td>0.0</td><td>0.3</td><td>465.3</td><td>2.5</td><td>East Village</td><td>Manhattan</td><td>Chinatown</td><td>Manhattan</td><td>2020-01-01T04:06:21.000+0000</td><td>2020-01-01T04:22:57.000+0000</td><td>2020</td></tr><tr><td>237</td><td>237</td><td>2</td><td>01/01/2020 05:16:05 PM</td><td>01/01/2020 05:22:07 PM</td><td>1</td><td>0.78</td><td>1</td><td>N</td><td>1</td><td>6.0</td><td>0.0</td><td>0.5</td><td>140.08</td><td>0.0</td><td>0.3</td><td>149.38</td><td>2.5</td><td>Upper East Side South</td><td>Manhattan</td><td>Upper East Side South</td><td>Manhattan</td><td>2020-01-01T17:16:05.000+0000</td><td>2020-01-01T17:22:07.000+0000</td><td>2020</td></tr><tr><td>138</td><td>107</td><td>2</td><td>01/02/2020 05:26:42 AM</td><td>01/02/2020 05:40:32 AM</td><td>1</td><td>9.09</td><td>1</td><td>N</td><td>1</td><td>25.0</td><td>0.5</td><td>0.5</td><td>100.2</td><td>6.12</td><td>0.3</td><td>135.12</td><td>2.5</td><td>Gramercy</td><td>Manhattan</td><td>LaGuardia Airport</td><td>Queens</td><td>2020-01-02T05:26:42.000+0000</td><td>2020-01-02T05:40:32.000+0000</td><td>2020</td></tr><tr><td>113</td><td>140</td><td>2</td><td>01/02/2020 12:18:24 PM</td><td>01/02/2020 12:36:14 PM</td><td>6</td><td>4.19</td><td>1</td><td>N</td><td>1</td><td>15.5</td><td>0.0</td><td>0.5</td><td>333.5</td><td>0.0</td><td>0.3</td><td>352.3</td><td>2.5</td><td>Lenox Hill East</td><td>Manhattan</td><td>Greenwich Village North</td><td>Manhattan</td><td>2020-01-02T12:18:24.000+0000</td><td>2020-01-02T12:36:14.000+0000</td><td>2020</td></tr></tbody></table></div>"
      ]
     },
     "metadata": {
      "application/vnd.databricks.v1+output": {
       "addedWidgets": {},
       "aggData": [],
       "aggError": "",
       "aggOverflow": false,
       "aggSchema": [],
       "aggSeriesLimitReached": false,
       "aggType": "",
       "arguments": {},
       "columnCustomDisplayInfos": {},
       "data": [
        [
         13,
         48,
         2,
         "01/01/2020 02:40:39 AM",
         "01/01/2020 02:57:48 AM",
         2,
         4.02,
         1,
         "N",
         1,
         16,
         0.5,
         0.5,
         228.09,
         0,
         0.3,
         247.89,
         2.5,
         "Clinton East",
         "Manhattan",
         "Battery Park City",
         "Manhattan",
         "2020-01-01T02:40:39.000+0000",
         "2020-01-01T02:57:48.000+0000",
         2020
        ],
        [
         45,
         79,
         1,
         "01/01/2020 04:06:21 AM",
         "01/01/2020 04:22:57 AM",
         1,
         1.5,
         1,
         "N",
         1,
         11.5,
         3,
         0.5,
         450,
         0,
         0.3,
         465.3,
         2.5,
         "East Village",
         "Manhattan",
         "Chinatown",
         "Manhattan",
         "2020-01-01T04:06:21.000+0000",
         "2020-01-01T04:22:57.000+0000",
         2020
        ],
        [
         237,
         237,
         2,
         "01/01/2020 05:16:05 PM",
         "01/01/2020 05:22:07 PM",
         1,
         0.78,
         1,
         "N",
         1,
         6,
         0,
         0.5,
         140.08,
         0,
         0.3,
         149.38,
         2.5,
         "Upper East Side South",
         "Manhattan",
         "Upper East Side South",
         "Manhattan",
         "2020-01-01T17:16:05.000+0000",
         "2020-01-01T17:22:07.000+0000",
         2020
        ],
        [
         138,
         107,
         2,
         "01/02/2020 05:26:42 AM",
         "01/02/2020 05:40:32 AM",
         1,
         9.09,
         1,
         "N",
         1,
         25,
         0.5,
         0.5,
         100.2,
         6.12,
         0.3,
         135.12,
         2.5,
         "Gramercy",
         "Manhattan",
         "LaGuardia Airport",
         "Queens",
         "2020-01-02T05:26:42.000+0000",
         "2020-01-02T05:40:32.000+0000",
         2020
        ],
        [
         113,
         140,
         2,
         "01/02/2020 12:18:24 PM",
         "01/02/2020 12:36:14 PM",
         6,
         4.19,
         1,
         "N",
         1,
         15.5,
         0,
         0.5,
         333.5,
         0,
         0.3,
         352.3,
         2.5,
         "Lenox Hill East",
         "Manhattan",
         "Greenwich Village North",
         "Manhattan",
         "2020-01-02T12:18:24.000+0000",
         "2020-01-02T12:36:14.000+0000",
         2020
        ]
       ],
       "datasetInfos": [],
       "dbfsResultPath": null,
       "isJsonSchema": true,
       "metadata": {},
       "overflow": false,
       "plotOptions": {
        "customPlotOptions": {},
        "displayType": "table",
        "pivotAggregation": null,
        "pivotColumns": null,
        "xColumns": null,
        "yColumns": null
       },
       "removedWidgets": [],
       "schema": [
        {
         "metadata": "{}",
         "name": "DOLocationID",
         "type": "\"integer\""
        },
        {
         "metadata": "{}",
         "name": "PULocationID",
         "type": "\"integer\""
        },
        {
         "metadata": "{}",
         "name": "VendorID",
         "type": "\"integer\""
        },
        {
         "metadata": "{}",
         "name": "tpep_pickup_datetime",
         "type": "\"string\""
        },
        {
         "metadata": "{}",
         "name": "tpep_dropoff_datetime",
         "type": "\"string\""
        },
        {
         "metadata": "{}",
         "name": "passenger_count",
         "type": "\"integer\""
        },
        {
         "metadata": "{}",
         "name": "trip_distance(miles)",
         "type": "\"double\""
        },
        {
         "metadata": "{}",
         "name": "RatecodeID",
         "type": "\"integer\""
        },
        {
         "metadata": "{}",
         "name": "store_and_fwd_flag",
         "type": "\"string\""
        },
        {
         "metadata": "{}",
         "name": "payment_type",
         "type": "\"integer\""
        },
        {
         "metadata": "{}",
         "name": "fare_amount",
         "type": "\"double\""
        },
        {
         "metadata": "{}",
         "name": "extra",
         "type": "\"double\""
        },
        {
         "metadata": "{}",
         "name": "mta_tax",
         "type": "\"double\""
        },
        {
         "metadata": "{}",
         "name": "tip_amount",
         "type": "\"double\""
        },
        {
         "metadata": "{}",
         "name": "tolls_amount",
         "type": "\"double\""
        },
        {
         "metadata": "{}",
         "name": "improvement_surcharge",
         "type": "\"double\""
        },
        {
         "metadata": "{}",
         "name": "total_amount",
         "type": "\"double\""
        },
        {
         "metadata": "{}",
         "name": "congestion_surcharge",
         "type": "\"double\""
        },
        {
         "metadata": "{}",
         "name": "PU_Zone",
         "type": "\"string\""
        },
        {
         "metadata": "{}",
         "name": "PU_Borough",
         "type": "\"string\""
        },
        {
         "metadata": "{}",
         "name": "DO_Zone",
         "type": "\"string\""
        },
        {
         "metadata": "{}",
         "name": "DO_Borough",
         "type": "\"string\""
        },
        {
         "metadata": "{}",
         "name": "PU_timestamp",
         "type": "\"timestamp\""
        },
        {
         "metadata": "{}",
         "name": "DO_timestamp",
         "type": "\"timestamp\""
        },
        {
         "metadata": "{}",
         "name": "Year",
         "type": "\"integer\""
        }
       ],
       "type": "table"
      }
     },
     "output_type": "display_data"
    }
   ],
   "source": [
    "# Filtering out the high tips (greater than $100).\n",
    "\n",
    "Top_tip = data.filter(data.tip_amount > 100)\n",
    "Top_tip.limit(5).display()"
   ]
  },
  {
   "cell_type": "code",
   "execution_count": 0,
   "metadata": {
    "application/vnd.databricks.v1+cell": {
     "inputWidgets": {},
     "nuid": "d30f6177-f4b8-49ed-b779-f642c3338231",
     "showTitle": false,
     "title": ""
    }
   },
   "outputs": [
    {
     "data": {
      "text/html": [
       "<style scoped>\n",
       "  .table-result-container {\n",
       "    max-height: 300px;\n",
       "    overflow: auto;\n",
       "  }\n",
       "  table, th, td {\n",
       "    border: 1px solid black;\n",
       "    border-collapse: collapse;\n",
       "  }\n",
       "  th, td {\n",
       "    padding: 5px;\n",
       "  }\n",
       "  th {\n",
       "    text-align: left;\n",
       "  }\n",
       "</style><div class='table-result-container'><table class='table-result'><thead style='background-color: white'><tr><th>PU_Zone</th><th>PU_Borough</th><th>Avg_Tip</th><th>Count</th></tr></thead><tbody><tr><td>Jackson Heights</td><td>Queens</td><td>549.02</td><td>1</td></tr><tr><td>Central Park</td><td>Manhattan</td><td>400.0</td><td>1</td></tr><tr><td>Sunset Park East</td><td>Brooklyn</td><td>383.0</td><td>1</td></tr><tr><td>UN/Turtle Bay South</td><td>Manhattan</td><td>355.46500000000003</td><td>2</td></tr><tr><td>Dyker Heights</td><td>Brooklyn</td><td>332.5</td><td>2</td></tr><tr><td>Alphabet City</td><td>Manhattan</td><td>307.3375</td><td>4</td></tr><tr><td>Washington Heights South</td><td>Manhattan</td><td>300.0</td><td>1</td></tr><tr><td>Greenwich Village North</td><td>Manhattan</td><td>298.608</td><td>5</td></tr><tr><td>Little Italy/NoLiTa</td><td>Manhattan</td><td>297.365</td><td>4</td></tr><tr><td>Bloomingdale</td><td>Manhattan</td><td>296.425</td><td>2</td></tr></tbody></table></div>"
      ]
     },
     "metadata": {
      "application/vnd.databricks.v1+output": {
       "addedWidgets": {},
       "aggData": [],
       "aggError": "",
       "aggOverflow": false,
       "aggSchema": [],
       "aggSeriesLimitReached": false,
       "aggType": "",
       "arguments": {},
       "columnCustomDisplayInfos": {},
       "data": [
        [
         "Jackson Heights",
         "Queens",
         549.02,
         1
        ],
        [
         "Central Park",
         "Manhattan",
         400,
         1
        ],
        [
         "Sunset Park East",
         "Brooklyn",
         383,
         1
        ],
        [
         "UN/Turtle Bay South",
         "Manhattan",
         355.46500000000003,
         2
        ],
        [
         "Dyker Heights",
         "Brooklyn",
         332.5,
         2
        ],
        [
         "Alphabet City",
         "Manhattan",
         307.3375,
         4
        ],
        [
         "Washington Heights South",
         "Manhattan",
         300,
         1
        ],
        [
         "Greenwich Village North",
         "Manhattan",
         298.608,
         5
        ],
        [
         "Little Italy/NoLiTa",
         "Manhattan",
         297.365,
         4
        ],
        [
         "Bloomingdale",
         "Manhattan",
         296.425,
         2
        ]
       ],
       "datasetInfos": [],
       "dbfsResultPath": null,
       "isJsonSchema": true,
       "metadata": {},
       "overflow": false,
       "plotOptions": {
        "customPlotOptions": {},
        "displayType": "table",
        "pivotAggregation": null,
        "pivotColumns": null,
        "xColumns": null,
        "yColumns": null
       },
       "removedWidgets": [],
       "schema": [
        {
         "metadata": "{}",
         "name": "PU_Zone",
         "type": "\"string\""
        },
        {
         "metadata": "{}",
         "name": "PU_Borough",
         "type": "\"string\""
        },
        {
         "metadata": "{}",
         "name": "Avg_Tip",
         "type": "\"double\""
        },
        {
         "metadata": "{}",
         "name": "Count",
         "type": "\"long\""
        }
       ],
       "type": "table"
      }
     },
     "output_type": "display_data"
    }
   ],
   "source": [
    "# High Tip pick up location\n",
    "\n",
    "Top_Tip = Top_tip.groupBy(\"PU_Zone\", \"PU_Borough\").agg(avg(\"tip_amount\").alias(\"Avg_Tip\"), count(\"*\").alias(\"Count\"))\n",
    "Top_Tip= Top_Tip.sort(Top_Tip.Avg_Tip.desc()).limit(10)\n",
    "Top_Tip.display()"
   ]
  },
  {
   "cell_type": "code",
   "execution_count": 0,
   "metadata": {
    "application/vnd.databricks.v1+cell": {
     "inputWidgets": {},
     "nuid": "5a2b35d5-0b18-4ca0-997a-62b20aa09ead",
     "showTitle": false,
     "title": ""
    }
   },
   "outputs": [
    {
     "data": {
      "text/html": [
       "<style scoped>\n",
       "  .table-result-container {\n",
       "    max-height: 300px;\n",
       "    overflow: auto;\n",
       "  }\n",
       "  table, th, td {\n",
       "    border: 1px solid black;\n",
       "    border-collapse: collapse;\n",
       "  }\n",
       "  th, td {\n",
       "    padding: 5px;\n",
       "  }\n",
       "  th {\n",
       "    text-align: left;\n",
       "  }\n",
       "</style><div class='table-result-container'><table class='table-result'><thead style='background-color: white'><tr><th>Tip_Hour</th><th>Avg_Tip</th><th>Count</th></tr></thead><tbody><tr><td>3</td><td>407.2625</td><td>4</td></tr><tr><td>4</td><td>260.322</td><td>5</td></tr><tr><td>10</td><td>241.504</td><td>10</td></tr><tr><td>21</td><td>230.0858333333333</td><td>12</td></tr><tr><td>15</td><td>218.94846153846157</td><td>13</td></tr><tr><td>20</td><td>211.83266666666665</td><td>15</td></tr><tr><td>23</td><td>208.30125</td><td>8</td></tr><tr><td>19</td><td>208.04461538461538</td><td>13</td></tr><tr><td>18</td><td>207.57142857142858</td><td>7</td></tr><tr><td>17</td><td>204.13181818181818</td><td>22</td></tr><tr><td>22</td><td>200.65749999999997</td><td>16</td></tr><tr><td>8</td><td>184.408</td><td>5</td></tr><tr><td>12</td><td>181.71249999999998</td><td>12</td></tr><tr><td>14</td><td>176.03526315789475</td><td>19</td></tr><tr><td>11</td><td>174.00571428571428</td><td>14</td></tr><tr><td>13</td><td>168.90437500000002</td><td>16</td></tr><tr><td>9</td><td>167.694</td><td>10</td></tr><tr><td>5</td><td>166.75</td><td>3</td></tr><tr><td>0</td><td>162.41285714285712</td><td>14</td></tr><tr><td>7</td><td>161.57999999999998</td><td>5</td></tr><tr><td>16</td><td>150.3181818181818</td><td>11</td></tr><tr><td>1</td><td>147.8</td><td>5</td></tr><tr><td>2</td><td>139.73250000000002</td><td>4</td></tr><tr><td>6</td><td>110.0</td><td>1</td></tr></tbody></table></div>"
      ]
     },
     "metadata": {
      "application/vnd.databricks.v1+output": {
       "addedWidgets": {},
       "aggData": [],
       "aggError": "",
       "aggOverflow": false,
       "aggSchema": [],
       "aggSeriesLimitReached": false,
       "aggType": "",
       "arguments": {},
       "columnCustomDisplayInfos": {},
       "data": [
        [
         3,
         407.2625,
         4
        ],
        [
         4,
         260.322,
         5
        ],
        [
         10,
         241.504,
         10
        ],
        [
         21,
         230.0858333333333,
         12
        ],
        [
         15,
         218.94846153846157,
         13
        ],
        [
         20,
         211.83266666666665,
         15
        ],
        [
         23,
         208.30125,
         8
        ],
        [
         19,
         208.04461538461538,
         13
        ],
        [
         18,
         207.57142857142858,
         7
        ],
        [
         17,
         204.13181818181818,
         22
        ],
        [
         22,
         200.65749999999997,
         16
        ],
        [
         8,
         184.408,
         5
        ],
        [
         12,
         181.71249999999998,
         12
        ],
        [
         14,
         176.03526315789475,
         19
        ],
        [
         11,
         174.00571428571428,
         14
        ],
        [
         13,
         168.90437500000002,
         16
        ],
        [
         9,
         167.694,
         10
        ],
        [
         5,
         166.75,
         3
        ],
        [
         0,
         162.41285714285712,
         14
        ],
        [
         7,
         161.57999999999998,
         5
        ],
        [
         16,
         150.3181818181818,
         11
        ],
        [
         1,
         147.8,
         5
        ],
        [
         2,
         139.73250000000002,
         4
        ],
        [
         6,
         110,
         1
        ]
       ],
       "datasetInfos": [],
       "dbfsResultPath": null,
       "isJsonSchema": true,
       "metadata": {},
       "overflow": false,
       "plotOptions": {
        "customPlotOptions": {
         "plotlyLine": [
          {
           "key": "yRange",
           "value": ""
          },
          {
           "key": "showPoints",
           "value": false
          },
          {
           "key": "logScale",
           "value": false
          }
         ]
        },
        "displayType": "table",
        "pivotAggregation": "sum",
        "pivotColumns": [],
        "xColumns": [
         "Tip_Hour"
        ],
        "yColumns": [
         "Avg_Tip"
        ]
       },
       "removedWidgets": [],
       "schema": [
        {
         "metadata": "{}",
         "name": "Tip_Hour",
         "type": "\"integer\""
        },
        {
         "metadata": "{}",
         "name": "Avg_Tip",
         "type": "\"double\""
        },
        {
         "metadata": "{}",
         "name": "Count",
         "type": "\"long\""
        }
       ],
       "type": "table"
      }
     },
     "output_type": "display_data"
    }
   ],
   "source": [
    "# High Tip Hours (Based on Amount)\n",
    "\n",
    "Tip_Hour = Top_tip.withColumn(\"Tip_Hour\", hour(col(\"PU_timestamp\")))\n",
    "Tip_Hour = Tip_Hour.groupBy(\"Tip_Hour\").agg(avg(\"tip_amount\").alias(\"Avg_Tip\"), count(\"*\").alias(\"Count\"))\n",
    "Tip_Hour = Tip_Hour.sort(Tip_Hour.Avg_Tip.desc()).limit(24)\n",
    "Tip_Hour.display()"
   ]
  },
  {
   "cell_type": "code",
   "execution_count": 0,
   "metadata": {
    "application/vnd.databricks.v1+cell": {
     "inputWidgets": {},
     "nuid": "5439da1f-455a-4a5a-8f89-2fa1024dd73c",
     "showTitle": false,
     "title": ""
    }
   },
   "outputs": [
    {
     "data": {
      "text/html": [
       "<style scoped>\n",
       "  .table-result-container {\n",
       "    max-height: 300px;\n",
       "    overflow: auto;\n",
       "  }\n",
       "  table, th, td {\n",
       "    border: 1px solid black;\n",
       "    border-collapse: collapse;\n",
       "  }\n",
       "  th, td {\n",
       "    padding: 5px;\n",
       "  }\n",
       "  th {\n",
       "    text-align: left;\n",
       "  }\n",
       "</style><div class='table-result-container'><table class='table-result'><thead style='background-color: white'><tr><th>Tip_Day</th><th>Avg_Tip</th></tr></thead><tbody><tr><td>Saturday</td><td>231.01666666666665</td></tr><tr><td>Monday</td><td>220.98</td></tr><tr><td>Friday</td><td>197.80684210526314</td></tr><tr><td>Sunday</td><td>193.7537209302326</td></tr><tr><td>Wednesday</td><td>185.5545945945946</td></tr><tr><td>Tuesday</td><td>176.47218750000002</td></tr><tr><td>Thursday</td><td>169.34368421052633</td></tr></tbody></table></div>"
      ]
     },
     "metadata": {
      "application/vnd.databricks.v1+output": {
       "addedWidgets": {},
       "aggData": [],
       "aggError": "",
       "aggOverflow": false,
       "aggSchema": [],
       "aggSeriesLimitReached": false,
       "aggType": "",
       "arguments": {},
       "columnCustomDisplayInfos": {},
       "data": [
        [
         "Saturday",
         231.01666666666665
        ],
        [
         "Monday",
         220.98
        ],
        [
         "Friday",
         197.80684210526314
        ],
        [
         "Sunday",
         193.7537209302326
        ],
        [
         "Wednesday",
         185.5545945945946
        ],
        [
         "Tuesday",
         176.47218750000002
        ],
        [
         "Thursday",
         169.34368421052633
        ]
       ],
       "datasetInfos": [],
       "dbfsResultPath": null,
       "isJsonSchema": true,
       "metadata": {},
       "overflow": false,
       "plotOptions": {
        "customPlotOptions": {},
        "displayType": "table",
        "pivotAggregation": null,
        "pivotColumns": null,
        "xColumns": null,
        "yColumns": null
       },
       "removedWidgets": [],
       "schema": [
        {
         "metadata": "{}",
         "name": "Tip_Day",
         "type": "\"string\""
        },
        {
         "metadata": "{}",
         "name": "Avg_Tip",
         "type": "\"double\""
        }
       ],
       "type": "table"
      }
     },
     "output_type": "display_data"
    }
   ],
   "source": [
    "# High tip Days\n",
    "\n",
    "Tip_Day = Top_tip.withColumn(\"Tip_Day\", dayofweek(col(\"PU_timestamp\")))\n",
    "Tip_Day = Tip_Day.groupBy(\"Tip_Day\").agg(avg(\"tip_amount\").alias(\"Avg_Tip\"))\n",
    "Tip_Day = Tip_Day.sort(Tip_Day.Avg_Tip.desc())\n",
    "\n",
    "# Converting numerals to days of the week\n",
    "\n",
    "day_of_week = [\"Monday\", \"Tuesday\", \"Wednesday\", \"Thursday\", \"Friday\", \"Saturday\", \"Sunday\"]\n",
    "for i, day in zip(range (1,8), day_of_week):\n",
    "  Tip_Day = Tip_Day.withColumn(\"Tip_Day\",F.when(Tip_Day[\"Tip_Day\"]==i,day).otherwise(Tip_Day[\"Tip_Day\"]))\n",
    "\n",
    "Tip_Day.display()"
   ]
  },
  {
   "cell_type": "markdown",
   "metadata": {
    "application/vnd.databricks.v1+cell": {
     "inputWidgets": {},
     "nuid": "a26c3795-ca45-480f-918d-6f62801609e1",
     "showTitle": false,
     "title": ""
    }
   },
   "source": [
    "1) High Tip locations = Most high tips are paid by riders picked from rich neighborhood's like; Greenwich Village, Turtle Bay, Little Italy \n",
    "\n",
    "2) High Tip Hours = Usually high tips are paid around 5pm, 10pm, and between (1pm and 2pm).\n",
    "\n",
    "3) High Tip Days = Top tip days are Saturdays and Mondays"
   ]
  },
  {
   "cell_type": "markdown",
   "metadata": {
    "application/vnd.databricks.v1+cell": {
     "inputWidgets": {},
     "nuid": "8980ea60-6605-44ff-8810-378bf4394dc8",
     "showTitle": false,
     "title": ""
    }
   },
   "source": [
    "# Extra"
   ]
  },
  {
   "cell_type": "markdown",
   "metadata": {
    "application/vnd.databricks.v1+cell": {
     "inputWidgets": {},
     "nuid": "e1512316-ed69-4f8e-afd5-81335e75d4e1",
     "showTitle": false,
     "title": ""
    }
   },
   "source": [
    "# The difference between the actual fare/travel cost and the total amount paid by the customer (without tip). "
   ]
  },
  {
   "cell_type": "code",
   "execution_count": 0,
   "metadata": {
    "application/vnd.databricks.v1+cell": {
     "inputWidgets": {},
     "nuid": "9fcd7cea-4d0f-4066-84ae-82d4a96286c0",
     "showTitle": false,
     "title": ""
    }
   },
   "outputs": [
    {
     "data": {
      "text/html": [
       "<style scoped>\n",
       "  .ansiout {\n",
       "    display: block;\n",
       "    unicode-bidi: embed;\n",
       "    white-space: pre-wrap;\n",
       "    word-wrap: break-word;\n",
       "    word-break: break-all;\n",
       "    font-family: \"Source Code Pro\", \"Menlo\", monospace;;\n",
       "    font-size: 13px;\n",
       "    color: #555;\n",
       "    margin-left: 4px;\n",
       "    line-height: 19px;\n",
       "  }\n",
       "</style>\n",
       "<div class=\"ansiout\"></div>"
      ]
     },
     "metadata": {
      "application/vnd.databricks.v1+output": {
       "addedWidgets": {},
       "arguments": {},
       "data": "<div class=\"ansiout\"></div>",
       "datasetInfos": [],
       "metadata": {},
       "removedWidgets": [],
       "type": "html"
      }
     },
     "output_type": "display_data"
    }
   ],
   "source": [
    "# To make sure we're working with positive numbers to avoid zero division error.\n",
    "\n",
    "extra_data = data.filter(data.fare_amount > 0)\n",
    "extra_data = extra_data.filter((extra_data.extra >= 0) & (extra_data.mta_tax >= 0) & (extra_data.tolls_amount >= 0) & (extra_data.improvement_surcharge >= 0))"
   ]
  },
  {
   "cell_type": "code",
   "execution_count": 0,
   "metadata": {
    "application/vnd.databricks.v1+cell": {
     "inputWidgets": {},
     "nuid": "3a338f54-a41b-4151-96cc-ce8cdcc1e0b9",
     "showTitle": false,
     "title": ""
    }
   },
   "outputs": [
    {
     "data": {
      "text/html": [
       "<style scoped>\n",
       "  .ansiout {\n",
       "    display: block;\n",
       "    unicode-bidi: embed;\n",
       "    white-space: pre-wrap;\n",
       "    word-wrap: break-word;\n",
       "    word-break: break-all;\n",
       "    font-family: \"Source Code Pro\", \"Menlo\", monospace;;\n",
       "    font-size: 13px;\n",
       "    color: #555;\n",
       "    margin-left: 4px;\n",
       "    line-height: 19px;\n",
       "  }\n",
       "</style>\n",
       "<div class=\"ansiout\"></div>"
      ]
     },
     "metadata": {
      "application/vnd.databricks.v1+output": {
       "addedWidgets": {},
       "arguments": {},
       "data": "<div class=\"ansiout\"></div>",
       "datasetInfos": [],
       "metadata": {},
       "removedWidgets": [],
       "type": "html"
      }
     },
     "output_type": "display_data"
    }
   ],
   "source": [
    "# Function that adds up our interested columns, and creates new columns to store the results.\n",
    "\n",
    "def Total_without_tip (fare, extra, tax, tolls, improvement):\n",
    "  return fare + extra + tax + tolls + improvement\n",
    "\n",
    "TWT = udf(lambda a,b,c,d,e: Total_without_tip(a,b,c,d,e), DoubleType()) # Double type to specify the return type\n",
    "\n",
    "extra = extra_data.withColumn(\"Total_without_tip\", TWT(extra_data.fare_amount, extra_data.extra, extra_data.mta_tax, extra_data.tolls_amount, extra_data.improvement_surcharge))\n",
    "\n",
    "\n",
    "def percent_extra (fare, Total_without_tip):\n",
    "  return Total_without_tip - fare\n",
    "\n",
    "extra_amount = udf(lambda x,y: percent_extra(x,y), DoubleType()) # Double type to specify the return type\n",
    "\n",
    "extra = extra.withColumn (\"extra_amount\", extra_amount(extra.fare_amount, extra.Total_without_tip))\n",
    "\n",
    "\n",
    "def percent_extra (fare, Total_without_tip):\n",
    "  return (((Total_without_tip/fare) * 100) - 100)\n",
    "\n",
    "percent = udf(lambda x,y: percent_extra(x,y), DoubleType()) # Double type to specify the return type\n",
    "\n",
    "extra = extra.withColumn (\"percent_extra\", percent(extra.fare_amount, extra.Total_without_tip))"
   ]
  },
  {
   "cell_type": "code",
   "execution_count": 0,
   "metadata": {
    "application/vnd.databricks.v1+cell": {
     "inputWidgets": {},
     "nuid": "2054b7b3-6116-4448-ba24-65bed848167d",
     "showTitle": false,
     "title": ""
    }
   },
   "outputs": [
    {
     "data": {
      "text/html": [
       "<style scoped>\n",
       "  .table-result-container {\n",
       "    max-height: 300px;\n",
       "    overflow: auto;\n",
       "  }\n",
       "  table, th, td {\n",
       "    border: 1px solid black;\n",
       "    border-collapse: collapse;\n",
       "  }\n",
       "  th, td {\n",
       "    padding: 5px;\n",
       "  }\n",
       "  th {\n",
       "    text-align: left;\n",
       "  }\n",
       "</style><div class='table-result-container'><table class='table-result'><thead style='background-color: white'><tr><th>DOLocationID</th><th>PULocationID</th><th>VendorID</th><th>tpep_pickup_datetime</th><th>tpep_dropoff_datetime</th><th>passenger_count</th><th>trip_distance(miles)</th><th>RatecodeID</th><th>store_and_fwd_flag</th><th>payment_type</th><th>fare_amount</th><th>extra</th><th>mta_tax</th><th>tip_amount</th><th>tolls_amount</th><th>improvement_surcharge</th><th>total_amount</th><th>congestion_surcharge</th><th>PU_Zone</th><th>PU_Borough</th><th>DO_Zone</th><th>DO_Borough</th><th>PU_timestamp</th><th>DO_timestamp</th><th>Year</th><th>Total_without_tip</th><th>extra_amount</th><th>percent_extra</th></tr></thead><tbody><tr><td>239</td><td>238</td><td>1</td><td>01/01/2020 12:28:15 AM</td><td>01/01/2020 12:33:03 AM</td><td>1</td><td>1.2</td><td>1</td><td>N</td><td>1</td><td>6.0</td><td>3.0</td><td>0.5</td><td>1.47</td><td>0.0</td><td>0.3</td><td>11.27</td><td>2.5</td><td>Upper West Side North</td><td>Manhattan</td><td>Upper West Side South</td><td>Manhattan</td><td>2020-01-01T00:28:15.000+0000</td><td>2020-01-01T00:33:03.000+0000</td><td>2020</td><td>9.8</td><td>3.8000000000000007</td><td>63.33333333333334</td></tr><tr><td>238</td><td>239</td><td>1</td><td>01/01/2020 12:35:39 AM</td><td>01/01/2020 12:43:04 AM</td><td>1</td><td>1.2</td><td>1</td><td>N</td><td>1</td><td>7.0</td><td>3.0</td><td>0.5</td><td>1.5</td><td>0.0</td><td>0.3</td><td>12.3</td><td>2.5</td><td>Upper West Side South</td><td>Manhattan</td><td>Upper West Side North</td><td>Manhattan</td><td>2020-01-01T00:35:39.000+0000</td><td>2020-01-01T00:43:04.000+0000</td><td>2020</td><td>10.8</td><td>3.8000000000000007</td><td>54.285714285714306</td></tr><tr><td>238</td><td>238</td><td>1</td><td>01/01/2020 12:47:41 AM</td><td>01/01/2020 12:53:52 AM</td><td>1</td><td>0.6</td><td>1</td><td>N</td><td>1</td><td>6.0</td><td>3.0</td><td>0.5</td><td>1.0</td><td>0.0</td><td>0.3</td><td>10.8</td><td>2.5</td><td>Upper West Side North</td><td>Manhattan</td><td>Upper West Side North</td><td>Manhattan</td><td>2020-01-01T00:47:41.000+0000</td><td>2020-01-01T00:53:52.000+0000</td><td>2020</td><td>9.8</td><td>3.8000000000000007</td><td>63.33333333333334</td></tr><tr><td>151</td><td>238</td><td>1</td><td>01/01/2020 12:55:23 AM</td><td>01/01/2020 01:00:14 AM</td><td>1</td><td>0.8</td><td>1</td><td>N</td><td>1</td><td>5.5</td><td>0.5</td><td>0.5</td><td>1.36</td><td>0.0</td><td>0.3</td><td>8.16</td><td>0.0</td><td>Upper West Side North</td><td>Manhattan</td><td>Manhattan Valley</td><td>Manhattan</td><td>2020-01-01T00:55:23.000+0000</td><td>2020-01-01T01:00:14.000+0000</td><td>2020</td><td>6.8</td><td>1.2999999999999998</td><td>23.636363636363626</td></tr><tr><td>193</td><td>193</td><td>2</td><td>01/01/2020 12:01:58 AM</td><td>01/01/2020 12:04:16 AM</td><td>1</td><td>0.0</td><td>1</td><td>N</td><td>2</td><td>3.5</td><td>0.5</td><td>0.5</td><td>0.0</td><td>0.0</td><td>0.3</td><td>4.8</td><td>0.0</td><td>Queensbridge/Ravenswood</td><td>Queens</td><td>Queensbridge/Ravenswood</td><td>Queens</td><td>2020-01-01T00:01:58.000+0000</td><td>2020-01-01T00:04:16.000+0000</td><td>2020</td><td>4.8</td><td>1.2999999999999998</td><td>37.14285714285714</td></tr></tbody></table></div>"
      ]
     },
     "metadata": {
      "application/vnd.databricks.v1+output": {
       "addedWidgets": {},
       "aggData": [],
       "aggError": "",
       "aggOverflow": false,
       "aggSchema": [],
       "aggSeriesLimitReached": false,
       "aggType": "",
       "arguments": {},
       "columnCustomDisplayInfos": {},
       "data": [
        [
         239,
         238,
         1,
         "01/01/2020 12:28:15 AM",
         "01/01/2020 12:33:03 AM",
         1,
         1.2,
         1,
         "N",
         1,
         6,
         3,
         0.5,
         1.47,
         0,
         0.3,
         11.27,
         2.5,
         "Upper West Side North",
         "Manhattan",
         "Upper West Side South",
         "Manhattan",
         "2020-01-01T00:28:15.000+0000",
         "2020-01-01T00:33:03.000+0000",
         2020,
         9.8,
         3.8000000000000007,
         63.33333333333334
        ],
        [
         238,
         239,
         1,
         "01/01/2020 12:35:39 AM",
         "01/01/2020 12:43:04 AM",
         1,
         1.2,
         1,
         "N",
         1,
         7,
         3,
         0.5,
         1.5,
         0,
         0.3,
         12.3,
         2.5,
         "Upper West Side South",
         "Manhattan",
         "Upper West Side North",
         "Manhattan",
         "2020-01-01T00:35:39.000+0000",
         "2020-01-01T00:43:04.000+0000",
         2020,
         10.8,
         3.8000000000000007,
         54.285714285714306
        ],
        [
         238,
         238,
         1,
         "01/01/2020 12:47:41 AM",
         "01/01/2020 12:53:52 AM",
         1,
         0.6,
         1,
         "N",
         1,
         6,
         3,
         0.5,
         1,
         0,
         0.3,
         10.8,
         2.5,
         "Upper West Side North",
         "Manhattan",
         "Upper West Side North",
         "Manhattan",
         "2020-01-01T00:47:41.000+0000",
         "2020-01-01T00:53:52.000+0000",
         2020,
         9.8,
         3.8000000000000007,
         63.33333333333334
        ],
        [
         151,
         238,
         1,
         "01/01/2020 12:55:23 AM",
         "01/01/2020 01:00:14 AM",
         1,
         0.8,
         1,
         "N",
         1,
         5.5,
         0.5,
         0.5,
         1.36,
         0,
         0.3,
         8.16,
         0,
         "Upper West Side North",
         "Manhattan",
         "Manhattan Valley",
         "Manhattan",
         "2020-01-01T00:55:23.000+0000",
         "2020-01-01T01:00:14.000+0000",
         2020,
         6.8,
         1.2999999999999998,
         23.636363636363626
        ],
        [
         193,
         193,
         2,
         "01/01/2020 12:01:58 AM",
         "01/01/2020 12:04:16 AM",
         1,
         0,
         1,
         "N",
         2,
         3.5,
         0.5,
         0.5,
         0,
         0,
         0.3,
         4.8,
         0,
         "Queensbridge/Ravenswood",
         "Queens",
         "Queensbridge/Ravenswood",
         "Queens",
         "2020-01-01T00:01:58.000+0000",
         "2020-01-01T00:04:16.000+0000",
         2020,
         4.8,
         1.2999999999999998,
         37.14285714285714
        ]
       ],
       "datasetInfos": [],
       "dbfsResultPath": null,
       "isJsonSchema": true,
       "metadata": {},
       "overflow": false,
       "plotOptions": {
        "customPlotOptions": {},
        "displayType": "table",
        "pivotAggregation": null,
        "pivotColumns": null,
        "xColumns": null,
        "yColumns": null
       },
       "removedWidgets": [],
       "schema": [
        {
         "metadata": "{}",
         "name": "DOLocationID",
         "type": "\"integer\""
        },
        {
         "metadata": "{}",
         "name": "PULocationID",
         "type": "\"integer\""
        },
        {
         "metadata": "{}",
         "name": "VendorID",
         "type": "\"integer\""
        },
        {
         "metadata": "{}",
         "name": "tpep_pickup_datetime",
         "type": "\"string\""
        },
        {
         "metadata": "{}",
         "name": "tpep_dropoff_datetime",
         "type": "\"string\""
        },
        {
         "metadata": "{}",
         "name": "passenger_count",
         "type": "\"integer\""
        },
        {
         "metadata": "{}",
         "name": "trip_distance(miles)",
         "type": "\"double\""
        },
        {
         "metadata": "{}",
         "name": "RatecodeID",
         "type": "\"integer\""
        },
        {
         "metadata": "{}",
         "name": "store_and_fwd_flag",
         "type": "\"string\""
        },
        {
         "metadata": "{}",
         "name": "payment_type",
         "type": "\"integer\""
        },
        {
         "metadata": "{}",
         "name": "fare_amount",
         "type": "\"double\""
        },
        {
         "metadata": "{}",
         "name": "extra",
         "type": "\"double\""
        },
        {
         "metadata": "{}",
         "name": "mta_tax",
         "type": "\"double\""
        },
        {
         "metadata": "{}",
         "name": "tip_amount",
         "type": "\"double\""
        },
        {
         "metadata": "{}",
         "name": "tolls_amount",
         "type": "\"double\""
        },
        {
         "metadata": "{}",
         "name": "improvement_surcharge",
         "type": "\"double\""
        },
        {
         "metadata": "{}",
         "name": "total_amount",
         "type": "\"double\""
        },
        {
         "metadata": "{}",
         "name": "congestion_surcharge",
         "type": "\"double\""
        },
        {
         "metadata": "{}",
         "name": "PU_Zone",
         "type": "\"string\""
        },
        {
         "metadata": "{}",
         "name": "PU_Borough",
         "type": "\"string\""
        },
        {
         "metadata": "{}",
         "name": "DO_Zone",
         "type": "\"string\""
        },
        {
         "metadata": "{}",
         "name": "DO_Borough",
         "type": "\"string\""
        },
        {
         "metadata": "{}",
         "name": "PU_timestamp",
         "type": "\"timestamp\""
        },
        {
         "metadata": "{}",
         "name": "DO_timestamp",
         "type": "\"timestamp\""
        },
        {
         "metadata": "{}",
         "name": "Year",
         "type": "\"integer\""
        },
        {
         "metadata": "{}",
         "name": "Total_without_tip",
         "type": "\"double\""
        },
        {
         "metadata": "{}",
         "name": "extra_amount",
         "type": "\"double\""
        },
        {
         "metadata": "{}",
         "name": "percent_extra",
         "type": "\"double\""
        }
       ],
       "type": "table"
      }
     },
     "output_type": "display_data"
    }
   ],
   "source": [
    "extra.limit(5).display()"
   ]
  },
  {
   "cell_type": "code",
   "execution_count": 0,
   "metadata": {
    "application/vnd.databricks.v1+cell": {
     "inputWidgets": {},
     "nuid": "41cf4f40-7145-4534-8987-9c3549700911",
     "showTitle": false,
     "title": ""
    }
   },
   "outputs": [
    {
     "data": {
      "text/html": [
       "<style scoped>\n",
       "  .table-result-container {\n",
       "    max-height: 300px;\n",
       "    overflow: auto;\n",
       "  }\n",
       "  table, th, td {\n",
       "    border: 1px solid black;\n",
       "    border-collapse: collapse;\n",
       "  }\n",
       "  th, td {\n",
       "    padding: 5px;\n",
       "  }\n",
       "  th {\n",
       "    text-align: left;\n",
       "  }\n",
       "</style><div class='table-result-container'><table class='table-result'><thead style='background-color: white'><tr><th>summary</th><th>percent_extra</th></tr></thead><tbody><tr><td>count</td><td>23486225</td></tr><tr><td>mean</td><td>24.649108134203665</td></tr><tr><td>stddev</td><td>581.4404191478837</td></tr><tr><td>min</td><td>0.0</td></tr><tr><td>max</td><td>953000.0</td></tr></tbody></table></div>"
      ]
     },
     "metadata": {
      "application/vnd.databricks.v1+output": {
       "addedWidgets": {},
       "aggData": [],
       "aggError": "",
       "aggOverflow": false,
       "aggSchema": [],
       "aggSeriesLimitReached": false,
       "aggType": "",
       "arguments": {},
       "columnCustomDisplayInfos": {},
       "data": [
        [
         "count",
         "23486225"
        ],
        [
         "mean",
         "24.649108134203665"
        ],
        [
         "stddev",
         "581.4404191478837"
        ],
        [
         "min",
         "0.0"
        ],
        [
         "max",
         "953000.0"
        ]
       ],
       "datasetInfos": [],
       "dbfsResultPath": null,
       "isJsonSchema": true,
       "metadata": {},
       "overflow": false,
       "plotOptions": {
        "customPlotOptions": {},
        "displayType": "table",
        "pivotAggregation": null,
        "pivotColumns": null,
        "xColumns": null,
        "yColumns": null
       },
       "removedWidgets": [],
       "schema": [
        {
         "metadata": "{}",
         "name": "summary",
         "type": "\"string\""
        },
        {
         "metadata": "{}",
         "name": "percent_extra",
         "type": "\"string\""
        }
       ],
       "type": "table"
      }
     },
     "output_type": "display_data"
    }
   ],
   "source": [
    "extra.select([\"percent_extra\"]).describe().display()"
   ]
  },
  {
   "cell_type": "code",
   "execution_count": 0,
   "metadata": {
    "application/vnd.databricks.v1+cell": {
     "inputWidgets": {},
     "nuid": "08d0be53-384d-4369-9d88-62a4e4308347",
     "showTitle": false,
     "title": ""
    }
   },
   "outputs": [
    {
     "data": {
      "text/html": [
       "<style scoped>\n",
       "  .table-result-container {\n",
       "    max-height: 300px;\n",
       "    overflow: auto;\n",
       "  }\n",
       "  table, th, td {\n",
       "    border: 1px solid black;\n",
       "    border-collapse: collapse;\n",
       "  }\n",
       "  th, td {\n",
       "    padding: 5px;\n",
       "  }\n",
       "  th {\n",
       "    text-align: left;\n",
       "  }\n",
       "</style><div class='table-result-container'><table class='table-result'><thead style='background-color: white'><tr><th>extra_period</th><th>Avg_percentage</th></tr></thead><tbody><tr><td>4</td><td>31.77128519822773</td></tr><tr><td>3</td><td>31.117360063550915</td></tr><tr><td>18</td><td>29.399343535984855</td></tr><tr><td>17</td><td>29.3699592494951</td></tr><tr><td>19</td><td>29.263018944981855</td></tr><tr><td>16</td><td>28.286210856195638</td></tr><tr><td>0</td><td>28.265204290944038</td></tr><tr><td>1</td><td>28.162311835165422</td></tr><tr><td>5</td><td>27.941137868185333</td></tr><tr><td>2</td><td>27.20173221642602</td></tr><tr><td>23</td><td>26.927662804120995</td></tr><tr><td>20</td><td>26.788656252710886</td></tr><tr><td>21</td><td>25.533481126643192</td></tr><tr><td>22</td><td>24.479052722735084</td></tr><tr><td>6</td><td>24.17154533428107</td></tr><tr><td>13</td><td>22.036960123626358</td></tr><tr><td>7</td><td>21.79780068577178</td></tr><tr><td>15</td><td>21.411966299214807</td></tr><tr><td>11</td><td>21.409443403910785</td></tr><tr><td>14</td><td>21.31536147533891</td></tr><tr><td>12</td><td>20.90656676397124</td></tr><tr><td>8</td><td>20.723924375389238</td></tr><tr><td>10</td><td>20.48394832904579</td></tr><tr><td>9</td><td>20.049174417352898</td></tr></tbody></table></div>"
      ]
     },
     "metadata": {
      "application/vnd.databricks.v1+output": {
       "addedWidgets": {},
       "aggData": [],
       "aggError": "",
       "aggOverflow": false,
       "aggSchema": [],
       "aggSeriesLimitReached": false,
       "aggType": "",
       "arguments": {},
       "columnCustomDisplayInfos": {},
       "data": [
        [
         4,
         31.77128519822773
        ],
        [
         3,
         31.117360063550915
        ],
        [
         18,
         29.399343535984855
        ],
        [
         17,
         29.3699592494951
        ],
        [
         19,
         29.263018944981855
        ],
        [
         16,
         28.286210856195638
        ],
        [
         0,
         28.265204290944038
        ],
        [
         1,
         28.162311835165422
        ],
        [
         5,
         27.941137868185333
        ],
        [
         2,
         27.20173221642602
        ],
        [
         23,
         26.927662804120995
        ],
        [
         20,
         26.788656252710886
        ],
        [
         21,
         25.533481126643192
        ],
        [
         22,
         24.479052722735084
        ],
        [
         6,
         24.17154533428107
        ],
        [
         13,
         22.036960123626358
        ],
        [
         7,
         21.79780068577178
        ],
        [
         15,
         21.411966299214807
        ],
        [
         11,
         21.409443403910785
        ],
        [
         14,
         21.31536147533891
        ],
        [
         12,
         20.90656676397124
        ],
        [
         8,
         20.723924375389238
        ],
        [
         10,
         20.48394832904579
        ],
        [
         9,
         20.049174417352898
        ]
       ],
       "datasetInfos": [],
       "dbfsResultPath": null,
       "isJsonSchema": true,
       "metadata": {},
       "overflow": false,
       "plotOptions": {
        "customPlotOptions": {
         "plotlyLine": [
          {
           "key": "yRange",
           "value": ""
          },
          {
           "key": "showPoints",
           "value": false
          },
          {
           "key": "logScale",
           "value": false
          }
         ]
        },
        "displayType": "plotlyLine",
        "pivotAggregation": "sum",
        "pivotColumns": [],
        "xColumns": [
         "extra_period"
        ],
        "yColumns": [
         "Avg_percentage"
        ]
       },
       "removedWidgets": [],
       "schema": [
        {
         "metadata": "{}",
         "name": "extra_period",
         "type": "\"integer\""
        },
        {
         "metadata": "{}",
         "name": "Avg_percentage",
         "type": "\"double\""
        }
       ],
       "type": "table"
      }
     },
     "output_type": "display_data"
    }
   ],
   "source": [
    "# Top Extra Period\n",
    "\n",
    "extra_period = extra.withColumn(\"extra_period\", hour(col(\"DO_timestamp\")))\n",
    "extra_period = extra_period.groupBy(\"extra_period\").agg(avg(\"percent_extra\").alias(\"Avg_percentage\"))\n",
    "extra_period = extra_period.sort(extra_period.Avg_percentage.desc()).limit(24)\n",
    "extra_period.display()"
   ]
  },
  {
   "cell_type": "code",
   "execution_count": 0,
   "metadata": {
    "application/vnd.databricks.v1+cell": {
     "inputWidgets": {},
     "nuid": "63565e83-de0d-4c55-8c17-0532714225b4",
     "showTitle": false,
     "title": ""
    }
   },
   "outputs": [
    {
     "data": {
      "text/html": [
       "<style scoped>\n",
       "  .table-result-container {\n",
       "    max-height: 300px;\n",
       "    overflow: auto;\n",
       "  }\n",
       "  table, th, td {\n",
       "    border: 1px solid black;\n",
       "    border-collapse: collapse;\n",
       "  }\n",
       "  th, td {\n",
       "    padding: 5px;\n",
       "  }\n",
       "  th {\n",
       "    text-align: left;\n",
       "  }\n",
       "</style><div class='table-result-container'><table class='table-result'><thead style='background-color: white'><tr><th>Top_Extra_Days</th><th>Avg_percentage</th></tr></thead><tbody><tr><td>Wednesday</td><td>25.216213608061498</td></tr><tr><td>Tuesday</td><td>25.12978305624641</td></tr><tr><td>Saturday</td><td>25.125249495988836</td></tr><tr><td>Thursday</td><td>24.981002812876977</td></tr><tr><td>Friday</td><td>24.841558890496763</td></tr><tr><td>Monday</td><td>23.7074112930466</td></tr><tr><td>Sunday</td><td>23.204494741568354</td></tr></tbody></table></div>"
      ]
     },
     "metadata": {
      "application/vnd.databricks.v1+output": {
       "addedWidgets": {},
       "aggData": [],
       "aggError": "",
       "aggOverflow": false,
       "aggSchema": [],
       "aggSeriesLimitReached": false,
       "aggType": "",
       "arguments": {},
       "columnCustomDisplayInfos": {},
       "data": [
        [
         "Wednesday",
         25.216213608061498
        ],
        [
         "Tuesday",
         25.12978305624641
        ],
        [
         "Saturday",
         25.125249495988836
        ],
        [
         "Thursday",
         24.981002812876977
        ],
        [
         "Friday",
         24.841558890496763
        ],
        [
         "Monday",
         23.7074112930466
        ],
        [
         "Sunday",
         23.204494741568354
        ]
       ],
       "datasetInfos": [],
       "dbfsResultPath": null,
       "isJsonSchema": true,
       "metadata": {},
       "overflow": false,
       "plotOptions": {
        "customPlotOptions": {},
        "displayType": "table",
        "pivotAggregation": null,
        "pivotColumns": null,
        "xColumns": null,
        "yColumns": null
       },
       "removedWidgets": [],
       "schema": [
        {
         "metadata": "{}",
         "name": "Top_Extra_Days",
         "type": "\"string\""
        },
        {
         "metadata": "{}",
         "name": "Avg_percentage",
         "type": "\"double\""
        }
       ],
       "type": "table"
      }
     },
     "output_type": "display_data"
    }
   ],
   "source": [
    "# Top Extra Days\n",
    "\n",
    "Top_Extra_Days = extra.withColumn(\"Top_Extra_Days\", dayofweek(col(\"DO_timestamp\")))\n",
    "Top_Extra_Days = Top_Extra_Days.groupBy(\"Top_Extra_Days\").agg(avg(\"percent_extra\").alias(\"Avg_percentage\"))\n",
    "Top_Extra_Days = Top_Extra_Days.sort(Top_Extra_Days.Avg_percentage.desc())\n",
    "\n",
    "# Converting numerals to days of the week\n",
    "\n",
    "day_of_week = [\"Monday\", \"Tuesday\", \"Wednesday\", \"Thursday\", \"Friday\", \"Saturday\", \"Sunday\"]\n",
    "for i, day in zip(range (1,8), day_of_week):\n",
    "  Top_Extra_Days = Top_Extra_Days.withColumn(\"Top_Extra_Days\",F.when(Top_Extra_Days[\"Top_Extra_Days\"]==i,day).otherwise(Top_Extra_Days[\"Top_Extra_Days\"]))\n",
    "\n",
    "Top_Extra_Days.display()"
   ]
  },
  {
   "cell_type": "markdown",
   "metadata": {
    "application/vnd.databricks.v1+cell": {
     "inputWidgets": {},
     "nuid": "94c724ec-b329-42dc-912d-32700b963cb7",
     "showTitle": false,
     "title": ""
    }
   },
   "source": [
    "1) Customers pay an extra 25% of their fare_cost for every trip taken.\n",
    "\n",
    "2) For times between 7am and 3pm, customers pay an extra of about 21% (around 4% less than the daily avg). \n",
    "\n",
    "3) While for times between 4pm and 7pm, customers pay an extra of about 30% (around 5% more than the daily avg)\n",
    "\n",
    "4) Customers pay the most extra charges on Wednesdays, and the least extra charges on Sundays."
   ]
  },
  {
   "cell_type": "markdown",
   "metadata": {
    "application/vnd.databricks.v1+cell": {
     "inputWidgets": {},
     "nuid": "df4d2965-660c-4998-b0c9-2ed2228a8c78",
     "showTitle": false,
     "title": ""
    }
   },
   "source": [
    "# Time Series analysis"
   ]
  },
  {
   "cell_type": "code",
   "execution_count": 0,
   "metadata": {
    "application/vnd.databricks.v1+cell": {
     "inputWidgets": {},
     "nuid": "1f460595-6968-49de-a8df-8a9d8e502d00",
     "showTitle": false,
     "title": ""
    }
   },
   "outputs": [
    {
     "data": {
      "text/html": [
       "<style scoped>\n",
       "  .table-result-container {\n",
       "    max-height: 300px;\n",
       "    overflow: auto;\n",
       "  }\n",
       "  table, th, td {\n",
       "    border: 1px solid black;\n",
       "    border-collapse: collapse;\n",
       "  }\n",
       "  th, td {\n",
       "    padding: 5px;\n",
       "  }\n",
       "  th {\n",
       "    text-align: left;\n",
       "  }\n",
       "</style><div class='table-result-container'><table class='table-result'><thead style='background-color: white'><tr><th>Date</th><th>Daily_Trips</th></tr></thead><tbody><tr><td>2020-01-01T00:00:00.000+0000</td><td>564678.0799999975</td></tr><tr><td>2020-01-02T00:00:00.000+0000</td><td>507599.3600000032</td></tr><tr><td>2020-01-03T00:00:00.000+0000</td><td>519248.8700000045</td></tr><tr><td>2020-01-04T00:00:00.000+0000</td><td>520527.4100000029</td></tr><tr><td>2020-01-05T00:00:00.000+0000</td><td>525933.1599999996</td></tr><tr><td>2020-01-06T00:00:00.000+0000</td><td>516049.24999999703</td></tr><tr><td>2020-01-07T00:00:00.000+0000</td><td>533555.1600000025</td></tr><tr><td>2020-01-08T00:00:00.000+0000</td><td>563607.2899999969</td></tr><tr><td>2020-01-09T00:00:00.000+0000</td><td>607496.3500000038</td></tr><tr><td>2020-01-10T00:00:00.000+0000</td><td>613878.2000000111</td></tr><tr><td>2020-01-11T00:00:00.000+0000</td><td>588589.0300000093</td></tr><tr><td>2020-01-12T00:00:00.000+0000</td><td>569211.5699999932</td></tr><tr><td>2020-01-13T00:00:00.000+0000</td><td>592337.9699999953</td></tr><tr><td>2020-01-14T00:00:00.000+0000</td><td>581858.9899999787</td></tr><tr><td>2020-01-15T00:00:00.000+0000</td><td>587739.6599999933</td></tr><tr><td>2020-01-16T00:00:00.000+0000</td><td>638079.6300000015</td></tr><tr><td>2020-01-17T00:00:00.000+0000</td><td>650759.1300000292</td></tr><tr><td>2020-01-18T00:00:00.000+0000</td><td>498027.9499999912</td></tr><tr><td>2020-01-19T00:00:00.000+0000</td><td>511785.56000000576</td></tr><tr><td>2020-01-20T00:00:00.000+0000</td><td>505852.86999999953</td></tr><tr><td>2020-01-21T00:00:00.000+0000</td><td>575648.5100000113</td></tr><tr><td>2020-01-22T00:00:00.000+0000</td><td>579826.9299999973</td></tr><tr><td>2020-01-23T00:00:00.000+0000</td><td>627416.8300000033</td></tr><tr><td>2020-01-24T00:00:00.000+0000</td><td>625083.6699999998</td></tr><tr><td>2020-01-25T00:00:00.000+0000</td><td>559107.5399999907</td></tr><tr><td>2020-01-26T00:00:00.000+0000</td><td>567045.1200000051</td></tr><tr><td>2020-01-27T00:00:00.000+0000</td><td>539151.4699999978</td></tr><tr><td>2020-01-28T00:00:00.000+0000</td><td>560475.4700000074</td></tr><tr><td>2020-01-29T00:00:00.000+0000</td><td>593194.4899999924</td></tr><tr><td>2020-01-30T00:00:00.000+0000</td><td>651781.8600000094</td></tr><tr><td>2020-01-31T00:00:00.000+0000</td><td>636157.8299999965</td></tr><tr><td>2020-02-01T00:00:00.000+0000</td><td>550938.6799999924</td></tr><tr><td>2020-02-02T00:00:00.000+0000</td><td>569990.7800000086</td></tr><tr><td>2020-02-03T00:00:00.000+0000</td><td>555382.7600000049</td></tr><tr><td>2020-02-04T00:00:00.000+0000</td><td>561846.1600000054</td></tr><tr><td>2020-02-05T00:00:00.000+0000</td><td>599658.5100000012</td></tr><tr><td>2020-02-06T00:00:00.000+0000</td><td>633765.0300000046</td></tr><tr><td>2020-02-07T00:00:00.000+0000</td><td>650503.6699999978</td></tr><tr><td>2020-02-08T00:00:00.000+0000</td><td>572700.719999989</td></tr><tr><td>2020-02-09T00:00:00.000+0000</td><td>546724.450000001</td></tr><tr><td>2020-02-10T00:00:00.000+0000</td><td>575953.4100000036</td></tr><tr><td>2020-02-11T00:00:00.000+0000</td><td>566106.0600000041</td></tr><tr><td>2020-02-12T00:00:00.000+0000</td><td>622049.7999999932</td></tr><tr><td>2020-02-13T00:00:00.000+0000</td><td>663763.6299999929</td></tr><tr><td>2020-02-14T00:00:00.000+0000</td><td>685040.940000005</td></tr><tr><td>2020-02-15T00:00:00.000+0000</td><td>529160.0100000068</td></tr><tr><td>2020-02-16T00:00:00.000+0000</td><td>490816.4100000025</td></tr><tr><td>2020-02-17T00:00:00.000+0000</td><td>482256.97000000585</td></tr><tr><td>2020-02-18T00:00:00.000+0000</td><td>535796.7100000174</td></tr><tr><td>2020-02-19T00:00:00.000+0000</td><td>591467.7600000026</td></tr><tr><td>2020-02-20T00:00:00.000+0000</td><td>640678.3599999972</td></tr><tr><td>2020-02-21T00:00:00.000+0000</td><td>632523.7599999993</td></tr><tr><td>2020-02-22T00:00:00.000+0000</td><td>560467.8900000083</td></tr><tr><td>2020-02-23T00:00:00.000+0000</td><td>559366.7599999969</td></tr><tr><td>2020-02-24T00:00:00.000+0000</td><td>581520.8900000076</td></tr><tr><td>2020-02-25T00:00:00.000+0000</td><td>601679.2299999992</td></tr><tr><td>2020-02-26T00:00:00.000+0000</td><td>620375.9500000098</td></tr><tr><td>2020-02-27T00:00:00.000+0000</td><td>684759.9399999995</td></tr><tr><td>2020-02-28T00:00:00.000+0000</td><td>673419.4500000023</td></tr><tr><td>2020-02-29T00:00:00.000+0000</td><td>593603.4100000166</td></tr><tr><td>2020-03-01T00:00:00.000+0000</td><td>559670.6699999875</td></tr><tr><td>2020-03-02T00:00:00.000+0000</td><td>557337.4799999985</td></tr><tr><td>2020-03-03T00:00:00.000+0000</td><td>582632.7500000001</td></tr><tr><td>2020-03-04T00:00:00.000+0000</td><td>610467.3599999852</td></tr><tr><td>2020-03-05T00:00:00.000+0000</td><td>659655.2600000004</td></tr><tr><td>2020-03-06T00:00:00.000+0000</td><td>622080.0900000012</td></tr><tr><td>2020-03-07T00:00:00.000+0000</td><td>540249.4200000033</td></tr><tr><td>2020-03-08T00:00:00.000+0000</td><td>509582.57999999734</td></tr><tr><td>2020-03-09T00:00:00.000+0000</td><td>486367.15000000846</td></tr><tr><td>2020-03-10T00:00:00.000+0000</td><td>474960.220000002</td></tr><tr><td>2020-03-11T00:00:00.000+0000</td><td>472793.4899999994</td></tr><tr><td>2020-03-12T00:00:00.000+0000</td><td>460198.31999999535</td></tr><tr><td>2020-03-13T00:00:00.000+0000</td><td>364132.59000000515</td></tr><tr><td>2020-03-14T00:00:00.000+0000</td><td>249031.56999999916</td></tr><tr><td>2020-03-15T00:00:00.000+0000</td><td>195670.12000000136</td></tr><tr><td>2020-03-16T00:00:00.000+0000</td><td>189292.35999999952</td></tr><tr><td>2020-03-17T00:00:00.000+0000</td><td>132322.22999999908</td></tr><tr><td>2020-03-18T00:00:00.000+0000</td><td>103290.16999999984</td></tr><tr><td>2020-03-19T00:00:00.000+0000</td><td>81238.56000000027</td></tr><tr><td>2020-03-20T00:00:00.000+0000</td><td>74824.62999999963</td></tr><tr><td>2020-03-21T00:00:00.000+0000</td><td>48599.83999999997</td></tr><tr><td>2020-03-22T00:00:00.000+0000</td><td>33439.00999999992</td></tr><tr><td>2020-03-23T00:00:00.000+0000</td><td>35652.21000000011</td></tr><tr><td>2020-03-24T00:00:00.000+0000</td><td>31335.169999999944</td></tr><tr><td>2020-03-25T00:00:00.000+0000</td><td>29750.81000000006</td></tr><tr><td>2020-03-26T00:00:00.000+0000</td><td>27547.539999999943</td></tr><tr><td>2020-03-27T00:00:00.000+0000</td><td>30716.010000000006</td></tr><tr><td>2020-03-28T00:00:00.000+0000</td><td>19990.540000000005</td></tr><tr><td>2020-03-29T00:00:00.000+0000</td><td>16196.38999999998</td></tr><tr><td>2020-03-30T00:00:00.000+0000</td><td>23898.839999999975</td></tr><tr><td>2020-03-31T00:00:00.000+0000</td><td>23530.909999999945</td></tr><tr><td>2020-04-01T00:00:00.000+0000</td><td>23137.400000000067</td></tr><tr><td>2020-04-02T00:00:00.000+0000</td><td>21700.169999999984</td></tr><tr><td>2020-04-03T00:00:00.000+0000</td><td>24997.550000000014</td></tr><tr><td>2020-04-04T00:00:00.000+0000</td><td>15982.580000000004</td></tr><tr><td>2020-04-05T00:00:00.000+0000</td><td>13654.639999999983</td></tr><tr><td>2020-04-06T00:00:00.000+0000</td><td>20121.379999999943</td></tr><tr><td>2020-04-07T00:00:00.000+0000</td><td>18638.760000000002</td></tr><tr><td>2020-04-08T00:00:00.000+0000</td><td>18013.839999999927</td></tr><tr><td>2020-04-09T00:00:00.000+0000</td><td>18184.87000000008</td></tr><tr><td>2020-04-10T00:00:00.000+0000</td><td>19897.78999999999</td></tr><tr><td>2020-04-11T00:00:00.000+0000</td><td>15712.040000000003</td></tr><tr><td>2020-04-12T00:00:00.000+0000</td><td>11552.089999999978</td></tr><tr><td>2020-04-13T00:00:00.000+0000</td><td>16991.669999999936</td></tr><tr><td>2020-04-14T00:00:00.000+0000</td><td>18950.039999999997</td></tr><tr><td>2020-04-15T00:00:00.000+0000</td><td>19547.820000000087</td></tr><tr><td>2020-04-16T00:00:00.000+0000</td><td>19512.31999999995</td></tr><tr><td>2020-04-17T00:00:00.000+0000</td><td>22611.10999999999</td></tr><tr><td>2020-04-18T00:00:00.000+0000</td><td>14824.940000000011</td></tr><tr><td>2020-04-19T00:00:00.000+0000</td><td>13320.159999999978</td></tr><tr><td>2020-04-20T00:00:00.000+0000</td><td>18992.249999999996</td></tr><tr><td>2020-04-21T00:00:00.000+0000</td><td>18320.95999999998</td></tr><tr><td>2020-04-22T00:00:00.000+0000</td><td>20118.369999999988</td></tr><tr><td>2020-04-23T00:00:00.000+0000</td><td>20089.060000000023</td></tr><tr><td>2020-04-24T00:00:00.000+0000</td><td>21628.430000000008</td></tr><tr><td>2020-04-25T00:00:00.000+0000</td><td>17261.63000000003</td></tr><tr><td>2020-04-26T00:00:00.000+0000</td><td>12766.190000000006</td></tr><tr><td>2020-04-27T00:00:00.000+0000</td><td>19581.80999999996</td></tr><tr><td>2020-04-28T00:00:00.000+0000</td><td>20416.54999999999</td></tr><tr><td>2020-04-29T00:00:00.000+0000</td><td>21088.06000000003</td></tr><tr><td>2020-04-30T00:00:00.000+0000</td><td>21442.239999999958</td></tr><tr><td>2020-05-01T00:00:00.000+0000</td><td>24880.32000000003</td></tr><tr><td>2020-05-02T00:00:00.000+0000</td><td>18625.50999999998</td></tr><tr><td>2020-05-03T00:00:00.000+0000</td><td>14833.279999999993</td></tr><tr><td>2020-05-04T00:00:00.000+0000</td><td>22098.280000000006</td></tr><tr><td>2020-05-05T00:00:00.000+0000</td><td>22554.92999999994</td></tr><tr><td>2020-05-06T00:00:00.000+0000</td><td>23952.739999999943</td></tr><tr><td>2020-05-07T00:00:00.000+0000</td><td>24050.709999999977</td></tr><tr><td>2020-05-08T00:00:00.000+0000</td><td>25221.59000000005</td></tr><tr><td>2020-05-09T00:00:00.000+0000</td><td>18407.390000000014</td></tr><tr><td>2020-05-10T00:00:00.000+0000</td><td>17582.770000000004</td></tr><tr><td>2020-05-11T00:00:00.000+0000</td><td>22604.84000000002</td></tr><tr><td>2020-05-12T00:00:00.000+0000</td><td>22943.800000000076</td></tr><tr><td>2020-05-13T00:00:00.000+0000</td><td>24407.510000000068</td></tr><tr><td>2020-05-14T00:00:00.000+0000</td><td>25106.87999999999</td></tr><tr><td>2020-05-15T00:00:00.000+0000</td><td>28809.71999999986</td></tr><tr><td>2020-05-16T00:00:00.000+0000</td><td>22585.919999999966</td></tr><tr><td>2020-05-17T00:00:00.000+0000</td><td>17786.730000000036</td></tr><tr><td>2020-05-18T00:00:00.000+0000</td><td>26123.100000000053</td></tr><tr><td>2020-05-19T00:00:00.000+0000</td><td>27802.04000000014</td></tr><tr><td>2020-05-20T00:00:00.000+0000</td><td>29090.01999999998</td></tr><tr><td>2020-05-21T00:00:00.000+0000</td><td>29172.19000000009</td></tr><tr><td>2020-05-22T00:00:00.000+0000</td><td>31603.279999999802</td></tr><tr><td>2020-05-23T00:00:00.000+0000</td><td>19271.529999999966</td></tr><tr><td>2020-05-24T00:00:00.000+0000</td><td>21196.65</td></tr><tr><td>2020-05-25T00:00:00.000+0000</td><td>18849.58999999997</td></tr><tr><td>2020-05-26T00:00:00.000+0000</td><td>30559.47000000002</td></tr><tr><td>2020-05-27T00:00:00.000+0000</td><td>32016.610000000102</td></tr><tr><td>2020-05-28T00:00:00.000+0000</td><td>30834.370000000086</td></tr><tr><td>2020-05-29T00:00:00.000+0000</td><td>34766.3599999998</td></tr><tr><td>2020-05-30T00:00:00.000+0000</td><td>28011.550000000097</td></tr><tr><td>2020-05-31T00:00:00.000+0000</td><td>24325.330000000078</td></tr><tr><td>2020-06-01T00:00:00.000+0000</td><td>35789.59999999972</td></tr><tr><td>2020-06-02T00:00:00.000+0000</td><td>35605.28000000012</td></tr><tr><td>2020-06-03T00:00:00.000+0000</td><td>34167.499999999956</td></tr><tr><td>2020-06-04T00:00:00.000+0000</td><td>37629.940000000024</td></tr><tr><td>2020-06-05T00:00:00.000+0000</td><td>41592.98999999991</td></tr><tr><td>2020-06-06T00:00:00.000+0000</td><td>34317.99000000013</td></tr><tr><td>2020-06-07T00:00:00.000+0000</td><td>28574.64000000006</td></tr><tr><td>2020-06-08T00:00:00.000+0000</td><td>40164.88000000001</td></tr><tr><td>2020-06-09T00:00:00.000+0000</td><td>41363.66000000007</td></tr><tr><td>2020-06-10T00:00:00.000+0000</td><td>40913.59999999978</td></tr><tr><td>2020-06-11T00:00:00.000+0000</td><td>41674.55000000025</td></tr><tr><td>2020-06-12T00:00:00.000+0000</td><td>48364.19</td></tr><tr><td>2020-06-13T00:00:00.000+0000</td><td>36761.97999999983</td></tr><tr><td>2020-06-14T00:00:00.000+0000</td><td>32411.429999999902</td></tr><tr><td>2020-06-15T00:00:00.000+0000</td><td>45705.750000000146</td></tr><tr><td>2020-06-16T00:00:00.000+0000</td><td>47127.15000000009</td></tr><tr><td>2020-06-17T00:00:00.000+0000</td><td>47277.78000000016</td></tr><tr><td>2020-06-18T00:00:00.000+0000</td><td>49415.05000000003</td></tr><tr><td>2020-06-19T00:00:00.000+0000</td><td>54881.290000000175</td></tr><tr><td>2020-06-20T00:00:00.000+0000</td><td>39899.19999999975</td></tr><tr><td>2020-06-21T00:00:00.000+0000</td><td>39243.52000000003</td></tr><tr><td>2020-06-22T00:00:00.000+0000</td><td>56616.240000000056</td></tr><tr><td>2020-06-23T00:00:00.000+0000</td><td>56419.870000000235</td></tr><tr><td>2020-06-24T00:00:00.000+0000</td><td>59478.719999999674</td></tr><tr><td>2020-06-25T00:00:00.000+0000</td><td>62529.699999999866</td></tr><tr><td>2020-06-26T00:00:00.000+0000</td><td>63839.67000000033</td></tr><tr><td>2020-06-27T00:00:00.000+0000</td><td>46263.85999999991</td></tr><tr><td>2020-06-28T00:00:00.000+0000</td><td>44285.10999999983</td></tr><tr><td>2020-06-29T00:00:00.000+0000</td><td>61970.54999999987</td></tr><tr><td>2020-06-30T00:00:00.000+0000</td><td>60026.4499999999</td></tr><tr><td>2020-07-01T00:00:00.000+0000</td><td>60803.429999999935</td></tr><tr><td>2020-07-02T00:00:00.000+0000</td><td>67342.63999999988</td></tr><tr><td>2020-07-03T00:00:00.000+0000</td><td>52057.70000000013</td></tr><tr><td>2020-07-04T00:00:00.000+0000</td><td>39356.81000000025</td></tr><tr><td>2020-07-05T00:00:00.000+0000</td><td>45661.579999999834</td></tr><tr><td>2020-07-06T00:00:00.000+0000</td><td>62142.29000000014</td></tr><tr><td>2020-07-07T00:00:00.000+0000</td><td>63994.29</td></tr><tr><td>2020-07-08T00:00:00.000+0000</td><td>63256.700000000026</td></tr><tr><td>2020-07-09T00:00:00.000+0000</td><td>68730.57999999977</td></tr><tr><td>2020-07-10T00:00:00.000+0000</td><td>55826.539999999986</td></tr><tr><td>2020-07-11T00:00:00.000+0000</td><td>48173.69000000005</td></tr><tr><td>2020-07-12T00:00:00.000+0000</td><td>50489.90999999998</td></tr><tr><td>2020-07-13T00:00:00.000+0000</td><td>62729.96999999987</td></tr><tr><td>2020-07-14T00:00:00.000+0000</td><td>65203.18999999998</td></tr><tr><td>2020-07-15T00:00:00.000+0000</td><td>68609.98000000019</td></tr><tr><td>2020-07-16T00:00:00.000+0000</td><td>69212.6299999996</td></tr><tr><td>2020-07-17T00:00:00.000+0000</td><td>65542.14999999982</td></tr><tr><td>2020-07-18T00:00:00.000+0000</td><td>56342.86000000001</td></tr><tr><td>2020-07-19T00:00:00.000+0000</td><td>50262.24000000033</td></tr><tr><td>2020-07-20T00:00:00.000+0000</td><td>64481.86000000004</td></tr><tr><td>2020-07-21T00:00:00.000+0000</td><td>66942.99999999997</td></tr><tr><td>2020-07-22T00:00:00.000+0000</td><td>70292.70000000014</td></tr><tr><td>2020-07-23T00:00:00.000+0000</td><td>68277.6699999997</td></tr><tr><td>2020-07-24T00:00:00.000+0000</td><td>67807.72000000003</td></tr><tr><td>2020-07-25T00:00:00.000+0000</td><td>62683.81000000025</td></tr><tr><td>2020-07-26T00:00:00.000+0000</td><td>51374.67999999975</td></tr><tr><td>2020-07-27T00:00:00.000+0000</td><td>66834.43999999993</td></tr><tr><td>2020-07-28T00:00:00.000+0000</td><td>70614.31999999966</td></tr><tr><td>2020-07-29T00:00:00.000+0000</td><td>76022.52000000025</td></tr><tr><td>2020-07-30T00:00:00.000+0000</td><td>77292.78000000003</td></tr><tr><td>2020-07-31T00:00:00.000+0000</td><td>84274.36999999959</td></tr><tr><td>2020-08-01T00:00:00.000+0000</td><td>74215.32000000005</td></tr><tr><td>2020-08-02T00:00:00.000+0000</td><td>57384.38000000007</td></tr><tr><td>2020-08-03T00:00:00.000+0000</td><td>75145.43000000025</td></tr><tr><td>2020-08-04T00:00:00.000+0000</td><td>61317.31000000011</td></tr><tr><td>2020-08-05T00:00:00.000+0000</td><td>82322.54000000011</td></tr><tr><td>2020-08-06T00:00:00.000+0000</td><td>82420.58000000023</td></tr><tr><td>2020-08-07T00:00:00.000+0000</td><td>82776.46999999993</td></tr><tr><td>2020-08-08T00:00:00.000+0000</td><td>68819.85999999978</td></tr><tr><td>2020-08-09T00:00:00.000+0000</td><td>63046.09999999986</td></tr><tr><td>2020-08-10T00:00:00.000+0000</td><td>76985.91999999917</td></tr><tr><td>2020-08-11T00:00:00.000+0000</td><td>78805.36999999997</td></tr><tr><td>2020-08-12T00:00:00.000+0000</td><td>82713.19000000124</td></tr><tr><td>2020-08-13T00:00:00.000+0000</td><td>81960.83000000038</td></tr><tr><td>2020-08-14T00:00:00.000+0000</td><td>86970.45000000024</td></tr><tr><td>2020-08-15T00:00:00.000+0000</td><td>79571.83999999956</td></tr><tr><td>2020-08-16T00:00:00.000+0000</td><td>58762.7100000001</td></tr><tr><td>2020-08-17T00:00:00.000+0000</td><td>78254.51000000037</td></tr><tr><td>2020-08-18T00:00:00.000+0000</td><td>84984.06000000023</td></tr><tr><td>2020-08-19T00:00:00.000+0000</td><td>83983.28999999914</td></tr><tr><td>2020-08-20T00:00:00.000+0000</td><td>89276.34999999982</td></tr><tr><td>2020-08-21T00:00:00.000+0000</td><td>90243.94000000056</td></tr><tr><td>2020-08-22T00:00:00.000+0000</td><td>81235.76999999963</td></tr><tr><td>2020-08-23T00:00:00.000+0000</td><td>68861.32999999989</td></tr><tr><td>2020-08-24T00:00:00.000+0000</td><td>81293.70000000023</td></tr><tr><td>2020-08-25T00:00:00.000+0000</td><td>86833.17000000004</td></tr><tr><td>2020-08-26T00:00:00.000+0000</td><td>90222.9100000003</td></tr><tr><td>2020-08-27T00:00:00.000+0000</td><td>88197.04999999962</td></tr><tr><td>2020-08-28T00:00:00.000+0000</td><td>93368.19999999982</td></tr><tr><td>2020-08-29T00:00:00.000+0000</td><td>74814.79000000011</td></tr><tr><td>2020-08-30T00:00:00.000+0000</td><td>79200.64000000016</td></tr><tr><td>2020-08-31T00:00:00.000+0000</td><td>89237.30999999987</td></tr><tr><td>2020-09-01T00:00:00.000+0000</td><td>91410.52000000027</td></tr><tr><td>2020-09-02T00:00:00.000+0000</td><td>93417.79000000021</td></tr><tr><td>2020-09-03T00:00:00.000+0000</td><td>98285.250000001</td></tr><tr><td>2020-09-04T00:00:00.000+0000</td><td>98966.97999999947</td></tr><tr><td>2020-09-05T00:00:00.000+0000</td><td>83067.77999999996</td></tr><tr><td>2020-09-06T00:00:00.000+0000</td><td>72417.51000000015</td></tr><tr><td>2020-09-07T00:00:00.000+0000</td><td>76526.87999999996</td></tr><tr><td>2020-09-08T00:00:00.000+0000</td><td>100321.67000000061</td></tr><tr><td>2020-09-09T00:00:00.000+0000</td><td>106046.98</td></tr><tr><td>2020-09-10T00:00:00.000+0000</td><td>105152.67000000093</td></tr><tr><td>2020-09-11T00:00:00.000+0000</td><td>112289.46999999924</td></tr><tr><td>2020-09-12T00:00:00.000+0000</td><td>103463.51000000018</td></tr><tr><td>2020-09-13T00:00:00.000+0000</td><td>80687.02000000056</td></tr><tr><td>2020-09-14T00:00:00.000+0000</td><td>101793.08999999943</td></tr><tr><td>2020-09-15T00:00:00.000+0000</td><td>108070.5499999995</td></tr><tr><td>2020-09-16T00:00:00.000+0000</td><td>109595.98000000125</td></tr><tr><td>2020-09-17T00:00:00.000+0000</td><td>116614.01000000037</td></tr><tr><td>2020-09-18T00:00:00.000+0000</td><td>121310.05000000092</td></tr><tr><td>2020-09-19T00:00:00.000+0000</td><td>107771.3799999996</td></tr><tr><td>2020-09-20T00:00:00.000+0000</td><td>93528.5300000003</td></tr><tr><td>2020-09-21T00:00:00.000+0000</td><td>105507.93000000114</td></tr><tr><td>2020-09-22T00:00:00.000+0000</td><td>109507.69999999975</td></tr><tr><td>2020-09-23T00:00:00.000+0000</td><td>118361.47999999918</td></tr><tr><td>2020-09-24T00:00:00.000+0000</td><td>125258.18999999974</td></tr><tr><td>2020-09-25T00:00:00.000+0000</td><td>131853.00999999975</td></tr><tr><td>2020-09-26T00:00:00.000+0000</td><td>116815.93000000037</td></tr><tr><td>2020-09-27T00:00:00.000+0000</td><td>96495.92000000022</td></tr><tr><td>2020-09-28T00:00:00.000+0000</td><td>96083.41000000008</td></tr><tr><td>2020-09-29T00:00:00.000+0000</td><td>116027.21999999974</td></tr><tr><td>2020-09-30T00:00:00.000+0000</td><td>123146.45000000029</td></tr><tr><td>2020-10-01T00:00:00.000+0000</td><td>135058.5200000003</td></tr><tr><td>2020-10-02T00:00:00.000+0000</td><td>132990.39999999863</td></tr><tr><td>2020-10-03T00:00:00.000+0000</td><td>120640.66000000003</td></tr><tr><td>2020-10-04T00:00:00.000+0000</td><td>93454.78999999935</td></tr><tr><td>2020-10-05T00:00:00.000+0000</td><td>108957.76999999999</td></tr><tr><td>2020-10-06T00:00:00.000+0000</td><td>117407.42000000068</td></tr><tr><td>2020-10-07T00:00:00.000+0000</td><td>123330.31000000011</td></tr><tr><td>2020-10-08T00:00:00.000+0000</td><td>132783.1500000003</td></tr><tr><td>2020-10-09T00:00:00.000+0000</td><td>130763.05000000026</td></tr><tr><td>2020-10-10T00:00:00.000+0000</td><td>120467.48000000056</td></tr><tr><td>2020-10-11T00:00:00.000+0000</td><td>96874.4000000003</td></tr><tr><td>2020-10-12T00:00:00.000+0000</td><td>101441.35000000014</td></tr><tr><td>2020-10-13T00:00:00.000+0000</td><td>118792.30999999997</td></tr><tr><td>2020-10-14T00:00:00.000+0000</td><td>127538.45999999951</td></tr><tr><td>2020-10-15T00:00:00.000+0000</td><td>140247.98000000286</td></tr><tr><td>2020-10-16T00:00:00.000+0000</td><td>126152.74000000059</td></tr><tr><td>2020-10-17T00:00:00.000+0000</td><td>125459.09000000027</td></tr><tr><td>2020-10-18T00:00:00.000+0000</td><td>107507.76999999875</td></tr><tr><td>2020-10-19T00:00:00.000+0000</td><td>116092.16999999988</td></tr><tr><td>2020-10-20T00:00:00.000+0000</td><td>122446.24999999965</td></tr><tr><td>2020-10-21T00:00:00.000+0000</td><td>126920.33999999908</td></tr><tr><td>2020-10-22T00:00:00.000+0000</td><td>137381.88000000062</td></tr><tr><td>2020-10-23T00:00:00.000+0000</td><td>137016.0699999995</td></tr><tr><td>2020-10-24T00:00:00.000+0000</td><td>127869.31000000096</td></tr><tr><td>2020-10-25T00:00:00.000+0000</td><td>105381.48000000117</td></tr><tr><td>2020-10-26T00:00:00.000+0000</td><td>117098.46</td></tr><tr><td>2020-10-27T00:00:00.000+0000</td><td>126780.05999999904</td></tr><tr><td>2020-10-28T00:00:00.000+0000</td><td>133227.02999999985</td></tr><tr><td>2020-10-29T00:00:00.000+0000</td><td>133884.6600000007</td></tr><tr><td>2020-10-30T00:00:00.000+0000</td><td>138973.41000000018</td></tr><tr><td>2020-10-31T00:00:00.000+0000</td><td>132964.5500000014</td></tr><tr><td>2020-11-01T00:00:00.000+0000</td><td>114290.13999999972</td></tr><tr><td>2020-11-02T00:00:00.000+0000</td><td>122047.93000000046</td></tr><tr><td>2020-11-03T00:00:00.000+0000</td><td>106049.34000000043</td></tr><tr><td>2020-11-04T00:00:00.000+0000</td><td>105706.31000000065</td></tr><tr><td>2020-11-05T00:00:00.000+0000</td><td>124091.43999999987</td></tr><tr><td>2020-11-06T00:00:00.000+0000</td><td>131609.87000000075</td></tr><tr><td>2020-11-07T00:00:00.000+0000</td><td>131577.20999999956</td></tr><tr><td>2020-11-08T00:00:00.000+0000</td><td>113896.41000000051</td></tr><tr><td>2020-11-09T00:00:00.000+0000</td><td>114564.26999999984</td></tr><tr><td>2020-11-10T00:00:00.000+0000</td><td>133243.43000000058</td></tr><tr><td>2020-11-11T00:00:00.000+0000</td><td>123099.0399999993</td></tr><tr><td>2020-11-12T00:00:00.000+0000</td><td>131209.40000000058</td></tr><tr><td>2020-11-13T00:00:00.000+0000</td><td>133874.34999999977</td></tr><tr><td>2020-11-14T00:00:00.000+0000</td><td>119573.95000000033</td></tr><tr><td>2020-11-15T00:00:00.000+0000</td><td>92149.22999999952</td></tr><tr><td>2020-11-16T00:00:00.000+0000</td><td>114826.02999999985</td></tr><tr><td>2020-11-17T00:00:00.000+0000</td><td>125138.46999999929</td></tr><tr><td>2020-11-18T00:00:00.000+0000</td><td>128052.66999999987</td></tr><tr><td>2020-11-19T00:00:00.000+0000</td><td>131369.27999999965</td></tr><tr><td>2020-11-20T00:00:00.000+0000</td><td>135161.63999999996</td></tr><tr><td>2020-11-21T00:00:00.000+0000</td><td>117667.14000000039</td></tr><tr><td>2020-11-22T00:00:00.000+0000</td><td>83515.95999999986</td></tr><tr><td>2020-11-23T00:00:00.000+0000</td><td>112539.74000000075</td></tr><tr><td>2020-11-24T00:00:00.000+0000</td><td>119696.43000000004</td></tr><tr><td>2020-11-25T00:00:00.000+0000</td><td>112178.37999999964</td></tr><tr><td>2020-11-26T00:00:00.000+0000</td><td>62871.16000000006</td></tr><tr><td>2020-11-27T00:00:00.000+0000</td><td>81547.26999999996</td></tr><tr><td>2020-11-28T00:00:00.000+0000</td><td>92885.43000000069</td></tr><tr><td>2020-11-29T00:00:00.000+0000</td><td>93105.40000000008</td></tr><tr><td>2020-11-30T00:00:00.000+0000</td><td>106214.25999999962</td></tr><tr><td>2020-12-01T00:00:00.000+0000</td><td>123416.30999999975</td></tr><tr><td>2020-12-02T00:00:00.000+0000</td><td>118860.45000000058</td></tr><tr><td>2020-12-03T00:00:00.000+0000</td><td>121740.73999999906</td></tr><tr><td>2020-12-04T00:00:00.000+0000</td><td>119833.66000000054</td></tr><tr><td>2020-12-05T00:00:00.000+0000</td><td>96825.24999999977</td></tr><tr><td>2020-12-06T00:00:00.000+0000</td><td>92476.64000000061</td></tr><tr><td>2020-12-07T00:00:00.000+0000</td><td>107777.59000000032</td></tr><tr><td>2020-12-08T00:00:00.000+0000</td><td>116890.40000000055</td></tr><tr><td>2020-12-09T00:00:00.000+0000</td><td>118138.06999999857</td></tr><tr><td>2020-12-10T00:00:00.000+0000</td><td>125083.85000000028</td></tr><tr><td>2020-12-11T00:00:00.000+0000</td><td>129727.05000000045</td></tr><tr><td>2020-12-12T00:00:00.000+0000</td><td>106777.23999999925</td></tr><tr><td>2020-12-13T00:00:00.000+0000</td><td>95855.94999999966</td></tr><tr><td>2020-12-14T00:00:00.000+0000</td><td>108844.93000000044</td></tr><tr><td>2020-12-15T00:00:00.000+0000</td><td>124781.62999999913</td></tr><tr><td>2020-12-16T00:00:00.000+0000</td><td>100789.73999999999</td></tr><tr><td>2020-12-17T00:00:00.000+0000</td><td>59903.62000000019</td></tr><tr><td>2020-12-18T00:00:00.000+0000</td><td>131955.06000000084</td></tr><tr><td>2020-12-19T00:00:00.000+0000</td><td>103190.6700000008</td></tr><tr><td>2020-12-20T00:00:00.000+0000</td><td>79921.48000000046</td></tr><tr><td>2020-12-21T00:00:00.000+0000</td><td>111030.07999999989</td></tr><tr><td>2020-12-22T00:00:00.000+0000</td><td>120491.21000000052</td></tr><tr><td>2020-12-23T00:00:00.000+0000</td><td>121144.09999999944</td></tr><tr><td>2020-12-24T00:00:00.000+0000</td><td>97117.58999999966</td></tr><tr><td>2020-12-25T00:00:00.000+0000</td><td>50950.520000000135</td></tr><tr><td>2020-12-26T00:00:00.000+0000</td><td>71446.49999999975</td></tr><tr><td>2020-12-27T00:00:00.000+0000</td><td>78109.69</td></tr><tr><td>2020-12-28T00:00:00.000+0000</td><td>101696.51000000068</td></tr><tr><td>2020-12-29T00:00:00.000+0000</td><td>105813.31000000061</td></tr><tr><td>2020-12-30T00:00:00.000+0000</td><td>111472.4600000002</td></tr><tr><td>2020-12-31T00:00:00.000+0000</td><td>104680.62999999922</td></tr></tbody></table></div>"
      ]
     },
     "metadata": {
      "application/vnd.databricks.v1+output": {
       "addedWidgets": {},
       "aggData": [],
       "aggError": "",
       "aggOverflow": false,
       "aggSchema": [],
       "aggSeriesLimitReached": false,
       "aggType": "",
       "arguments": {},
       "columnCustomDisplayInfos": {},
       "data": [
        [
         "2020-01-01T00:00:00.000+0000",
         564678.0799999975
        ],
        [
         "2020-01-02T00:00:00.000+0000",
         507599.3600000032
        ],
        [
         "2020-01-03T00:00:00.000+0000",
         519248.8700000045
        ],
        [
         "2020-01-04T00:00:00.000+0000",
         520527.4100000029
        ],
        [
         "2020-01-05T00:00:00.000+0000",
         525933.1599999996
        ],
        [
         "2020-01-06T00:00:00.000+0000",
         516049.24999999703
        ],
        [
         "2020-01-07T00:00:00.000+0000",
         533555.1600000025
        ],
        [
         "2020-01-08T00:00:00.000+0000",
         563607.2899999969
        ],
        [
         "2020-01-09T00:00:00.000+0000",
         607496.3500000038
        ],
        [
         "2020-01-10T00:00:00.000+0000",
         613878.2000000111
        ],
        [
         "2020-01-11T00:00:00.000+0000",
         588589.0300000093
        ],
        [
         "2020-01-12T00:00:00.000+0000",
         569211.5699999932
        ],
        [
         "2020-01-13T00:00:00.000+0000",
         592337.9699999953
        ],
        [
         "2020-01-14T00:00:00.000+0000",
         581858.9899999787
        ],
        [
         "2020-01-15T00:00:00.000+0000",
         587739.6599999933
        ],
        [
         "2020-01-16T00:00:00.000+0000",
         638079.6300000015
        ],
        [
         "2020-01-17T00:00:00.000+0000",
         650759.1300000292
        ],
        [
         "2020-01-18T00:00:00.000+0000",
         498027.9499999912
        ],
        [
         "2020-01-19T00:00:00.000+0000",
         511785.56000000576
        ],
        [
         "2020-01-20T00:00:00.000+0000",
         505852.86999999953
        ],
        [
         "2020-01-21T00:00:00.000+0000",
         575648.5100000113
        ],
        [
         "2020-01-22T00:00:00.000+0000",
         579826.9299999973
        ],
        [
         "2020-01-23T00:00:00.000+0000",
         627416.8300000033
        ],
        [
         "2020-01-24T00:00:00.000+0000",
         625083.6699999998
        ],
        [
         "2020-01-25T00:00:00.000+0000",
         559107.5399999907
        ],
        [
         "2020-01-26T00:00:00.000+0000",
         567045.1200000051
        ],
        [
         "2020-01-27T00:00:00.000+0000",
         539151.4699999978
        ],
        [
         "2020-01-28T00:00:00.000+0000",
         560475.4700000074
        ],
        [
         "2020-01-29T00:00:00.000+0000",
         593194.4899999924
        ],
        [
         "2020-01-30T00:00:00.000+0000",
         651781.8600000094
        ],
        [
         "2020-01-31T00:00:00.000+0000",
         636157.8299999965
        ],
        [
         "2020-02-01T00:00:00.000+0000",
         550938.6799999924
        ],
        [
         "2020-02-02T00:00:00.000+0000",
         569990.7800000086
        ],
        [
         "2020-02-03T00:00:00.000+0000",
         555382.7600000049
        ],
        [
         "2020-02-04T00:00:00.000+0000",
         561846.1600000054
        ],
        [
         "2020-02-05T00:00:00.000+0000",
         599658.5100000012
        ],
        [
         "2020-02-06T00:00:00.000+0000",
         633765.0300000046
        ],
        [
         "2020-02-07T00:00:00.000+0000",
         650503.6699999978
        ],
        [
         "2020-02-08T00:00:00.000+0000",
         572700.719999989
        ],
        [
         "2020-02-09T00:00:00.000+0000",
         546724.450000001
        ],
        [
         "2020-02-10T00:00:00.000+0000",
         575953.4100000036
        ],
        [
         "2020-02-11T00:00:00.000+0000",
         566106.0600000041
        ],
        [
         "2020-02-12T00:00:00.000+0000",
         622049.7999999932
        ],
        [
         "2020-02-13T00:00:00.000+0000",
         663763.6299999929
        ],
        [
         "2020-02-14T00:00:00.000+0000",
         685040.940000005
        ],
        [
         "2020-02-15T00:00:00.000+0000",
         529160.0100000068
        ],
        [
         "2020-02-16T00:00:00.000+0000",
         490816.4100000025
        ],
        [
         "2020-02-17T00:00:00.000+0000",
         482256.97000000585
        ],
        [
         "2020-02-18T00:00:00.000+0000",
         535796.7100000174
        ],
        [
         "2020-02-19T00:00:00.000+0000",
         591467.7600000026
        ],
        [
         "2020-02-20T00:00:00.000+0000",
         640678.3599999972
        ],
        [
         "2020-02-21T00:00:00.000+0000",
         632523.7599999993
        ],
        [
         "2020-02-22T00:00:00.000+0000",
         560467.8900000083
        ],
        [
         "2020-02-23T00:00:00.000+0000",
         559366.7599999969
        ],
        [
         "2020-02-24T00:00:00.000+0000",
         581520.8900000076
        ],
        [
         "2020-02-25T00:00:00.000+0000",
         601679.2299999992
        ],
        [
         "2020-02-26T00:00:00.000+0000",
         620375.9500000098
        ],
        [
         "2020-02-27T00:00:00.000+0000",
         684759.9399999995
        ],
        [
         "2020-02-28T00:00:00.000+0000",
         673419.4500000023
        ],
        [
         "2020-02-29T00:00:00.000+0000",
         593603.4100000166
        ],
        [
         "2020-03-01T00:00:00.000+0000",
         559670.6699999875
        ],
        [
         "2020-03-02T00:00:00.000+0000",
         557337.4799999985
        ],
        [
         "2020-03-03T00:00:00.000+0000",
         582632.7500000001
        ],
        [
         "2020-03-04T00:00:00.000+0000",
         610467.3599999852
        ],
        [
         "2020-03-05T00:00:00.000+0000",
         659655.2600000004
        ],
        [
         "2020-03-06T00:00:00.000+0000",
         622080.0900000012
        ],
        [
         "2020-03-07T00:00:00.000+0000",
         540249.4200000033
        ],
        [
         "2020-03-08T00:00:00.000+0000",
         509582.57999999734
        ],
        [
         "2020-03-09T00:00:00.000+0000",
         486367.15000000846
        ],
        [
         "2020-03-10T00:00:00.000+0000",
         474960.220000002
        ],
        [
         "2020-03-11T00:00:00.000+0000",
         472793.4899999994
        ],
        [
         "2020-03-12T00:00:00.000+0000",
         460198.31999999535
        ],
        [
         "2020-03-13T00:00:00.000+0000",
         364132.59000000515
        ],
        [
         "2020-03-14T00:00:00.000+0000",
         249031.56999999916
        ],
        [
         "2020-03-15T00:00:00.000+0000",
         195670.12000000136
        ],
        [
         "2020-03-16T00:00:00.000+0000",
         189292.35999999952
        ],
        [
         "2020-03-17T00:00:00.000+0000",
         132322.22999999908
        ],
        [
         "2020-03-18T00:00:00.000+0000",
         103290.16999999984
        ],
        [
         "2020-03-19T00:00:00.000+0000",
         81238.56000000027
        ],
        [
         "2020-03-20T00:00:00.000+0000",
         74824.62999999963
        ],
        [
         "2020-03-21T00:00:00.000+0000",
         48599.83999999997
        ],
        [
         "2020-03-22T00:00:00.000+0000",
         33439.00999999992
        ],
        [
         "2020-03-23T00:00:00.000+0000",
         35652.21000000011
        ],
        [
         "2020-03-24T00:00:00.000+0000",
         31335.169999999944
        ],
        [
         "2020-03-25T00:00:00.000+0000",
         29750.81000000006
        ],
        [
         "2020-03-26T00:00:00.000+0000",
         27547.539999999943
        ],
        [
         "2020-03-27T00:00:00.000+0000",
         30716.010000000006
        ],
        [
         "2020-03-28T00:00:00.000+0000",
         19990.540000000005
        ],
        [
         "2020-03-29T00:00:00.000+0000",
         16196.38999999998
        ],
        [
         "2020-03-30T00:00:00.000+0000",
         23898.839999999975
        ],
        [
         "2020-03-31T00:00:00.000+0000",
         23530.909999999945
        ],
        [
         "2020-04-01T00:00:00.000+0000",
         23137.400000000067
        ],
        [
         "2020-04-02T00:00:00.000+0000",
         21700.169999999984
        ],
        [
         "2020-04-03T00:00:00.000+0000",
         24997.550000000014
        ],
        [
         "2020-04-04T00:00:00.000+0000",
         15982.580000000004
        ],
        [
         "2020-04-05T00:00:00.000+0000",
         13654.639999999983
        ],
        [
         "2020-04-06T00:00:00.000+0000",
         20121.379999999943
        ],
        [
         "2020-04-07T00:00:00.000+0000",
         18638.760000000002
        ],
        [
         "2020-04-08T00:00:00.000+0000",
         18013.839999999927
        ],
        [
         "2020-04-09T00:00:00.000+0000",
         18184.87000000008
        ],
        [
         "2020-04-10T00:00:00.000+0000",
         19897.78999999999
        ],
        [
         "2020-04-11T00:00:00.000+0000",
         15712.040000000003
        ],
        [
         "2020-04-12T00:00:00.000+0000",
         11552.089999999978
        ],
        [
         "2020-04-13T00:00:00.000+0000",
         16991.669999999936
        ],
        [
         "2020-04-14T00:00:00.000+0000",
         18950.039999999997
        ],
        [
         "2020-04-15T00:00:00.000+0000",
         19547.820000000087
        ],
        [
         "2020-04-16T00:00:00.000+0000",
         19512.31999999995
        ],
        [
         "2020-04-17T00:00:00.000+0000",
         22611.10999999999
        ],
        [
         "2020-04-18T00:00:00.000+0000",
         14824.940000000011
        ],
        [
         "2020-04-19T00:00:00.000+0000",
         13320.159999999978
        ],
        [
         "2020-04-20T00:00:00.000+0000",
         18992.249999999996
        ],
        [
         "2020-04-21T00:00:00.000+0000",
         18320.95999999998
        ],
        [
         "2020-04-22T00:00:00.000+0000",
         20118.369999999988
        ],
        [
         "2020-04-23T00:00:00.000+0000",
         20089.060000000023
        ],
        [
         "2020-04-24T00:00:00.000+0000",
         21628.430000000008
        ],
        [
         "2020-04-25T00:00:00.000+0000",
         17261.63000000003
        ],
        [
         "2020-04-26T00:00:00.000+0000",
         12766.190000000006
        ],
        [
         "2020-04-27T00:00:00.000+0000",
         19581.80999999996
        ],
        [
         "2020-04-28T00:00:00.000+0000",
         20416.54999999999
        ],
        [
         "2020-04-29T00:00:00.000+0000",
         21088.06000000003
        ],
        [
         "2020-04-30T00:00:00.000+0000",
         21442.239999999958
        ],
        [
         "2020-05-01T00:00:00.000+0000",
         24880.32000000003
        ],
        [
         "2020-05-02T00:00:00.000+0000",
         18625.50999999998
        ],
        [
         "2020-05-03T00:00:00.000+0000",
         14833.279999999993
        ],
        [
         "2020-05-04T00:00:00.000+0000",
         22098.280000000006
        ],
        [
         "2020-05-05T00:00:00.000+0000",
         22554.92999999994
        ],
        [
         "2020-05-06T00:00:00.000+0000",
         23952.739999999943
        ],
        [
         "2020-05-07T00:00:00.000+0000",
         24050.709999999977
        ],
        [
         "2020-05-08T00:00:00.000+0000",
         25221.59000000005
        ],
        [
         "2020-05-09T00:00:00.000+0000",
         18407.390000000014
        ],
        [
         "2020-05-10T00:00:00.000+0000",
         17582.770000000004
        ],
        [
         "2020-05-11T00:00:00.000+0000",
         22604.84000000002
        ],
        [
         "2020-05-12T00:00:00.000+0000",
         22943.800000000076
        ],
        [
         "2020-05-13T00:00:00.000+0000",
         24407.510000000068
        ],
        [
         "2020-05-14T00:00:00.000+0000",
         25106.87999999999
        ],
        [
         "2020-05-15T00:00:00.000+0000",
         28809.71999999986
        ],
        [
         "2020-05-16T00:00:00.000+0000",
         22585.919999999966
        ],
        [
         "2020-05-17T00:00:00.000+0000",
         17786.730000000036
        ],
        [
         "2020-05-18T00:00:00.000+0000",
         26123.100000000053
        ],
        [
         "2020-05-19T00:00:00.000+0000",
         27802.04000000014
        ],
        [
         "2020-05-20T00:00:00.000+0000",
         29090.01999999998
        ],
        [
         "2020-05-21T00:00:00.000+0000",
         29172.19000000009
        ],
        [
         "2020-05-22T00:00:00.000+0000",
         31603.279999999802
        ],
        [
         "2020-05-23T00:00:00.000+0000",
         19271.529999999966
        ],
        [
         "2020-05-24T00:00:00.000+0000",
         21196.65
        ],
        [
         "2020-05-25T00:00:00.000+0000",
         18849.58999999997
        ],
        [
         "2020-05-26T00:00:00.000+0000",
         30559.47000000002
        ],
        [
         "2020-05-27T00:00:00.000+0000",
         32016.610000000102
        ],
        [
         "2020-05-28T00:00:00.000+0000",
         30834.370000000086
        ],
        [
         "2020-05-29T00:00:00.000+0000",
         34766.3599999998
        ],
        [
         "2020-05-30T00:00:00.000+0000",
         28011.550000000097
        ],
        [
         "2020-05-31T00:00:00.000+0000",
         24325.330000000078
        ],
        [
         "2020-06-01T00:00:00.000+0000",
         35789.59999999972
        ],
        [
         "2020-06-02T00:00:00.000+0000",
         35605.28000000012
        ],
        [
         "2020-06-03T00:00:00.000+0000",
         34167.499999999956
        ],
        [
         "2020-06-04T00:00:00.000+0000",
         37629.940000000024
        ],
        [
         "2020-06-05T00:00:00.000+0000",
         41592.98999999991
        ],
        [
         "2020-06-06T00:00:00.000+0000",
         34317.99000000013
        ],
        [
         "2020-06-07T00:00:00.000+0000",
         28574.64000000006
        ],
        [
         "2020-06-08T00:00:00.000+0000",
         40164.88000000001
        ],
        [
         "2020-06-09T00:00:00.000+0000",
         41363.66000000007
        ],
        [
         "2020-06-10T00:00:00.000+0000",
         40913.59999999978
        ],
        [
         "2020-06-11T00:00:00.000+0000",
         41674.55000000025
        ],
        [
         "2020-06-12T00:00:00.000+0000",
         48364.19
        ],
        [
         "2020-06-13T00:00:00.000+0000",
         36761.97999999983
        ],
        [
         "2020-06-14T00:00:00.000+0000",
         32411.429999999902
        ],
        [
         "2020-06-15T00:00:00.000+0000",
         45705.750000000146
        ],
        [
         "2020-06-16T00:00:00.000+0000",
         47127.15000000009
        ],
        [
         "2020-06-17T00:00:00.000+0000",
         47277.78000000016
        ],
        [
         "2020-06-18T00:00:00.000+0000",
         49415.05000000003
        ],
        [
         "2020-06-19T00:00:00.000+0000",
         54881.290000000175
        ],
        [
         "2020-06-20T00:00:00.000+0000",
         39899.19999999975
        ],
        [
         "2020-06-21T00:00:00.000+0000",
         39243.52000000003
        ],
        [
         "2020-06-22T00:00:00.000+0000",
         56616.240000000056
        ],
        [
         "2020-06-23T00:00:00.000+0000",
         56419.870000000235
        ],
        [
         "2020-06-24T00:00:00.000+0000",
         59478.719999999674
        ],
        [
         "2020-06-25T00:00:00.000+0000",
         62529.699999999866
        ],
        [
         "2020-06-26T00:00:00.000+0000",
         63839.67000000033
        ],
        [
         "2020-06-27T00:00:00.000+0000",
         46263.85999999991
        ],
        [
         "2020-06-28T00:00:00.000+0000",
         44285.10999999983
        ],
        [
         "2020-06-29T00:00:00.000+0000",
         61970.54999999987
        ],
        [
         "2020-06-30T00:00:00.000+0000",
         60026.4499999999
        ],
        [
         "2020-07-01T00:00:00.000+0000",
         60803.429999999935
        ],
        [
         "2020-07-02T00:00:00.000+0000",
         67342.63999999988
        ],
        [
         "2020-07-03T00:00:00.000+0000",
         52057.70000000013
        ],
        [
         "2020-07-04T00:00:00.000+0000",
         39356.81000000025
        ],
        [
         "2020-07-05T00:00:00.000+0000",
         45661.579999999834
        ],
        [
         "2020-07-06T00:00:00.000+0000",
         62142.29000000014
        ],
        [
         "2020-07-07T00:00:00.000+0000",
         63994.29
        ],
        [
         "2020-07-08T00:00:00.000+0000",
         63256.700000000026
        ],
        [
         "2020-07-09T00:00:00.000+0000",
         68730.57999999977
        ],
        [
         "2020-07-10T00:00:00.000+0000",
         55826.539999999986
        ],
        [
         "2020-07-11T00:00:00.000+0000",
         48173.69000000005
        ],
        [
         "2020-07-12T00:00:00.000+0000",
         50489.90999999998
        ],
        [
         "2020-07-13T00:00:00.000+0000",
         62729.96999999987
        ],
        [
         "2020-07-14T00:00:00.000+0000",
         65203.18999999998
        ],
        [
         "2020-07-15T00:00:00.000+0000",
         68609.98000000019
        ],
        [
         "2020-07-16T00:00:00.000+0000",
         69212.6299999996
        ],
        [
         "2020-07-17T00:00:00.000+0000",
         65542.14999999982
        ],
        [
         "2020-07-18T00:00:00.000+0000",
         56342.86000000001
        ],
        [
         "2020-07-19T00:00:00.000+0000",
         50262.24000000033
        ],
        [
         "2020-07-20T00:00:00.000+0000",
         64481.86000000004
        ],
        [
         "2020-07-21T00:00:00.000+0000",
         66942.99999999997
        ],
        [
         "2020-07-22T00:00:00.000+0000",
         70292.70000000014
        ],
        [
         "2020-07-23T00:00:00.000+0000",
         68277.6699999997
        ],
        [
         "2020-07-24T00:00:00.000+0000",
         67807.72000000003
        ],
        [
         "2020-07-25T00:00:00.000+0000",
         62683.81000000025
        ],
        [
         "2020-07-26T00:00:00.000+0000",
         51374.67999999975
        ],
        [
         "2020-07-27T00:00:00.000+0000",
         66834.43999999993
        ],
        [
         "2020-07-28T00:00:00.000+0000",
         70614.31999999966
        ],
        [
         "2020-07-29T00:00:00.000+0000",
         76022.52000000025
        ],
        [
         "2020-07-30T00:00:00.000+0000",
         77292.78000000003
        ],
        [
         "2020-07-31T00:00:00.000+0000",
         84274.36999999959
        ],
        [
         "2020-08-01T00:00:00.000+0000",
         74215.32000000005
        ],
        [
         "2020-08-02T00:00:00.000+0000",
         57384.38000000007
        ],
        [
         "2020-08-03T00:00:00.000+0000",
         75145.43000000025
        ],
        [
         "2020-08-04T00:00:00.000+0000",
         61317.31000000011
        ],
        [
         "2020-08-05T00:00:00.000+0000",
         82322.54000000011
        ],
        [
         "2020-08-06T00:00:00.000+0000",
         82420.58000000023
        ],
        [
         "2020-08-07T00:00:00.000+0000",
         82776.46999999993
        ],
        [
         "2020-08-08T00:00:00.000+0000",
         68819.85999999978
        ],
        [
         "2020-08-09T00:00:00.000+0000",
         63046.09999999986
        ],
        [
         "2020-08-10T00:00:00.000+0000",
         76985.91999999917
        ],
        [
         "2020-08-11T00:00:00.000+0000",
         78805.36999999997
        ],
        [
         "2020-08-12T00:00:00.000+0000",
         82713.19000000124
        ],
        [
         "2020-08-13T00:00:00.000+0000",
         81960.83000000038
        ],
        [
         "2020-08-14T00:00:00.000+0000",
         86970.45000000024
        ],
        [
         "2020-08-15T00:00:00.000+0000",
         79571.83999999956
        ],
        [
         "2020-08-16T00:00:00.000+0000",
         58762.7100000001
        ],
        [
         "2020-08-17T00:00:00.000+0000",
         78254.51000000037
        ],
        [
         "2020-08-18T00:00:00.000+0000",
         84984.06000000023
        ],
        [
         "2020-08-19T00:00:00.000+0000",
         83983.28999999914
        ],
        [
         "2020-08-20T00:00:00.000+0000",
         89276.34999999982
        ],
        [
         "2020-08-21T00:00:00.000+0000",
         90243.94000000056
        ],
        [
         "2020-08-22T00:00:00.000+0000",
         81235.76999999963
        ],
        [
         "2020-08-23T00:00:00.000+0000",
         68861.32999999989
        ],
        [
         "2020-08-24T00:00:00.000+0000",
         81293.70000000023
        ],
        [
         "2020-08-25T00:00:00.000+0000",
         86833.17000000004
        ],
        [
         "2020-08-26T00:00:00.000+0000",
         90222.9100000003
        ],
        [
         "2020-08-27T00:00:00.000+0000",
         88197.04999999962
        ],
        [
         "2020-08-28T00:00:00.000+0000",
         93368.19999999982
        ],
        [
         "2020-08-29T00:00:00.000+0000",
         74814.79000000011
        ],
        [
         "2020-08-30T00:00:00.000+0000",
         79200.64000000016
        ],
        [
         "2020-08-31T00:00:00.000+0000",
         89237.30999999987
        ],
        [
         "2020-09-01T00:00:00.000+0000",
         91410.52000000027
        ],
        [
         "2020-09-02T00:00:00.000+0000",
         93417.79000000021
        ],
        [
         "2020-09-03T00:00:00.000+0000",
         98285.250000001
        ],
        [
         "2020-09-04T00:00:00.000+0000",
         98966.97999999947
        ],
        [
         "2020-09-05T00:00:00.000+0000",
         83067.77999999996
        ],
        [
         "2020-09-06T00:00:00.000+0000",
         72417.51000000015
        ],
        [
         "2020-09-07T00:00:00.000+0000",
         76526.87999999996
        ],
        [
         "2020-09-08T00:00:00.000+0000",
         100321.67000000061
        ],
        [
         "2020-09-09T00:00:00.000+0000",
         106046.98
        ],
        [
         "2020-09-10T00:00:00.000+0000",
         105152.67000000093
        ],
        [
         "2020-09-11T00:00:00.000+0000",
         112289.46999999924
        ],
        [
         "2020-09-12T00:00:00.000+0000",
         103463.51000000018
        ],
        [
         "2020-09-13T00:00:00.000+0000",
         80687.02000000056
        ],
        [
         "2020-09-14T00:00:00.000+0000",
         101793.08999999943
        ],
        [
         "2020-09-15T00:00:00.000+0000",
         108070.5499999995
        ],
        [
         "2020-09-16T00:00:00.000+0000",
         109595.98000000125
        ],
        [
         "2020-09-17T00:00:00.000+0000",
         116614.01000000037
        ],
        [
         "2020-09-18T00:00:00.000+0000",
         121310.05000000092
        ],
        [
         "2020-09-19T00:00:00.000+0000",
         107771.3799999996
        ],
        [
         "2020-09-20T00:00:00.000+0000",
         93528.5300000003
        ],
        [
         "2020-09-21T00:00:00.000+0000",
         105507.93000000114
        ],
        [
         "2020-09-22T00:00:00.000+0000",
         109507.69999999975
        ],
        [
         "2020-09-23T00:00:00.000+0000",
         118361.47999999918
        ],
        [
         "2020-09-24T00:00:00.000+0000",
         125258.18999999974
        ],
        [
         "2020-09-25T00:00:00.000+0000",
         131853.00999999975
        ],
        [
         "2020-09-26T00:00:00.000+0000",
         116815.93000000037
        ],
        [
         "2020-09-27T00:00:00.000+0000",
         96495.92000000022
        ],
        [
         "2020-09-28T00:00:00.000+0000",
         96083.41000000008
        ],
        [
         "2020-09-29T00:00:00.000+0000",
         116027.21999999974
        ],
        [
         "2020-09-30T00:00:00.000+0000",
         123146.45000000029
        ],
        [
         "2020-10-01T00:00:00.000+0000",
         135058.5200000003
        ],
        [
         "2020-10-02T00:00:00.000+0000",
         132990.39999999863
        ],
        [
         "2020-10-03T00:00:00.000+0000",
         120640.66000000003
        ],
        [
         "2020-10-04T00:00:00.000+0000",
         93454.78999999935
        ],
        [
         "2020-10-05T00:00:00.000+0000",
         108957.76999999999
        ],
        [
         "2020-10-06T00:00:00.000+0000",
         117407.42000000068
        ],
        [
         "2020-10-07T00:00:00.000+0000",
         123330.31000000011
        ],
        [
         "2020-10-08T00:00:00.000+0000",
         132783.1500000003
        ],
        [
         "2020-10-09T00:00:00.000+0000",
         130763.05000000026
        ],
        [
         "2020-10-10T00:00:00.000+0000",
         120467.48000000056
        ],
        [
         "2020-10-11T00:00:00.000+0000",
         96874.4000000003
        ],
        [
         "2020-10-12T00:00:00.000+0000",
         101441.35000000014
        ],
        [
         "2020-10-13T00:00:00.000+0000",
         118792.30999999997
        ],
        [
         "2020-10-14T00:00:00.000+0000",
         127538.45999999951
        ],
        [
         "2020-10-15T00:00:00.000+0000",
         140247.98000000286
        ],
        [
         "2020-10-16T00:00:00.000+0000",
         126152.74000000059
        ],
        [
         "2020-10-17T00:00:00.000+0000",
         125459.09000000027
        ],
        [
         "2020-10-18T00:00:00.000+0000",
         107507.76999999875
        ],
        [
         "2020-10-19T00:00:00.000+0000",
         116092.16999999988
        ],
        [
         "2020-10-20T00:00:00.000+0000",
         122446.24999999965
        ],
        [
         "2020-10-21T00:00:00.000+0000",
         126920.33999999908
        ],
        [
         "2020-10-22T00:00:00.000+0000",
         137381.88000000062
        ],
        [
         "2020-10-23T00:00:00.000+0000",
         137016.0699999995
        ],
        [
         "2020-10-24T00:00:00.000+0000",
         127869.31000000096
        ],
        [
         "2020-10-25T00:00:00.000+0000",
         105381.48000000117
        ],
        [
         "2020-10-26T00:00:00.000+0000",
         117098.46
        ],
        [
         "2020-10-27T00:00:00.000+0000",
         126780.05999999904
        ],
        [
         "2020-10-28T00:00:00.000+0000",
         133227.02999999985
        ],
        [
         "2020-10-29T00:00:00.000+0000",
         133884.6600000007
        ],
        [
         "2020-10-30T00:00:00.000+0000",
         138973.41000000018
        ],
        [
         "2020-10-31T00:00:00.000+0000",
         132964.5500000014
        ],
        [
         "2020-11-01T00:00:00.000+0000",
         114290.13999999972
        ],
        [
         "2020-11-02T00:00:00.000+0000",
         122047.93000000046
        ],
        [
         "2020-11-03T00:00:00.000+0000",
         106049.34000000043
        ],
        [
         "2020-11-04T00:00:00.000+0000",
         105706.31000000065
        ],
        [
         "2020-11-05T00:00:00.000+0000",
         124091.43999999987
        ],
        [
         "2020-11-06T00:00:00.000+0000",
         131609.87000000075
        ],
        [
         "2020-11-07T00:00:00.000+0000",
         131577.20999999956
        ],
        [
         "2020-11-08T00:00:00.000+0000",
         113896.41000000051
        ],
        [
         "2020-11-09T00:00:00.000+0000",
         114564.26999999984
        ],
        [
         "2020-11-10T00:00:00.000+0000",
         133243.43000000058
        ],
        [
         "2020-11-11T00:00:00.000+0000",
         123099.0399999993
        ],
        [
         "2020-11-12T00:00:00.000+0000",
         131209.40000000058
        ],
        [
         "2020-11-13T00:00:00.000+0000",
         133874.34999999977
        ],
        [
         "2020-11-14T00:00:00.000+0000",
         119573.95000000033
        ],
        [
         "2020-11-15T00:00:00.000+0000",
         92149.22999999952
        ],
        [
         "2020-11-16T00:00:00.000+0000",
         114826.02999999985
        ],
        [
         "2020-11-17T00:00:00.000+0000",
         125138.46999999929
        ],
        [
         "2020-11-18T00:00:00.000+0000",
         128052.66999999987
        ],
        [
         "2020-11-19T00:00:00.000+0000",
         131369.27999999965
        ],
        [
         "2020-11-20T00:00:00.000+0000",
         135161.63999999996
        ],
        [
         "2020-11-21T00:00:00.000+0000",
         117667.14000000039
        ],
        [
         "2020-11-22T00:00:00.000+0000",
         83515.95999999986
        ],
        [
         "2020-11-23T00:00:00.000+0000",
         112539.74000000075
        ],
        [
         "2020-11-24T00:00:00.000+0000",
         119696.43000000004
        ],
        [
         "2020-11-25T00:00:00.000+0000",
         112178.37999999964
        ],
        [
         "2020-11-26T00:00:00.000+0000",
         62871.16000000006
        ],
        [
         "2020-11-27T00:00:00.000+0000",
         81547.26999999996
        ],
        [
         "2020-11-28T00:00:00.000+0000",
         92885.43000000069
        ],
        [
         "2020-11-29T00:00:00.000+0000",
         93105.40000000008
        ],
        [
         "2020-11-30T00:00:00.000+0000",
         106214.25999999962
        ],
        [
         "2020-12-01T00:00:00.000+0000",
         123416.30999999975
        ],
        [
         "2020-12-02T00:00:00.000+0000",
         118860.45000000058
        ],
        [
         "2020-12-03T00:00:00.000+0000",
         121740.73999999906
        ],
        [
         "2020-12-04T00:00:00.000+0000",
         119833.66000000054
        ],
        [
         "2020-12-05T00:00:00.000+0000",
         96825.24999999977
        ],
        [
         "2020-12-06T00:00:00.000+0000",
         92476.64000000061
        ],
        [
         "2020-12-07T00:00:00.000+0000",
         107777.59000000032
        ],
        [
         "2020-12-08T00:00:00.000+0000",
         116890.40000000055
        ],
        [
         "2020-12-09T00:00:00.000+0000",
         118138.06999999857
        ],
        [
         "2020-12-10T00:00:00.000+0000",
         125083.85000000028
        ],
        [
         "2020-12-11T00:00:00.000+0000",
         129727.05000000045
        ],
        [
         "2020-12-12T00:00:00.000+0000",
         106777.23999999925
        ],
        [
         "2020-12-13T00:00:00.000+0000",
         95855.94999999966
        ],
        [
         "2020-12-14T00:00:00.000+0000",
         108844.93000000044
        ],
        [
         "2020-12-15T00:00:00.000+0000",
         124781.62999999913
        ],
        [
         "2020-12-16T00:00:00.000+0000",
         100789.73999999999
        ],
        [
         "2020-12-17T00:00:00.000+0000",
         59903.62000000019
        ],
        [
         "2020-12-18T00:00:00.000+0000",
         131955.06000000084
        ],
        [
         "2020-12-19T00:00:00.000+0000",
         103190.6700000008
        ],
        [
         "2020-12-20T00:00:00.000+0000",
         79921.48000000046
        ],
        [
         "2020-12-21T00:00:00.000+0000",
         111030.07999999989
        ],
        [
         "2020-12-22T00:00:00.000+0000",
         120491.21000000052
        ],
        [
         "2020-12-23T00:00:00.000+0000",
         121144.09999999944
        ],
        [
         "2020-12-24T00:00:00.000+0000",
         97117.58999999966
        ],
        [
         "2020-12-25T00:00:00.000+0000",
         50950.520000000135
        ],
        [
         "2020-12-26T00:00:00.000+0000",
         71446.49999999975
        ],
        [
         "2020-12-27T00:00:00.000+0000",
         78109.69
        ],
        [
         "2020-12-28T00:00:00.000+0000",
         101696.51000000068
        ],
        [
         "2020-12-29T00:00:00.000+0000",
         105813.31000000061
        ],
        [
         "2020-12-30T00:00:00.000+0000",
         111472.4600000002
        ],
        [
         "2020-12-31T00:00:00.000+0000",
         104680.62999999922
        ]
       ],
       "datasetInfos": [],
       "dbfsResultPath": null,
       "isJsonSchema": true,
       "metadata": {},
       "overflow": false,
       "plotOptions": {
        "customPlotOptions": {},
        "displayType": "table",
        "pivotAggregation": null,
        "pivotColumns": null,
        "xColumns": null,
        "yColumns": null
       },
       "removedWidgets": [],
       "schema": [
        {
         "metadata": "{}",
         "name": "Date",
         "type": "\"timestamp\""
        },
        {
         "metadata": "{}",
         "name": "Daily_Trips",
         "type": "\"double\""
        }
       ],
       "type": "table"
      }
     },
     "output_type": "display_data"
    }
   ],
   "source": [
    "# Resampling the data, to change it's time frequency to daily interval.\n",
    "\n",
    "TS_ = data.groupBy(window(\"DO_timestamp\", \"1 day\")).agg(sum(\"trip_distance(miles)\").alias(\"Daily_Trips\"))\n",
    "TS_data = TS_.select(TS_.window.start.cast(\"timestamp\").alias(\"Date\"), \"Daily_Trips\").collect()\n",
    "TS_data = spark.createDataFrame(TS_data)\n",
    "TS_data = TS_data.sort(TS_data.Date.asc())\n",
    "TS_data.display()"
   ]
  },
  {
   "cell_type": "code",
   "execution_count": 0,
   "metadata": {
    "application/vnd.databricks.v1+cell": {
     "inputWidgets": {},
     "nuid": "0b0e4bf4-db1d-46e9-9d5a-9f56eba2a0e5",
     "showTitle": false,
     "title": ""
    }
   },
   "outputs": [
    {
     "data": {
      "text/html": [
       "<style scoped>\n",
       "  .ansiout {\n",
       "    display: block;\n",
       "    unicode-bidi: embed;\n",
       "    white-space: pre-wrap;\n",
       "    word-wrap: break-word;\n",
       "    word-break: break-all;\n",
       "    font-family: \"Source Code Pro\", \"Menlo\", monospace;;\n",
       "    font-size: 13px;\n",
       "    color: #555;\n",
       "    margin-left: 4px;\n",
       "    line-height: 19px;\n",
       "  }\n",
       "</style>\n",
       "<div class=\"ansiout\">          Date  Daily_Trips\n",
       "0   2020-01-01    564678.08\n",
       "1   2020-01-02    507599.36\n",
       "2   2020-01-03    519248.87\n",
       "3   2020-01-04    520527.41\n",
       "4   2020-01-05    525933.16\n",
       "..         ...          ...\n",
       "361 2020-12-27     78109.69\n",
       "362 2020-12-28    101696.51\n",
       "363 2020-12-29    105813.31\n",
       "364 2020-12-30    111472.46\n",
       "365 2020-12-31    104680.63\n",
       "\n",
       "[366 rows x 2 columns]\n",
       "</div>"
      ]
     },
     "metadata": {
      "application/vnd.databricks.v1+output": {
       "addedWidgets": {},
       "arguments": {},
       "data": "<div class=\"ansiout\">          Date  Daily_Trips\n0   2020-01-01    564678.08\n1   2020-01-02    507599.36\n2   2020-01-03    519248.87\n3   2020-01-04    520527.41\n4   2020-01-05    525933.16\n..         ...          ...\n361 2020-12-27     78109.69\n362 2020-12-28    101696.51\n363 2020-12-29    105813.31\n364 2020-12-30    111472.46\n365 2020-12-31    104680.63\n\n[366 rows x 2 columns]\n</div>",
       "datasetInfos": [],
       "metadata": {},
       "removedWidgets": [],
       "type": "html"
      }
     },
     "output_type": "display_data"
    }
   ],
   "source": [
    "# converting the resampled data to pandas DF\n",
    "\n",
    "TS_DF = TS_data.toPandas()\n",
    "print(TS_DF)"
   ]
  },
  {
   "cell_type": "code",
   "execution_count": 0,
   "metadata": {
    "application/vnd.databricks.v1+cell": {
     "inputWidgets": {},
     "nuid": "30a851f0-0b50-41a6-9f1b-cf82cba8facd",
     "showTitle": false,
     "title": ""
    }
   },
   "outputs": [
    {
     "data": {
      "text/html": [
       "<style scoped>\n",
       "  .ansiout {\n",
       "    display: block;\n",
       "    unicode-bidi: embed;\n",
       "    white-space: pre-wrap;\n",
       "    word-wrap: break-word;\n",
       "    word-break: break-all;\n",
       "    font-family: \"Source Code Pro\", \"Menlo\", monospace;;\n",
       "    font-size: 13px;\n",
       "    color: #555;\n",
       "    margin-left: 4px;\n",
       "    line-height: 19px;\n",
       "  }\n",
       "</style>\n",
       "<div class=\"ansiout\"></div>"
      ]
     },
     "metadata": {
      "application/vnd.databricks.v1+output": {
       "addedWidgets": {},
       "arguments": {},
       "data": "<div class=\"ansiout\"></div>",
       "datasetInfos": [],
       "metadata": {},
       "removedWidgets": [],
       "type": "html"
      }
     },
     "output_type": "display_data"
    }
   ],
   "source": [
    "# Dataframe must have columns \"ds\" and \"y\" with the dates and values, thus renaming column\n",
    "\n",
    "TS_DF = TS_DF.rename(columns={\"Date\": \"ds\", \"Daily_Trips\": \"y\"})"
   ]
  },
  {
   "cell_type": "code",
   "execution_count": 0,
   "metadata": {
    "application/vnd.databricks.v1+cell": {
     "inputWidgets": {},
     "nuid": "de06893c-8ae4-488a-a859-a19a8322f75d",
     "showTitle": false,
     "title": ""
    }
   },
   "outputs": [
    {
     "data": {
      "text/html": [
       "<style scoped>\n",
       "  .ansiout {\n",
       "    display: block;\n",
       "    unicode-bidi: embed;\n",
       "    white-space: pre-wrap;\n",
       "    word-wrap: break-word;\n",
       "    word-break: break-all;\n",
       "    font-family: \"Source Code Pro\", \"Menlo\", monospace;;\n",
       "    font-size: 13px;\n",
       "    color: #555;\n",
       "    margin-left: 4px;\n",
       "    line-height: 19px;\n",
       "  }\n",
       "</style>\n",
       "<div class=\"ansiout\">Out[75]: &lt;fbprophet.forecaster.Prophet at 0x7f86f89e1fa0&gt;</div>"
      ]
     },
     "metadata": {
      "application/vnd.databricks.v1+output": {
       "addedWidgets": {},
       "arguments": {},
       "data": "<div class=\"ansiout\">Out[75]: &lt;fbprophet.forecaster.Prophet at 0x7f86f89e1fa0&gt;</div>",
       "datasetInfos": [],
       "metadata": {},
       "removedWidgets": [],
       "type": "html"
      }
     },
     "output_type": "display_data"
    }
   ],
   "source": [
    "# Instantiate the model and set parameters\n",
    "\n",
    "model = Prophet( \n",
    "    interval_width=0.95,\n",
    "    growth='linear',\n",
    "    daily_seasonality=True,\n",
    "    weekly_seasonality=True,\n",
    "    yearly_seasonality=False,\n",
    "    seasonality_mode='additive')\n",
    " \n",
    "# Fit the model to historical data\n",
    "model.fit(TS_DF)"
   ]
  },
  {
   "cell_type": "code",
   "execution_count": 0,
   "metadata": {
    "application/vnd.databricks.v1+cell": {
     "inputWidgets": {},
     "nuid": "cc8fa2bf-eaf2-47ac-a470-31658e26fd00",
     "showTitle": false,
     "title": ""
    }
   },
   "outputs": [
    {
     "data": {
      "text/html": [
       "<style scoped>\n",
       "  .ansiout {\n",
       "    display: block;\n",
       "    unicode-bidi: embed;\n",
       "    white-space: pre-wrap;\n",
       "    word-wrap: break-word;\n",
       "    word-break: break-all;\n",
       "    font-family: \"Source Code Pro\", \"Menlo\", monospace;;\n",
       "    font-size: 13px;\n",
       "    color: #555;\n",
       "    margin-left: 4px;\n",
       "    line-height: 19px;\n",
       "  }\n",
       "</style>\n",
       "<div class=\"ansiout\"></div>"
      ]
     },
     "metadata": {
      "application/vnd.databricks.v1+output": {
       "addedWidgets": {},
       "arguments": {},
       "data": "<div class=\"ansiout\"></div>",
       "datasetInfos": [],
       "metadata": {},
       "removedWidgets": [],
       "type": "html"
      }
     },
     "output_type": "display_data"
    }
   ],
   "source": [
    "future_pd = model.make_future_dataframe(\n",
    "    periods=183,\n",
    "    freq='d',\n",
    "    include_history=True\n",
    ")\n",
    "\n",
    "# Predict over the dataset\n",
    "forecast_pd = model.predict(future_pd)"
   ]
  },
  {
   "cell_type": "code",
   "execution_count": 0,
   "metadata": {
    "application/vnd.databricks.v1+cell": {
     "inputWidgets": {},
     "nuid": "8690d937-2f45-44b7-bf60-1212d4477242",
     "showTitle": false,
     "title": ""
    }
   },
   "outputs": [
    {
     "data": {
      "image/png": "[encoded data removed]"
     },
     "metadata": {
      "application/vnd.databricks.v1+output": {
       "addedWidgets": {},
       "arguments": {},
       "data": "/plots/54cf9aef-5868-444b-bfe3-0f8e5fcbcd40.png",
       "datasetInfos": [],
       "metadata": {},
       "removedWidgets": [],
       "type": "image"
      }
     },
     "output_type": "display_data"
    }
   ],
   "source": [
    "predict_fig = model.plot(forecast_pd, xlabel='Date', ylabel=\"Total_Daily_Trips(Miles)\")\n",
    "display(predict_fig)"
   ]
  },
  {
   "cell_type": "code",
   "execution_count": 0,
   "metadata": {
    "application/vnd.databricks.v1+cell": {
     "inputWidgets": {},
     "nuid": "22c6b611-990f-40e0-b606-4a6e0abf53e6",
     "showTitle": false,
     "title": ""
    }
   },
   "outputs": [
    {
     "data": {
      "text/html": [
       "<style scoped>\n",
       "  .ansiout {\n",
       "    display: block;\n",
       "    unicode-bidi: embed;\n",
       "    white-space: pre-wrap;\n",
       "    word-wrap: break-word;\n",
       "    word-break: break-all;\n",
       "    font-family: \"Source Code Pro\", \"Menlo\", monospace;;\n",
       "    font-size: 13px;\n",
       "    color: #555;\n",
       "    margin-left: 4px;\n",
       "    line-height: 19px;\n",
       "  }\n",
       "</style>\n",
       "<div class=\"ansiout\"></div>"
      ]
     },
     "metadata": {
      "application/vnd.databricks.v1+output": {
       "addedWidgets": {},
       "arguments": {},
       "data": "<div class=\"ansiout\"></div>",
       "datasetInfos": [],
       "metadata": {},
       "removedWidgets": [],
       "type": "html"
      }
     },
     "output_type": "display_data"
    }
   ],
   "source": [
    "forecast_result = forecast_pd[['ds', 'yhat', 'yhat_lower', 'yhat_upper']]"
   ]
  },
  {
   "cell_type": "code",
   "execution_count": 0,
   "metadata": {
    "application/vnd.databricks.v1+cell": {
     "inputWidgets": {},
     "nuid": "bdc3697f-65d4-4363-8786-fcd4848b5d7c",
     "showTitle": false,
     "title": ""
    }
   },
   "outputs": [
    {
     "data": {
      "text/html": [
       "<style scoped>\n",
       "  .ansiout {\n",
       "    display: block;\n",
       "    unicode-bidi: embed;\n",
       "    white-space: pre-wrap;\n",
       "    word-wrap: break-word;\n",
       "    word-break: break-all;\n",
       "    font-family: \"Source Code Pro\", \"Menlo\", monospace;;\n",
       "    font-size: 13px;\n",
       "    color: #555;\n",
       "    margin-left: 4px;\n",
       "    line-height: 19px;\n",
       "  }\n",
       "</style>\n",
       "<div class=\"ansiout\"></div>"
      ]
     },
     "metadata": {
      "application/vnd.databricks.v1+output": {
       "addedWidgets": {},
       "arguments": {},
       "data": "<div class=\"ansiout\"></div>",
       "datasetInfos": [],
       "metadata": {},
       "removedWidgets": [],
       "type": "html"
      }
     },
     "output_type": "display_data"
    }
   ],
   "source": [
    "forecast_result = forecast_result.rename(columns={\"ds\": \"TimeStamp\", 'yhat': \"forecast\", 'yhat_lower': \"Lower_bound\", 'yhat_upper': \"Upper_bound\"})"
   ]
  },
  {
   "cell_type": "code",
   "execution_count": 0,
   "metadata": {
    "application/vnd.databricks.v1+cell": {
     "inputWidgets": {},
     "nuid": "e8667913-4890-4f37-8247-e8286fe21eb2",
     "showTitle": false,
     "title": ""
    }
   },
   "outputs": [
    {
     "data": {
      "text/html": [
       "<style scoped>\n",
       "  .ansiout {\n",
       "    display: block;\n",
       "    unicode-bidi: embed;\n",
       "    white-space: pre-wrap;\n",
       "    word-wrap: break-word;\n",
       "    word-break: break-all;\n",
       "    font-family: \"Source Code Pro\", \"Menlo\", monospace;;\n",
       "    font-size: 13px;\n",
       "    color: #555;\n",
       "    margin-left: 4px;\n",
       "    line-height: 19px;\n",
       "  }\n",
       "</style>\n",
       "<div class=\"ansiout\">Out[85]: </div>"
      ]
     },
     "metadata": {
      "application/vnd.databricks.v1+output": {
       "addedWidgets": {},
       "arguments": {},
       "data": "<div class=\"ansiout\">Out[85]: </div>",
       "datasetInfos": [],
       "metadata": {},
       "removedWidgets": [],
       "type": "html"
      }
     },
     "output_type": "display_data"
    },
    {
     "data": {
      "text/html": [
       "<div>\n",
       "<style scoped>\n",
       "    .dataframe tbody tr th:only-of-type {\n",
       "        vertical-align: middle;\n",
       "    }\n",
       "\n",
       "    .dataframe tbody tr th {\n",
       "        vertical-align: top;\n",
       "    }\n",
       "\n",
       "    .dataframe thead th {\n",
       "        text-align: right;\n",
       "    }\n",
       "</style>\n",
       "<table border=\"1\" class=\"dataframe\">\n",
       "  <thead>\n",
       "    <tr style=\"text-align: right;\">\n",
       "      <th></th>\n",
       "      <th>TimeStamp</th>\n",
       "      <th>forecast</th>\n",
       "      <th>Lower_bound</th>\n",
       "      <th>Upper_bound</th>\n",
       "    </tr>\n",
       "  </thead>\n",
       "  <tbody>\n",
       "    <tr>\n",
       "      <th>539</th>\n",
       "      <td>2021-06-23</td>\n",
       "      <td>215486.944396</td>\n",
       "      <td>-171153.848105</td>\n",
       "      <td>565187.297295</td>\n",
       "    </tr>\n",
       "    <tr>\n",
       "      <th>540</th>\n",
       "      <td>2021-06-24</td>\n",
       "      <td>224050.166001</td>\n",
       "      <td>-157202.715873</td>\n",
       "      <td>572361.249971</td>\n",
       "    </tr>\n",
       "    <tr>\n",
       "      <th>541</th>\n",
       "      <td>2021-06-25</td>\n",
       "      <td>226660.842339</td>\n",
       "      <td>-191687.189124</td>\n",
       "      <td>578905.697354</td>\n",
       "    </tr>\n",
       "    <tr>\n",
       "      <th>542</th>\n",
       "      <td>2021-06-26</td>\n",
       "      <td>203196.289593</td>\n",
       "      <td>-198231.552438</td>\n",
       "      <td>555902.002130</td>\n",
       "    </tr>\n",
       "    <tr>\n",
       "      <th>543</th>\n",
       "      <td>2021-06-27</td>\n",
       "      <td>194381.199480</td>\n",
       "      <td>-210392.620794</td>\n",
       "      <td>577380.581907</td>\n",
       "    </tr>\n",
       "    <tr>\n",
       "      <th>544</th>\n",
       "      <td>2021-06-28</td>\n",
       "      <td>205261.835796</td>\n",
       "      <td>-189324.816720</td>\n",
       "      <td>551611.033289</td>\n",
       "    </tr>\n",
       "    <tr>\n",
       "      <th>545</th>\n",
       "      <td>2021-06-29</td>\n",
       "      <td>213372.179540</td>\n",
       "      <td>-191519.469139</td>\n",
       "      <td>583776.421670</td>\n",
       "    </tr>\n",
       "    <tr>\n",
       "      <th>546</th>\n",
       "      <td>2021-06-30</td>\n",
       "      <td>218585.932633</td>\n",
       "      <td>-214090.579308</td>\n",
       "      <td>568764.230938</td>\n",
       "    </tr>\n",
       "    <tr>\n",
       "      <th>547</th>\n",
       "      <td>2021-07-01</td>\n",
       "      <td>227149.154238</td>\n",
       "      <td>-171824.290064</td>\n",
       "      <td>591417.733581</td>\n",
       "    </tr>\n",
       "    <tr>\n",
       "      <th>548</th>\n",
       "      <td>2021-07-02</td>\n",
       "      <td>229759.830576</td>\n",
       "      <td>-179827.133370</td>\n",
       "      <td>603672.803350</td>\n",
       "    </tr>\n",
       "  </tbody>\n",
       "</table>\n",
       "</div>"
      ]
     },
     "metadata": {
      "application/vnd.databricks.v1+output": {
       "addedWidgets": {},
       "arguments": {},
       "data": "<div>\n<style scoped>\n    .dataframe tbody tr th:only-of-type {\n        vertical-align: middle;\n    }\n\n    .dataframe tbody tr th {\n        vertical-align: top;\n    }\n\n    .dataframe thead th {\n        text-align: right;\n    }\n</style>\n<table border=\"1\" class=\"dataframe\">\n  <thead>\n    <tr style=\"text-align: right;\">\n      <th></th>\n      <th>TimeStamp</th>\n      <th>forecast</th>\n      <th>Lower_bound</th>\n      <th>Upper_bound</th>\n    </tr>\n  </thead>\n  <tbody>\n    <tr>\n      <th>539</th>\n      <td>2021-06-23</td>\n      <td>215486.944396</td>\n      <td>-171153.848105</td>\n      <td>565187.297295</td>\n    </tr>\n    <tr>\n      <th>540</th>\n      <td>2021-06-24</td>\n      <td>224050.166001</td>\n      <td>-157202.715873</td>\n      <td>572361.249971</td>\n    </tr>\n    <tr>\n      <th>541</th>\n      <td>2021-06-25</td>\n      <td>226660.842339</td>\n      <td>-191687.189124</td>\n      <td>578905.697354</td>\n    </tr>\n    <tr>\n      <th>542</th>\n      <td>2021-06-26</td>\n      <td>203196.289593</td>\n      <td>-198231.552438</td>\n      <td>555902.002130</td>\n    </tr>\n    <tr>\n      <th>543</th>\n      <td>2021-06-27</td>\n      <td>194381.199480</td>\n      <td>-210392.620794</td>\n      <td>577380.581907</td>\n    </tr>\n    <tr>\n      <th>544</th>\n      <td>2021-06-28</td>\n      <td>205261.835796</td>\n      <td>-189324.816720</td>\n      <td>551611.033289</td>\n    </tr>\n    <tr>\n      <th>545</th>\n      <td>2021-06-29</td>\n      <td>213372.179540</td>\n      <td>-191519.469139</td>\n      <td>583776.421670</td>\n    </tr>\n    <tr>\n      <th>546</th>\n      <td>2021-06-30</td>\n      <td>218585.932633</td>\n      <td>-214090.579308</td>\n      <td>568764.230938</td>\n    </tr>\n    <tr>\n      <th>547</th>\n      <td>2021-07-01</td>\n      <td>227149.154238</td>\n      <td>-171824.290064</td>\n      <td>591417.733581</td>\n    </tr>\n    <tr>\n      <th>548</th>\n      <td>2021-07-02</td>\n      <td>229759.830576</td>\n      <td>-179827.133370</td>\n      <td>603672.803350</td>\n    </tr>\n  </tbody>\n</table>\n</div>",
       "datasetInfos": [],
       "metadata": {},
       "removedWidgets": [],
       "textData": null,
       "type": "htmlSandbox"
      }
     },
     "output_type": "display_data"
    }
   ],
   "source": [
    "forecast_result.tail(10)"
   ]
  }
 ],
 "metadata": {
  "application/vnd.databricks.v1+notebook": {
   "dashboards": [],
   "language": "python",
   "notebookMetadata": {
    "pythonIndentUnit": 2
   },
   "notebookName": "NYC",
   "notebookOrigID": 866290699901577,
   "widgets": {}
  },
  "kernelspec": {
   "display_name": "Python 3",
   "language": "python",
   "name": "python3"
  },
  "language_info": {
   "codemirror_mode": {
    "name": "ipython",
    "version": 3
   },
   "file_extension": ".py",
   "mimetype": "text/x-python",
   "name": "python",
   "nbconvert_exporter": "python",
   "pygments_lexer": "ipython3",
   "version": "3.8.5"
  }
 },
 "nbformat": 4,
 "nbformat_minor": 1
}
